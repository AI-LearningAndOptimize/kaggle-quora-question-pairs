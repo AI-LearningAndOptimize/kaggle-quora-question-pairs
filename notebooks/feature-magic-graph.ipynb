{
 "cells": [
  {
   "cell_type": "markdown",
   "metadata": {},
   "source": [
    "## Imports"
   ]
  },
  {
   "cell_type": "code",
   "execution_count": 1,
   "metadata": {
    "collapsed": true
   },
   "outputs": [],
   "source": [
    "from operator import itemgetter"
   ]
  },
  {
   "cell_type": "code",
   "execution_count": 2,
   "metadata": {
    "collapsed": true
   },
   "outputs": [],
   "source": [
    "import networkx as nx"
   ]
  },
  {
   "cell_type": "markdown",
   "metadata": {},
   "source": [
    "## Config"
   ]
  },
  {
   "cell_type": "code",
   "execution_count": 3,
   "metadata": {
    "collapsed": true
   },
   "outputs": [],
   "source": [
    "feature_list_id = 'magic_graph'"
   ]
  },
  {
   "cell_type": "markdown",
   "metadata": {},
   "source": [
    "## Read Data"
   ]
  },
  {
   "cell_type": "code",
   "execution_count": 4,
   "metadata": {
    "collapsed": true
   },
   "outputs": [],
   "source": [
    "feature_lists = [\n",
    "    'extrapolated_qid_raw',\n",
    "]"
   ]
  },
  {
   "cell_type": "code",
   "execution_count": 5,
   "metadata": {
    "collapsed": true
   },
   "outputs": [],
   "source": [
    "X_train, X_test, _ = load_feature_lists(feature_lists)"
   ]
  },
  {
   "cell_type": "markdown",
   "metadata": {},
   "source": [
    "## Build Features"
   ]
  },
  {
   "cell_type": "code",
   "execution_count": 6,
   "metadata": {
    "collapsed": true
   },
   "outputs": [],
   "source": [
    "def create_graph(df):\n",
    "    g = nx.Graph()\n",
    "    g.add_nodes_from(df['extrapolated_id_q1'])\n",
    "\n",
    "    edges = list(df[['extrapolated_id_q1', 'extrapolated_id_q2']].to_records(index=False))\n",
    "\n",
    "    g.add_edges_from(edges)\n",
    "    g.remove_edges_from(g.selfloop_edges())\n",
    "    \n",
    "    return g"
   ]
  },
  {
   "cell_type": "code",
   "execution_count": 7,
   "metadata": {
    "collapsed": true
   },
   "outputs": [],
   "source": [
    "df = pd.concat([X_train, X_test])"
   ]
  },
  {
   "cell_type": "code",
   "execution_count": 8,
   "metadata": {
    "collapsed": true
   },
   "outputs": [],
   "source": [
    "q1_vc = df['extrapolated_id_q1'].value_counts().to_dict()\n",
    "q2_vc = df['extrapolated_id_q2'].value_counts().to_dict()"
   ]
  },
  {
   "cell_type": "code",
   "execution_count": 9,
   "metadata": {
    "collapsed": true
   },
   "outputs": [],
   "source": [
    "def get_question_frequency(qid):\n",
    "    return q1_vc.get(qid, 0) + q2_vc.get(qid, 0)"
   ]
  },
  {
   "cell_type": "code",
   "execution_count": 10,
   "metadata": {
    "collapsed": true
   },
   "outputs": [],
   "source": [
    "graph = create_graph(df)"
   ]
  },
  {
   "cell_type": "code",
   "execution_count": 11,
   "metadata": {
    "collapsed": true
   },
   "outputs": [],
   "source": [
    "connected_component_frequency_cache = {}"
   ]
  },
  {
   "cell_type": "code",
   "execution_count": 12,
   "metadata": {
    "collapsed": true
   },
   "outputs": [],
   "source": [
    "def get_connected_component_frequency(qid):\n",
    "    if qid in connected_component_frequency_cache:\n",
    "        return connected_component_frequency_cache[qid]\n",
    "    \n",
    "    component = nx.node_connected_component(graph, qid)\n",
    "    total_freq = sum(\n",
    "        get_question_frequency(node)\n",
    "        for node in component\n",
    "    )\n",
    "    avg_freq = total_freq / len(component)\n",
    "    result = [len(component), total_freq, avg_freq]\n",
    "    \n",
    "    for node in component:\n",
    "        connected_component_frequency_cache[node] = result\n",
    "    \n",
    "    return result"
   ]
  },
  {
   "cell_type": "code",
   "execution_count": 13,
   "metadata": {},
   "outputs": [],
   "source": [
    "cc_freqs = df['extrapolated_id_q1'].map(get_connected_component_frequency)"
   ]
  },
  {
   "cell_type": "code",
   "execution_count": 14,
   "metadata": {},
   "outputs": [],
   "source": [
    "df['graph_cc_size'] = cc_freqs.map(itemgetter(0))\n",
    "df['graph_cc_freq_total'] = cc_freqs.map(itemgetter(1))\n",
    "df['graph_cc_freq_avg'] = cc_freqs.map(itemgetter(2))"
   ]
  },
  {
   "cell_type": "code",
   "execution_count": 15,
   "metadata": {},
   "outputs": [
    {
     "data": {
      "text/html": [
       "<div>\n",
       "<table border=\"1\" class=\"dataframe\">\n",
       "  <thead>\n",
       "    <tr style=\"text-align: right;\">\n",
       "      <th></th>\n",
       "      <th>extrapolated_id_q1</th>\n",
       "      <th>extrapolated_id_q2</th>\n",
       "      <th>graph_cc_size</th>\n",
       "      <th>graph_cc_freq_total</th>\n",
       "      <th>graph_cc_freq_avg</th>\n",
       "    </tr>\n",
       "  </thead>\n",
       "  <tbody>\n",
       "    <tr>\n",
       "      <th>0</th>\n",
       "      <td>0</td>\n",
       "      <td>1</td>\n",
       "      <td>3</td>\n",
       "      <td>4</td>\n",
       "      <td>1.333333</td>\n",
       "    </tr>\n",
       "    <tr>\n",
       "      <th>1</th>\n",
       "      <td>2</td>\n",
       "      <td>3</td>\n",
       "      <td>16</td>\n",
       "      <td>30</td>\n",
       "      <td>1.875000</td>\n",
       "    </tr>\n",
       "    <tr>\n",
       "      <th>2</th>\n",
       "      <td>4</td>\n",
       "      <td>5</td>\n",
       "      <td>3</td>\n",
       "      <td>4</td>\n",
       "      <td>1.333333</td>\n",
       "    </tr>\n",
       "    <tr>\n",
       "      <th>3</th>\n",
       "      <td>6</td>\n",
       "      <td>7</td>\n",
       "      <td>2</td>\n",
       "      <td>2</td>\n",
       "      <td>1.000000</td>\n",
       "    </tr>\n",
       "    <tr>\n",
       "      <th>4</th>\n",
       "      <td>8</td>\n",
       "      <td>9</td>\n",
       "      <td>10</td>\n",
       "      <td>18</td>\n",
       "      <td>1.800000</td>\n",
       "    </tr>\n",
       "    <tr>\n",
       "      <th>5</th>\n",
       "      <td>10</td>\n",
       "      <td>11</td>\n",
       "      <td>2</td>\n",
       "      <td>2</td>\n",
       "      <td>1.000000</td>\n",
       "    </tr>\n",
       "    <tr>\n",
       "      <th>6</th>\n",
       "      <td>12</td>\n",
       "      <td>13</td>\n",
       "      <td>2</td>\n",
       "      <td>2</td>\n",
       "      <td>1.000000</td>\n",
       "    </tr>\n",
       "    <tr>\n",
       "      <th>7</th>\n",
       "      <td>14</td>\n",
       "      <td>15</td>\n",
       "      <td>2</td>\n",
       "      <td>2</td>\n",
       "      <td>1.000000</td>\n",
       "    </tr>\n",
       "    <tr>\n",
       "      <th>8</th>\n",
       "      <td>16</td>\n",
       "      <td>17</td>\n",
       "      <td>11</td>\n",
       "      <td>24</td>\n",
       "      <td>2.181818</td>\n",
       "    </tr>\n",
       "    <tr>\n",
       "      <th>9</th>\n",
       "      <td>18</td>\n",
       "      <td>19</td>\n",
       "      <td>2</td>\n",
       "      <td>2</td>\n",
       "      <td>1.000000</td>\n",
       "    </tr>\n",
       "    <tr>\n",
       "      <th>10</th>\n",
       "      <td>20</td>\n",
       "      <td>21</td>\n",
       "      <td>2</td>\n",
       "      <td>2</td>\n",
       "      <td>1.000000</td>\n",
       "    </tr>\n",
       "    <tr>\n",
       "      <th>11</th>\n",
       "      <td>22</td>\n",
       "      <td>23</td>\n",
       "      <td>3</td>\n",
       "      <td>4</td>\n",
       "      <td>1.333333</td>\n",
       "    </tr>\n",
       "    <tr>\n",
       "      <th>12</th>\n",
       "      <td>24</td>\n",
       "      <td>25</td>\n",
       "      <td>3</td>\n",
       "      <td>6</td>\n",
       "      <td>2.000000</td>\n",
       "    </tr>\n",
       "    <tr>\n",
       "      <th>13</th>\n",
       "      <td>26</td>\n",
       "      <td>27</td>\n",
       "      <td>5</td>\n",
       "      <td>10</td>\n",
       "      <td>2.000000</td>\n",
       "    </tr>\n",
       "    <tr>\n",
       "      <th>14</th>\n",
       "      <td>28</td>\n",
       "      <td>29</td>\n",
       "      <td>13</td>\n",
       "      <td>36</td>\n",
       "      <td>2.769231</td>\n",
       "    </tr>\n",
       "  </tbody>\n",
       "</table>\n",
       "</div>"
      ],
      "text/plain": [
       "    extrapolated_id_q1  extrapolated_id_q2  graph_cc_size  \\\n",
       "0                    0                   1              3   \n",
       "1                    2                   3             16   \n",
       "2                    4                   5              3   \n",
       "3                    6                   7              2   \n",
       "4                    8                   9             10   \n",
       "5                   10                  11              2   \n",
       "6                   12                  13              2   \n",
       "7                   14                  15              2   \n",
       "8                   16                  17             11   \n",
       "9                   18                  19              2   \n",
       "10                  20                  21              2   \n",
       "11                  22                  23              3   \n",
       "12                  24                  25              3   \n",
       "13                  26                  27              5   \n",
       "14                  28                  29             13   \n",
       "\n",
       "    graph_cc_freq_total  graph_cc_freq_avg  \n",
       "0                     4           1.333333  \n",
       "1                    30           1.875000  \n",
       "2                     4           1.333333  \n",
       "3                     2           1.000000  \n",
       "4                    18           1.800000  \n",
       "5                     2           1.000000  \n",
       "6                     2           1.000000  \n",
       "7                     2           1.000000  \n",
       "8                    24           2.181818  \n",
       "9                     2           1.000000  \n",
       "10                    2           1.000000  \n",
       "11                    4           1.333333  \n",
       "12                    6           2.000000  \n",
       "13                   10           2.000000  \n",
       "14                   36           2.769231  "
      ]
     },
     "execution_count": 15,
     "metadata": {},
     "output_type": "execute_result"
    }
   ],
   "source": [
    "df.head(15)"
   ]
  },
  {
   "cell_type": "code",
   "execution_count": 16,
   "metadata": {
    "collapsed": true
   },
   "outputs": [],
   "source": [
    "X_train = df[:len(X_train)]\n",
    "X_test = df[len(X_train):]"
   ]
  },
  {
   "cell_type": "markdown",
   "metadata": {},
   "source": [
    "## Save feature names"
   ]
  },
  {
   "cell_type": "code",
   "execution_count": 17,
   "metadata": {
    "collapsed": true
   },
   "outputs": [],
   "source": [
    "columns_to_keep = [\n",
    "    'graph_cc_size',\n",
    "    'graph_cc_freq_total',\n",
    "    'graph_cc_freq_avg',\n",
    "]"
   ]
  },
  {
   "cell_type": "code",
   "execution_count": 18,
   "metadata": {},
   "outputs": [],
   "source": [
    "X_train = X_train[columns_to_keep]\n",
    "X_test = X_test[columns_to_keep]"
   ]
  },
  {
   "cell_type": "code",
   "execution_count": 19,
   "metadata": {
    "collapsed": true
   },
   "outputs": [],
   "source": [
    "feature_names = [\n",
    "    'magic_graph_cc_size',\n",
    "    'magic_graph_cc_freq_total',\n",
    "    'magic_graph_cc_freq_avg',\n",
    "]"
   ]
  },
  {
   "cell_type": "code",
   "execution_count": 20,
   "metadata": {
    "collapsed": true
   },
   "outputs": [],
   "source": [
    "save_lines(feature_names, features_data_folder + f'X_train_{feature_list_id}.names')"
   ]
  },
  {
   "cell_type": "markdown",
   "metadata": {},
   "source": [
    "## Save features"
   ]
  },
  {
   "cell_type": "code",
   "execution_count": 21,
   "metadata": {
    "collapsed": true
   },
   "outputs": [],
   "source": [
    "save(X_train.values, features_data_folder + f'X_train_{feature_list_id}.pickle')"
   ]
  },
  {
   "cell_type": "code",
   "execution_count": 22,
   "metadata": {
    "collapsed": true
   },
   "outputs": [],
   "source": [
    "save(X_test.values, features_data_folder + f'X_test_{feature_list_id}.pickle')"
   ]
  },
  {
   "cell_type": "code",
   "execution_count": 23,
   "metadata": {},
   "outputs": [
    {
     "data": {
      "text/plain": [
       "<matplotlib.axes._subplots.AxesSubplot at 0x7ff7f2b2b0f0>"
      ]
     },
     "execution_count": 23,
     "metadata": {},
     "output_type": "execute_result"
    },
    {
     "data": {
      "image/png": "[encoded data removed]",
      "text/plain": [
       "<matplotlib.figure.Figure at 0x7ff7f3839d30>"
      ]
     },
     "metadata": {},
     "output_type": "display_data"
    }
   ],
   "source": [
    "X_train.plot.hist()"
   ]
  },
  {
   "cell_type": "code",
   "execution_count": 24,
   "metadata": {},
   "outputs": [
    {
     "data": {
      "text/plain": [
       "<matplotlib.axes._subplots.AxesSubplot at 0x7ff7ebcb0ac8>"
      ]
     },
     "execution_count": 24,
     "metadata": {},
     "output_type": "execute_result"
    },
    {
     "data": {
      "image/png": "[encoded data removed]",
      "text/plain": [
       "<matplotlib.figure.Figure at 0x7ff7f38398d0>"
      ]
     },
     "metadata": {},
     "output_type": "display_data"
    }
   ],
   "source": [
    "X_test.plot.hist()"
   ]
  }
 ],
 "metadata": {
  "kernelspec": {
   "display_name": "Python 3",
   "language": "python",
   "name": "python3"
  },
  "language_info": {
   "codemirror_mode": {
    "name": "ipython",
    "version": 3
   },
   "file_extension": ".py",
   "mimetype": "text/x-python",
   "name": "python",
   "nbconvert_exporter": "python",
   "pygments_lexer": "ipython3",
   "version": "3.6.0"
  },
  "widgets": {
   "state": {
    "068574a6e5cf4bfb8a8766f228dc3517": {
     "views": [
      {
       "cell_index": 28
      }
     ]
    },
    "09c14bf4363c4816ac7017c9965fc1bd": {
     "views": [
      {
       "cell_index": 28
      }
     ]
    },
    "15522c84f8174a5e9751c5c25803fcf5": {
     "views": [
      {
       "cell_index": 23
      }
     ]
    },
    "21cc92d9f9a64f92a6043a0c8a12a657": {
     "views": [
      {
       "cell_index": 23
      }
     ]
    },
    "21eeeabc43bb4199a1048aa4584d353c": {
     "views": [
      {
       "cell_index": 23
      }
     ]
    },
    "25e9905debef47fcb005c8d696680424": {
     "views": [
      {
       "cell_index": 23
      }
     ]
    },
    "2b0e90300a1f4ab28be065bbc3864b80": {
     "views": [
      {
       "cell_index": 23
      }
     ]
    },
    "2d1133ed035d49a68c98a6b18b178656": {
     "views": [
      {
       "cell_index": 23
      }
     ]
    },
    "394af33ab0d044268d4eeb73139f7b37": {
     "views": [
      {
       "cell_index": 23
      }
     ]
    },
    "3e588e54a6414b95ba816c41081e31d6": {
     "views": [
      {
       "cell_index": 28
      }
     ]
    },
    "4bba185d13a14d698a61f3e3519c63fd": {
     "views": [
      {
       "cell_index": 23
      }
     ]
    },
    "679a1f080a154ceeb9e2609a1ce71704": {
     "views": [
      {
       "cell_index": 28
      }
     ]
    },
    "6e1256e2abe74c0ab4b0dc5ddf2b7bc6": {
     "views": [
      {
       "cell_index": 28
      }
     ]
    },
    "8c7b849999b147aa9a6a101c1a53e338": {
     "views": [
      {
       "cell_index": 23
      }
     ]
    },
    "8dd895d7431b4967aa0c4d03c46c8127": {
     "views": [
      {
       "cell_index": 28
      }
     ]
    },
    "916040f5b64345abaac3f238416ab1c9": {
     "views": [
      {
       "cell_index": 28
      }
     ]
    },
    "9987ad0d05564b4f95e00b2ea39765df": {
     "views": [
      {
       "cell_index": 23
      }
     ]
    },
    "a2d1c3889f0e45fdbec97496fc4ad878": {
     "views": [
      {
       "cell_index": 28
      }
     ]
    },
    "aff6ddc72148443da10a73512c0982a1": {
     "views": [
      {
       "cell_index": 28
      }
     ]
    },
    "b1ff32f69dae4892a732a8adef6344fc": {
     "views": [
      {
       "cell_index": 28
      }
     ]
    },
    "b4e83e55092a4250ba23a885609e8400": {
     "views": [
      {
       "cell_index": 28
      }
     ]
    },
    "b98e54779e534a9689ac3aaffbfd5a6c": {
     "views": [
      {
       "cell_index": 23
      }
     ]
    },
    "bad51d2b7d1c427e86c66dadb743fc4b": {
     "views": [
      {
       "cell_index": 23
      }
     ]
    },
    "c2e66ab21ab84c709264eef184db1509": {
     "views": [
      {
       "cell_index": 23
      }
     ]
    },
    "c42eaf61b2604250928b0d505c4c6413": {
     "views": [
      {
       "cell_index": 28
      }
     ]
    },
    "cd66b0f3b4bf49a5bcd1db0a2c3f452d": {
     "views": [
      {
       "cell_index": 28
      }
     ]
    },
    "d5c8503f198d4a0d856487c566a5ae43": {
     "views": [
      {
       "cell_index": 28
      }
     ]
    },
    "e124726908104334ba3324eb86f09bc4": {
     "views": [
      {
       "cell_index": 23
      }
     ]
    },
    "eef21b8574c04fb4a0ee907064b8a635": {
     "views": [
      {
       "cell_index": 23
      }
     ]
    },
    "fda965ad56df4353b6e963d29e3f1700": {
     "views": [
      {
       "cell_index": 23
      }
     ]
    }
   },
   "version": "1.2.0"
  }
 },
 "nbformat": 4,
 "nbformat_minor": 2
}
