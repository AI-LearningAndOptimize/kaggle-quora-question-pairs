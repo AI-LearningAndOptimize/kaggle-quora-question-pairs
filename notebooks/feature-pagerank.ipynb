{
 "cells": [
  {
   "cell_type": "code",
   "execution_count": null,
   "metadata": {
    "collapsed": true
   },
   "outputs": [],
   "source": [
    "import pandas as pd\n",
    "import hashlib\n",
    "import gc "
   ]
  },
  {
   "cell_type": "code",
   "execution_count": null,
   "metadata": {
    "collapsed": true
   },
   "outputs": [],
   "source": [
    "df_train = pd.read_csv(data_folder + 'train.csv').fillna(\"\")\n",
    "df_test = pd.read_csv(data_folder + 'test.csv').fillna(\"\")"
   ]
  },
  {
   "cell_type": "code",
   "execution_count": null,
   "metadata": {
    "collapsed": true
   },
   "outputs": [],
   "source": [
    "# Generating a graph of Questions and their neighbors\n",
    "def generate_qid_graph_table(row):\n",
    "    hash_key1 = hashlib.md5(row[\"question1\"].encode('utf-8')).hexdigest()\n",
    "    hash_key2 = hashlib.md5(row[\"question2\"].encode('utf-8')).hexdigest()\n",
    "\n",
    "    qid_graph.setdefault(hash_key1, []).append(hash_key2)\n",
    "    qid_graph.setdefault(hash_key2, []).append(hash_key1)"
   ]
  },
  {
   "cell_type": "code",
   "execution_count": null,
   "metadata": {},
   "outputs": [],
   "source": [
    "qid_graph = {}\n",
    "print('Apply to train...')\n",
    "df_train.apply(generate_qid_graph_table, axis=1)\n",
    "print('Apply to test...')\n",
    "df_test.apply(generate_qid_graph_table, axis=1)"
   ]
  },
  {
   "cell_type": "code",
   "execution_count": null,
   "metadata": {
    "collapsed": true
   },
   "outputs": [],
   "source": [
    "def pagerank():\n",
    "    MAX_ITER = 20\n",
    "    d = 0.85\n",
    "\n",
    "    # Initializing -- every node gets a uniform value!\n",
    "    pagerank_dict = {i: 1 / len(qid_graph) for i in qid_graph}\n",
    "    num_nodes = len(pagerank_dict)\n",
    "\n",
    "    for iter in range(0, MAX_ITER):\n",
    "\n",
    "        for node in qid_graph:\n",
    "            local_pr = 0\n",
    "\n",
    "            for neighbor in qid_graph[node]:\n",
    "                local_pr += pagerank_dict[neighbor] / len(qid_graph[neighbor])\n",
    "\n",
    "            pagerank_dict[node] = (1 - d) / num_nodes + d * local_pr\n",
    "\n",
    "    return pagerank_dict"
   ]
  },
  {
   "cell_type": "code",
   "execution_count": null,
   "metadata": {},
   "outputs": [],
   "source": [
    "print('Main PR generator...')\n",
    "pagerank_dict = pagerank()"
   ]
  },
  {
   "cell_type": "code",
   "execution_count": null,
   "metadata": {
    "collapsed": true
   },
   "outputs": [],
   "source": [
    "def get_pagerank_value(row):\n",
    "    q1 = hashlib.md5(row[\"question1\"].encode('utf-8')).hexdigest()\n",
    "    q2 = hashlib.md5(row[\"question2\"].encode('utf-8')).hexdigest()\n",
    "    s = pd.Series({\n",
    "        \"q1_pr\": pagerank_dict[q1],\n",
    "        \"q2_pr\": pagerank_dict[q2]\n",
    "    })\n",
    "    return s"
   ]
  },
  {
   "cell_type": "code",
   "execution_count": null,
   "metadata": {},
   "outputs": [],
   "source": [
    "pagerank_feats_train = df_train.apply(get_pagerank_value, axis=1)"
   ]
  },
  {
   "cell_type": "code",
   "execution_count": null,
   "metadata": {},
   "outputs": [],
   "source": [
    "del df_train\n",
    "gc.collect()"
   ]
  },
  {
   "cell_type": "code",
   "execution_count": null,
   "metadata": {},
   "outputs": [],
   "source": [
    "pagerank_feats_test = df_test.apply(get_pagerank_value, axis=1)"
   ]
  },
  {
   "cell_type": "markdown",
   "metadata": {},
   "source": [
    "## Save raw PageRank"
   ]
  },
  {
   "cell_type": "code",
   "execution_count": null,
   "metadata": {
    "collapsed": true
   },
   "outputs": [],
   "source": [
    "save_feature_names(['pagerank_q1', 'pagerank_q2'], 'pagerank')"
   ]
  },
  {
   "cell_type": "code",
   "execution_count": null,
   "metadata": {
    "collapsed": true
   },
   "outputs": [],
   "source": [
    "save_feature_list(pagerank_feats_train, 'train', 'pagerank')"
   ]
  },
  {
   "cell_type": "code",
   "execution_count": null,
   "metadata": {
    "collapsed": true
   },
   "outputs": [],
   "source": [
    "save_feature_list(pagerank_feats_test, 'test', 'pagerank')"
   ]
  }
 ],
 "metadata": {
  "kernelspec": {
   "display_name": "Python 3",
   "language": "python",
   "name": "python3"
  },
  "language_info": {
   "codemirror_mode": {
    "name": "ipython",
    "version": 3
   },
   "file_extension": ".py",
   "mimetype": "text/x-python",
   "name": "python",
   "nbconvert_exporter": "python",
   "pygments_lexer": "ipython3",
   "version": "3.6.1"
  }
 },
 "nbformat": 4,
 "nbformat_minor": 2
}
