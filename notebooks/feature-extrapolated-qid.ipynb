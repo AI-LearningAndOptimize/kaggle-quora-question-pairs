{
 "cells": [
  {
   "cell_type": "markdown",
   "metadata": {},
   "source": [
    "## Imports"
   ]
  },
  {
   "cell_type": "code",
   "execution_count": null,
   "metadata": {
    "collapsed": true
   },
   "outputs": [],
   "source": []
  },
  {
   "cell_type": "markdown",
   "metadata": {},
   "source": [
    "## Config"
   ]
  },
  {
   "cell_type": "code",
   "execution_count": 1,
   "metadata": {
    "collapsed": true
   },
   "outputs": [],
   "source": [
    "feature_list_id = 'extrapolated_qid'"
   ]
  },
  {
   "cell_type": "markdown",
   "metadata": {},
   "source": [
    "## Read Data"
   ]
  },
  {
   "cell_type": "code",
   "execution_count": 2,
   "metadata": {
    "collapsed": true
   },
   "outputs": [],
   "source": [
    "df_questions_train = pd.read_csv(data_folder + 'train.csv').fillna('')\n",
    "df_questions_test = pd.read_csv(data_folder + 'test.csv').fillna('')"
   ]
  },
  {
   "cell_type": "markdown",
   "metadata": {},
   "source": [
    "## Build Features"
   ]
  },
  {
   "cell_type": "markdown",
   "metadata": {},
   "source": [
    "### Extract hashes (jturkewitz script)"
   ]
  },
  {
   "cell_type": "code",
   "execution_count": 3,
   "metadata": {
    "collapsed": true
   },
   "outputs": [],
   "source": [
    "max_id = 0"
   ]
  },
  {
   "cell_type": "code",
   "execution_count": 4,
   "metadata": {
    "collapsed": true
   },
   "outputs": [],
   "source": [
    "max_train_id = 0"
   ]
  },
  {
   "cell_type": "code",
   "execution_count": 5,
   "metadata": {
    "collapsed": true
   },
   "outputs": [],
   "source": [
    "question_hashes = {}"
   ]
  },
  {
   "cell_type": "code",
   "execution_count": 6,
   "metadata": {
    "collapsed": true
   },
   "outputs": [],
   "source": [
    "train_orig = df_questions_train\n",
    "test_orig = df_questions_test"
   ]
  },
  {
   "cell_type": "code",
   "execution_count": 7,
   "metadata": {
    "collapsed": true
   },
   "outputs": [],
   "source": [
    "questions_flattened_train = train_orig[['question1', 'question2']].values.reshape(-1,)\n",
    "questions_flattened_test = test_orig[['question1', 'question2']].values.reshape(-1,)"
   ]
  },
  {
   "cell_type": "code",
   "execution_count": 8,
   "metadata": {
    "collapsed": true
   },
   "outputs": [],
   "source": [
    "questions_flattened_train = pd.DataFrame(questions_flattened_train).drop_duplicates(keep='first').values.reshape(-1,)\n",
    "questions_flattened_test = pd.DataFrame(questions_flattened_test).drop_duplicates(keep='first').values.reshape(-1,)"
   ]
  },
  {
   "cell_type": "code",
   "execution_count": 9,
   "metadata": {
    "collapsed": true
   },
   "outputs": [],
   "source": [
    "for question in questions_flattened_train:\n",
    "    if question not in question_hashes:\n",
    "        question_hashes[question] = max_id\n",
    "        max_id += 1"
   ]
  },
  {
   "cell_type": "code",
   "execution_count": 10,
   "metadata": {
    "collapsed": true
   },
   "outputs": [],
   "source": [
    "max_train_id = max_id"
   ]
  },
  {
   "cell_type": "code",
   "execution_count": 11,
   "metadata": {
    "collapsed": true
   },
   "outputs": [],
   "source": [
    "# ratio = 507000 / len(test_orig)\n",
    "ratio = 1.0 / 6.0\n",
    "\n",
    "for question in questions_flattened_test:\n",
    "    if question not in question_hashes:\n",
    "        question_hashes[question] = max_train_id + ratio * (max_id - max_train_id)\n",
    "        max_id += 1"
   ]
  },
  {
   "cell_type": "code",
   "execution_count": 12,
   "metadata": {
    "collapsed": true
   },
   "outputs": [],
   "source": [
    "train_cp = train_orig.copy()\n",
    "test_cp = test_orig.copy()\n",
    "train_cp.drop(['qid1', 'qid2'], axis=1, inplace=True)\n",
    "\n",
    "test_cp['is_duplicate'] = -1\n",
    "test_cp.rename(columns={'test_id': 'id'}, inplace=True)\n",
    "comb = pd.concat([train_cp, test_cp])\n",
    "\n",
    "comb['q1_hash'] = comb['question1'].map(question_hashes)\n",
    "comb['q2_hash'] = comb['question2'].map(question_hashes)"
   ]
  },
  {
   "cell_type": "code",
   "execution_count": 13,
   "metadata": {
    "collapsed": true
   },
   "outputs": [],
   "source": [
    "columns_to_keep = [\n",
    "    'q1_hash',\n",
    "    'q2_hash',\n",
    "]\n",
    "\n",
    "X_train = comb[comb['is_duplicate'] >= 0][columns_to_keep]\n",
    "X_test = comb[comb['is_duplicate'] < 0][columns_to_keep]"
   ]
  },
  {
   "cell_type": "markdown",
   "metadata": {},
   "source": [
    "## Save feature names"
   ]
  },
  {
   "cell_type": "code",
   "execution_count": 14,
   "metadata": {
    "collapsed": true
   },
   "outputs": [],
   "source": [
    "feature_names = [\n",
    "    'extrapolated_id_q1',\n",
    "    'extrapolated_id_q2',\n",
    "]"
   ]
  },
  {
   "cell_type": "code",
   "execution_count": 15,
   "metadata": {
    "collapsed": true
   },
   "outputs": [],
   "source": [
    "save_lines(feature_names, features_data_folder + f'X_train_{feature_list_id}.names')"
   ]
  },
  {
   "cell_type": "markdown",
   "metadata": {},
   "source": [
    "## Save features"
   ]
  },
  {
   "cell_type": "code",
   "execution_count": 16,
   "metadata": {
    "collapsed": true
   },
   "outputs": [],
   "source": [
    "save(X_train.values, features_data_folder + f'X_train_{feature_list_id}.pickle')"
   ]
  },
  {
   "cell_type": "code",
   "execution_count": 17,
   "metadata": {
    "collapsed": true
   },
   "outputs": [],
   "source": [
    "save(X_test.values, features_data_folder + f'X_test_{feature_list_id}.pickle')"
   ]
  },
  {
   "cell_type": "code",
   "execution_count": 18,
   "metadata": {},
   "outputs": [
    {
     "data": {
      "text/plain": [
       "<matplotlib.axes._subplots.AxesSubplot at 0x7fc99890e160>"
      ]
     },
     "execution_count": 18,
     "metadata": {},
     "output_type": "execute_result"
    },
    {
     "data": {
      "image/png": "[encoded data removed]",
      "text/plain": [
       "<matplotlib.figure.Figure at 0x7fc9672a7908>"
      ]
     },
     "metadata": {},
     "output_type": "display_data"
    }
   ],
   "source": [
    "X_train.plot.hist()"
   ]
  },
  {
   "cell_type": "code",
   "execution_count": 19,
   "metadata": {},
   "outputs": [
    {
     "data": {
      "text/plain": [
       "<matplotlib.axes._subplots.AxesSubplot at 0x7fc9613dc2e8>"
      ]
     },
     "execution_count": 19,
     "metadata": {},
     "output_type": "execute_result"
    },
    {
     "data": {
      "image/png": "[encoded data removed]",
      "text/plain": [
       "<matplotlib.figure.Figure at 0x7fc961371f28>"
      ]
     },
     "metadata": {},
     "output_type": "display_data"
    }
   ],
   "source": [
    "X_test.plot.hist()"
   ]
  }
 ],
 "metadata": {
  "kernelspec": {
   "display_name": "Python 3",
   "language": "python",
   "name": "python3"
  },
  "language_info": {
   "codemirror_mode": {
    "name": "ipython",
    "version": 3
   },
   "file_extension": ".py",
   "mimetype": "text/x-python",
   "name": "python",
   "nbconvert_exporter": "python",
   "pygments_lexer": "ipython3",
   "version": "3.6.0"
  },
  "widgets": {
   "state": {
    "068574a6e5cf4bfb8a8766f228dc3517": {
     "views": [
      {
       "cell_index": 28
      }
     ]
    },
    "09c14bf4363c4816ac7017c9965fc1bd": {
     "views": [
      {
       "cell_index": 28
      }
     ]
    },
    "15522c84f8174a5e9751c5c25803fcf5": {
     "views": [
      {
       "cell_index": 23
      }
     ]
    },
    "21cc92d9f9a64f92a6043a0c8a12a657": {
     "views": [
      {
       "cell_index": 23
      }
     ]
    },
    "21eeeabc43bb4199a1048aa4584d353c": {
     "views": [
      {
       "cell_index": 23
      }
     ]
    },
    "25e9905debef47fcb005c8d696680424": {
     "views": [
      {
       "cell_index": 23
      }
     ]
    },
    "2b0e90300a1f4ab28be065bbc3864b80": {
     "views": [
      {
       "cell_index": 23
      }
     ]
    },
    "2d1133ed035d49a68c98a6b18b178656": {
     "views": [
      {
       "cell_index": 23
      }
     ]
    },
    "394af33ab0d044268d4eeb73139f7b37": {
     "views": [
      {
       "cell_index": 23
      }
     ]
    },
    "3e588e54a6414b95ba816c41081e31d6": {
     "views": [
      {
       "cell_index": 28
      }
     ]
    },
    "4bba185d13a14d698a61f3e3519c63fd": {
     "views": [
      {
       "cell_index": 23
      }
     ]
    },
    "679a1f080a154ceeb9e2609a1ce71704": {
     "views": [
      {
       "cell_index": 28
      }
     ]
    },
    "6e1256e2abe74c0ab4b0dc5ddf2b7bc6": {
     "views": [
      {
       "cell_index": 28
      }
     ]
    },
    "8c7b849999b147aa9a6a101c1a53e338": {
     "views": [
      {
       "cell_index": 23
      }
     ]
    },
    "8dd895d7431b4967aa0c4d03c46c8127": {
     "views": [
      {
       "cell_index": 28
      }
     ]
    },
    "916040f5b64345abaac3f238416ab1c9": {
     "views": [
      {
       "cell_index": 28
      }
     ]
    },
    "9987ad0d05564b4f95e00b2ea39765df": {
     "views": [
      {
       "cell_index": 23
      }
     ]
    },
    "a2d1c3889f0e45fdbec97496fc4ad878": {
     "views": [
      {
       "cell_index": 28
      }
     ]
    },
    "aff6ddc72148443da10a73512c0982a1": {
     "views": [
      {
       "cell_index": 28
      }
     ]
    },
    "b1ff32f69dae4892a732a8adef6344fc": {
     "views": [
      {
       "cell_index": 28
      }
     ]
    },
    "b4e83e55092a4250ba23a885609e8400": {
     "views": [
      {
       "cell_index": 28
      }
     ]
    },
    "b98e54779e534a9689ac3aaffbfd5a6c": {
     "views": [
      {
       "cell_index": 23
      }
     ]
    },
    "bad51d2b7d1c427e86c66dadb743fc4b": {
     "views": [
      {
       "cell_index": 23
      }
     ]
    },
    "c2e66ab21ab84c709264eef184db1509": {
     "views": [
      {
       "cell_index": 23
      }
     ]
    },
    "c42eaf61b2604250928b0d505c4c6413": {
     "views": [
      {
       "cell_index": 28
      }
     ]
    },
    "cd66b0f3b4bf49a5bcd1db0a2c3f452d": {
     "views": [
      {
       "cell_index": 28
      }
     ]
    },
    "d5c8503f198d4a0d856487c566a5ae43": {
     "views": [
      {
       "cell_index": 28
      }
     ]
    },
    "e124726908104334ba3324eb86f09bc4": {
     "views": [
      {
       "cell_index": 23
      }
     ]
    },
    "eef21b8574c04fb4a0ee907064b8a635": {
     "views": [
      {
       "cell_index": 23
      }
     ]
    },
    "fda965ad56df4353b6e963d29e3f1700": {
     "views": [
      {
       "cell_index": 23
      }
     ]
    }
   },
   "version": "1.2.0"
  }
 },
 "nbformat": 4,
 "nbformat_minor": 2
}
