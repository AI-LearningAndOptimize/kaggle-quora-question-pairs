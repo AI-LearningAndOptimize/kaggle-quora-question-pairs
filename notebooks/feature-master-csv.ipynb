{
 "cells": [
  {
   "cell_type": "markdown",
   "metadata": {},
   "source": [
    "## Imports"
   ]
  },
  {
   "cell_type": "code",
   "execution_count": 1,
   "metadata": {
    "collapsed": true
   },
   "outputs": [],
   "source": [
    "import datetime\n",
    "import os"
   ]
  },
  {
   "cell_type": "markdown",
   "metadata": {},
   "source": [
    "## Config"
   ]
  },
  {
   "cell_type": "code",
   "execution_count": 2,
   "metadata": {
    "collapsed": true
   },
   "outputs": [],
   "source": [
    "RANDOM_SEED = 42"
   ]
  },
  {
   "cell_type": "code",
   "execution_count": 3,
   "metadata": {
    "collapsed": true
   },
   "outputs": [],
   "source": [
    "data_folder = os.path.abspath(os.path.join(os.curdir, os.pardir, 'data')) + os.path.sep\n",
    "aux_data_folder = os.path.join(data_folder, 'aux') + os.path.sep\n",
    "preproc_data_folder = os.path.join(data_folder, 'preproc') + os.path.sep\n",
    "features_data_folder = os.path.join(data_folder, 'features') + os.path.sep\n",
    "submissions_data_folder = os.path.join(data_folder, 'submissions') + os.path.sep"
   ]
  },
  {
   "cell_type": "markdown",
   "metadata": {},
   "source": [
    "## Read Data"
   ]
  },
  {
   "cell_type": "code",
   "execution_count": 4,
   "metadata": {
    "collapsed": true
   },
   "outputs": [],
   "source": [
    "feature_lists = [\n",
    "    'simple_summaries',\n",
    "    'fuzzy',\n",
    "    'tfidf_distances',\n",
    "    'embedding_mean',\n",
    "    'embedding_normalized_sum',\n",
    "    'wmd',\n",
    "    'oofp_nn_concat_dense_1',\n",
    "]"
   ]
  },
  {
   "cell_type": "code",
   "execution_count": 5,
   "metadata": {
    "collapsed": true
   },
   "outputs": [],
   "source": [
    "X_train_separate = [\n",
    "    load(features_data_folder + f'X_train_{feature_list_id}.pickle')\n",
    "    for feature_list_id in feature_lists\n",
    "]"
   ]
  },
  {
   "cell_type": "code",
   "execution_count": 6,
   "metadata": {},
   "outputs": [
    {
     "name": "stdout",
     "output_type": "stream",
     "text": [
      "simple_summaries              :   0 -   8\n",
      "fuzzy                         :   9 -  13\n",
      "tfidf_distances               :  14 -  15\n",
      "embedding_mean                :  16 -  18\n",
      "embedding_normalized_sum      :  19 -  21\n",
      "wmd                           :  22 -  22\n",
      "oofp_nn_concat_dense_1        :  23 -  23\n"
     ]
    }
   ],
   "source": [
    "running_feature_count = 0\n",
    "\n",
    "for feature_list_id, features in zip(feature_lists, X_train_separate):\n",
    "    start_index = running_feature_count\n",
    "    end_index = running_feature_count + features.shape[-1] - 1\n",
    "    running_feature_count += features.shape[-1]\n",
    "    \n",
    "    print(f'{feature_list_id:30s}: {start_index:3d} - {end_index:3d}')"
   ]
  },
  {
   "cell_type": "code",
   "execution_count": 7,
   "metadata": {},
   "outputs": [],
   "source": [
    "X_train = np.hstack(X_train_separate)"
   ]
  },
  {
   "cell_type": "code",
   "execution_count": 8,
   "metadata": {
    "collapsed": true
   },
   "outputs": [],
   "source": [
    "y_train = load(features_data_folder + 'y_train.pickle')"
   ]
  },
  {
   "cell_type": "code",
   "execution_count": 9,
   "metadata": {},
   "outputs": [
    {
     "name": "stdout",
     "output_type": "stream",
     "text": [
      "X train: (404290, 24)\n",
      "y train: (404290,)\n"
     ]
    }
   ],
   "source": [
    "print('X train:', X_train.shape)\n",
    "print('y train:', y_train.shape)"
   ]
  },
  {
   "cell_type": "markdown",
   "metadata": {},
   "source": [
    "## Annotate columns"
   ]
  },
  {
   "cell_type": "code",
   "execution_count": 10,
   "metadata": {
    "collapsed": true
   },
   "outputs": [],
   "source": [
    "column_names = [\n",
    "    # simple_summaries\n",
    "    'shorter_char_len_log', 'longer_char_len_log', 'shorter_token_len_log', 'longer_token_len_log',\n",
    "    'char_len_diff_log', 'token_len_diff_log', 'char_len_ratio', 'token_len_ratio',\n",
    "    'word_diff_ratio',\n",
    "\n",
    "    # fuzzy\n",
    "    'fuzzy_ratio', 'fuzzy_partial_ratio',\n",
    "    'fuzzy_token_sort_ratio', 'fuzzy_token_set_ratio',\n",
    "    'fuzzy_partial_token_sort_ratio',\n",
    "\n",
    "    # tfidf_distances\n",
    "    'tfidf_cosine', 'tfidf_euclidean',\n",
    "    \n",
    "    # embedding_mean\n",
    "    'emb_mean_cosine', 'emb_mean_cityblock_log', 'emb_mean_euclidean',\n",
    "\n",
    "    # embedding_normalized_sum\n",
    "    'emb_norm_sum_cosine', 'emb_norm_sum_cityblock_log', 'emb_norm_sum_euclidean',    \n",
    "    \n",
    "    # wmd\n",
    "    'wmd',\n",
    "    \n",
    "    # oofp_nn_concat_dense_1\n",
    "    'oofp_nn_concat_dense_1',\n",
    "]"
   ]
  },
  {
   "cell_type": "markdown",
   "metadata": {},
   "source": [
    "### Train"
   ]
  },
  {
   "cell_type": "code",
   "execution_count": 11,
   "metadata": {
    "collapsed": true
   },
   "outputs": [],
   "source": [
    "df_X_train = pd.DataFrame(X_train, columns=column_names)"
   ]
  },
  {
   "cell_type": "code",
   "execution_count": 12,
   "metadata": {
    "collapsed": true
   },
   "outputs": [],
   "source": [
    "df_X_train['is_duplicate'] = y_train"
   ]
  },
  {
   "cell_type": "code",
   "execution_count": 13,
   "metadata": {},
   "outputs": [],
   "source": [
    "df_X_train.to_csv(\n",
    "    features_data_folder + 'X_train_all_features.csv',\n",
    "    header=True,\n",
    "    index=True,\n",
    "    index_label='id',\n",
    "    float_format='%.8f',\n",
    ")"
   ]
  },
  {
   "cell_type": "markdown",
   "metadata": {},
   "source": [
    "### Test"
   ]
  },
  {
   "cell_type": "code",
   "execution_count": 14,
   "metadata": {
    "collapsed": true
   },
   "outputs": [],
   "source": [
    "X_test = np.hstack([\n",
    "    load(features_data_folder + f'X_test_{feature_list_id}.pickle')\n",
    "    for feature_list_id in feature_lists\n",
    "])"
   ]
  },
  {
   "cell_type": "code",
   "execution_count": 15,
   "metadata": {
    "collapsed": true
   },
   "outputs": [],
   "source": [
    "df_X_test = pd.DataFrame(X_test, columns=column_names)"
   ]
  },
  {
   "cell_type": "code",
   "execution_count": 16,
   "metadata": {
    "collapsed": true
   },
   "outputs": [],
   "source": [
    "df_X_test.to_csv(\n",
    "    features_data_folder + 'X_test_all_features.csv',\n",
    "    header=True,\n",
    "    index=True,\n",
    "    index_label='id',\n",
    "    float_format='%.8f',\n",
    ")"
   ]
  }
 ],
 "metadata": {
  "kernelspec": {
   "display_name": "Python 3",
   "language": "python",
   "name": "python3"
  },
  "language_info": {
   "codemirror_mode": {
    "name": "ipython",
    "version": 3
   },
   "file_extension": ".py",
   "mimetype": "text/x-python",
   "name": "python",
   "nbconvert_exporter": "python",
   "pygments_lexer": "ipython3",
   "version": "3.6.0"
  }
 },
 "nbformat": 4,
 "nbformat_minor": 2
}
