{
 "cells": [
  {
   "cell_type": "markdown",
   "metadata": {},
   "source": [
    "## Imports"
   ]
  },
  {
   "cell_type": "code",
   "execution_count": 1,
   "metadata": {
    "collapsed": true
   },
   "outputs": [],
   "source": [
    "import datetime\n",
    "import os"
   ]
  },
  {
   "cell_type": "markdown",
   "metadata": {},
   "source": [
    "## Config"
   ]
  },
  {
   "cell_type": "code",
   "execution_count": 2,
   "metadata": {
    "collapsed": true
   },
   "outputs": [],
   "source": [
    "RANDOM_SEED = 42"
   ]
  },
  {
   "cell_type": "code",
   "execution_count": 3,
   "metadata": {
    "collapsed": true
   },
   "outputs": [],
   "source": [
    "data_folder = os.path.abspath(os.path.join(os.curdir, os.pardir, 'data')) + os.path.sep\n",
    "aux_data_folder = os.path.join(data_folder, 'aux') + os.path.sep\n",
    "preproc_data_folder = os.path.join(data_folder, 'preproc') + os.path.sep\n",
    "features_data_folder = os.path.join(data_folder, 'features') + os.path.sep\n",
    "submissions_data_folder = os.path.join(data_folder, 'submissions') + os.path.sep"
   ]
  },
  {
   "cell_type": "markdown",
   "metadata": {},
   "source": [
    "## Read Data"
   ]
  },
  {
   "cell_type": "code",
   "execution_count": 4,
   "metadata": {
    "collapsed": true
   },
   "outputs": [],
   "source": [
    "feature_lists = [\n",
    "    'simple_summaries',\n",
    "    'fuzzy',\n",
    "    'tfidf_distances',\n",
    "    'embedding_mean',\n",
    "    'wmd',\n",
    "]"
   ]
  },
  {
   "cell_type": "code",
   "execution_count": 5,
   "metadata": {
    "collapsed": true
   },
   "outputs": [],
   "source": [
    "X_train_separate = [\n",
    "    load(features_data_folder + f'X_train_{feature_list_id}.pickle')\n",
    "    for feature_list_id in feature_lists\n",
    "]"
   ]
  },
  {
   "cell_type": "code",
   "execution_count": 6,
   "metadata": {},
   "outputs": [
    {
     "name": "stdout",
     "output_type": "stream",
     "text": [
      "simple_summaries              :   0 -   7\n",
      "fuzzy                         :   8 -  13\n",
      "tfidf_distances               :  14 -  15\n",
      "embedding_mean                :  16 -  19\n",
      "wmd                           :  20 -  20\n"
     ]
    }
   ],
   "source": [
    "running_feature_count = 0\n",
    "\n",
    "for feature_list_id, features in zip(feature_lists, X_train_separate):\n",
    "    start_index = running_feature_count\n",
    "    end_index = running_feature_count + features.shape[-1] - 1\n",
    "    running_feature_count += features.shape[-1]\n",
    "    \n",
    "    print(f'{feature_list_id:30s}: {start_index:3d} - {end_index:3d}')"
   ]
  },
  {
   "cell_type": "code",
   "execution_count": 7,
   "metadata": {
    "collapsed": true
   },
   "outputs": [],
   "source": [
    "X_train = np.hstack(X_train_separate)"
   ]
  },
  {
   "cell_type": "code",
   "execution_count": 8,
   "metadata": {
    "collapsed": true
   },
   "outputs": [],
   "source": [
    "y_train = load(features_data_folder + 'y_train.pickle')"
   ]
  },
  {
   "cell_type": "code",
   "execution_count": 9,
   "metadata": {},
   "outputs": [
    {
     "name": "stdout",
     "output_type": "stream",
     "text": [
      "X train: (404290, 21)\n",
      "y train: (404290,)\n"
     ]
    }
   ],
   "source": [
    "print('X train:', X_train.shape)\n",
    "print('y train:', y_train.shape)"
   ]
  },
  {
   "cell_type": "markdown",
   "metadata": {},
   "source": [
    "## Annotate columns"
   ]
  },
  {
   "cell_type": "code",
   "execution_count": 10,
   "metadata": {
    "collapsed": true
   },
   "outputs": [],
   "source": [
    "column_names = [\n",
    "    # simple_summaries\n",
    "    'q1_len', 'q2_len', 'q1_token_len', 'q2_token_len',\n",
    "    'len_diff', 'token_len_diff', 'word_share_ratio', 'word_diff_ratio',\n",
    "\n",
    "    # fuzzy\n",
    "    'fuzzy_radio', 'fuzzy_partial_ratio',\n",
    "    'fuzzy_token_sort_ratio', 'fuzzy_token_set_ratio',\n",
    "    'fuzzy_partial_token_sort_ratio', 'fuzzy_partial_token_set_ratio',\n",
    "\n",
    "    # tfidf_distances\n",
    "    'tfidf_cosine', 'tfidf_euclidean',\n",
    "    \n",
    "    # embedding_mean\n",
    "    'emb_mean_cosine', 'emb_mean_cityblock', 'emb_mean_euclidean', 'emb_mean_jaccard',\n",
    "\n",
    "    # wmd\n",
    "    'wmd'\n",
    "]"
   ]
  },
  {
   "cell_type": "code",
   "execution_count": 11,
   "metadata": {},
   "outputs": [],
   "source": [
    "df_X_train = pd.DataFrame(X_train, columns=column_names)"
   ]
  },
  {
   "cell_type": "code",
   "execution_count": 12,
   "metadata": {
    "collapsed": true
   },
   "outputs": [],
   "source": [
    "df_X_train['is_duplicate'] = y_train"
   ]
  },
  {
   "cell_type": "code",
   "execution_count": 13,
   "metadata": {
    "collapsed": true
   },
   "outputs": [],
   "source": [
    "df_X_train.to_csv(\n",
    "    features_data_folder + 'X_train_all_features.csv',\n",
    "    header=True,\n",
    "    index=True,\n",
    "    index_label='id'\n",
    ")"
   ]
  }
 ],
 "metadata": {
  "kernelspec": {
   "display_name": "Python 3",
   "language": "python",
   "name": "python3"
  },
  "language_info": {
   "codemirror_mode": {
    "name": "ipython",
    "version": 3
   },
   "file_extension": ".py",
   "mimetype": "text/x-python",
   "name": "python",
   "nbconvert_exporter": "python",
   "pygments_lexer": "ipython3",
   "version": "3.6.0"
  }
 },
 "nbformat": 4,
 "nbformat_minor": 2
}
