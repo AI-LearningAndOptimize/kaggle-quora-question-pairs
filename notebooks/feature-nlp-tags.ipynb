{
 "cells": [
  {
   "cell_type": "markdown",
   "metadata": {},
   "source": [
    "# Feature: POS/NER Tag Similarity"
   ]
  },
  {
   "cell_type": "markdown",
   "metadata": {},
   "source": [
    "Derive bag-of-POS-tag and bag-of-NER-tag vectors from each question and calculate their vector distances."
   ]
  },
  {
   "cell_type": "markdown",
   "metadata": {},
   "source": [
    "## Imports"
   ]
  },
  {
   "cell_type": "markdown",
   "metadata": {},
   "source": [
    "This utility package imports `numpy`, `pandas`, `matplotlib` and a helper `kg` module into the root namespace."
   ]
  },
  {
   "cell_type": "code",
   "execution_count": 1,
   "metadata": {
    "collapsed": true
   },
   "outputs": [],
   "source": [
    "from pygoose import *"
   ]
  },
  {
   "cell_type": "code",
   "execution_count": 2,
   "metadata": {
    "collapsed": true
   },
   "outputs": [],
   "source": [
    "import os\n",
    "import warnings"
   ]
  },
  {
   "cell_type": "code",
   "execution_count": 3,
   "metadata": {
    "collapsed": true
   },
   "outputs": [],
   "source": [
    "from collections import Counter"
   ]
  },
  {
   "cell_type": "code",
   "execution_count": 4,
   "metadata": {
    "collapsed": true
   },
   "outputs": [],
   "source": [
    "from scipy.spatial.distance import cosine, euclidean, jaccard"
   ]
  },
  {
   "cell_type": "code",
   "execution_count": 5,
   "metadata": {
    "collapsed": true
   },
   "outputs": [],
   "source": [
    "import spacy"
   ]
  },
  {
   "cell_type": "markdown",
   "metadata": {},
   "source": [
    "## Config"
   ]
  },
  {
   "cell_type": "markdown",
   "metadata": {},
   "source": [
    "Automatically discover the paths to various data folders and compose the project structure."
   ]
  },
  {
   "cell_type": "code",
   "execution_count": 6,
   "metadata": {
    "collapsed": true
   },
   "outputs": [],
   "source": [
    "project = kg.Project.discover()"
   ]
  },
  {
   "cell_type": "markdown",
   "metadata": {},
   "source": [
    "Identifier for storing these features on disk and referring to them later."
   ]
  },
  {
   "cell_type": "code",
   "execution_count": 7,
   "metadata": {
    "collapsed": true
   },
   "outputs": [],
   "source": [
    "feature_list_id = 'nlp_tags'"
   ]
  },
  {
   "cell_type": "markdown",
   "metadata": {},
   "source": [
    "## Read Data"
   ]
  },
  {
   "cell_type": "markdown",
   "metadata": {},
   "source": [
    "Original question datasets."
   ]
  },
  {
   "cell_type": "code",
   "execution_count": 8,
   "metadata": {
    "collapsed": true
   },
   "outputs": [],
   "source": [
    "df_train = pd.read_csv(project.data_dir + 'train.csv').fillna('')\n",
    "df_test = pd.read_csv(project.data_dir + 'test.csv').fillna('')"
   ]
  },
  {
   "cell_type": "markdown",
   "metadata": {},
   "source": [
    "Preprocessed and tokenized questions.\n",
    "\n",
    "We should not use lowercased tokens here because that would harm the named entity recognition process."
   ]
  },
  {
   "cell_type": "code",
   "execution_count": 9,
   "metadata": {},
   "outputs": [],
   "source": [
    "tokens_train = kg.io.load(project.preprocessed_data_dir + 'tokens_spellcheck_train.pickle')\n",
    "tokens_test = kg.io.load(project.preprocessed_data_dir + 'tokens_spellcheck_test.pickle')"
   ]
  },
  {
   "cell_type": "code",
   "execution_count": 10,
   "metadata": {},
   "outputs": [],
   "source": [
    "df_all_texts = pd.DataFrame(\n",
    "    [[' '.join(pair[0]), ' '.join(pair[1])] for pair in tokens_train + tokens_test],\n",
    "    columns=['question1', 'question2'],\n",
    ")"
   ]
  },
  {
   "cell_type": "markdown",
   "metadata": {},
   "source": [
    "Dependency parsing takes a lot of time and we don't use any features from it. Let's disable it in the pipeline.\n",
    "\n",
    "If model loading fails, run `python -m spacy download en`"
   ]
  },
  {
   "cell_type": "code",
   "execution_count": 11,
   "metadata": {
    "collapsed": true
   },
   "outputs": [],
   "source": [
    "nlp = spacy.load('en', parser=False)"
   ]
  },
  {
   "cell_type": "markdown",
   "metadata": {},
   "source": [
    "## Build Features"
   ]
  },
  {
   "cell_type": "code",
   "execution_count": 12,
   "metadata": {
    "collapsed": true
   },
   "outputs": [],
   "source": [
    "pos_tags_whitelist = ['ADJ', 'ADV', 'NOUN', 'PROPN', 'NUM', 'VERB']\n",
    "ner_tags_whitelist = ['GPE', 'LOC', 'ORG', 'NORP', 'PERSON', 'PRODUCT', 'DATE', 'TIME', 'QUANTITY', 'CARDINAL']"
   ]
  },
  {
   "cell_type": "code",
   "execution_count": 13,
   "metadata": {
    "collapsed": true
   },
   "outputs": [],
   "source": [
    "num_raw_features = len(pos_tags_whitelist) + len(ner_tags_whitelist)"
   ]
  },
  {
   "cell_type": "code",
   "execution_count": 14,
   "metadata": {
    "collapsed": true
   },
   "outputs": [],
   "source": [
    "X1 = np.zeros((len(df_all_texts), num_raw_features))\n",
    "X2 = np.zeros((len(df_all_texts), num_raw_features))"
   ]
  },
  {
   "cell_type": "code",
   "execution_count": 15,
   "metadata": {},
   "outputs": [
    {
     "data": {
      "text/plain": [
       "((2750086, 16), (2750086, 16))"
      ]
     },
     "execution_count": 15,
     "metadata": {},
     "output_type": "execute_result"
    }
   ],
   "source": [
    "X1.shape, X2.shape"
   ]
  },
  {
   "cell_type": "markdown",
   "metadata": {},
   "source": [
    "### Collect POS and NER tags"
   ]
  },
  {
   "cell_type": "code",
   "execution_count": 16,
   "metadata": {
    "collapsed": true
   },
   "outputs": [],
   "source": [
    "pipe_q1 = nlp.pipe(df_all_texts['question1'].values, n_threads=os.cpu_count())\n",
    "pipe_q2 = nlp.pipe(df_all_texts['question2'].values, n_threads=os.cpu_count())"
   ]
  },
  {
   "cell_type": "code",
   "execution_count": 17,
   "metadata": {},
   "outputs": [
    {
     "name": "stderr",
     "output_type": "stream",
     "text": [
      "100%|██████████| 2750086/2750086 [05:21<00:00, 8558.72it/s] \n"
     ]
    }
   ],
   "source": [
    "for i, doc in progressbar(enumerate(pipe_q1), total=len(df_all_texts)):\n",
    "    pos_counter = Counter(token.pos_ for token in doc)\n",
    "    ner_counter = Counter(ent.label_ for ent in doc.ents)\n",
    "    X1[i, :] = np.array(\n",
    "        [pos_counter[pos_tag] for pos_tag in pos_tags_whitelist] +\n",
    "        [ner_counter[ner_tag] for ner_tag in ner_tags_whitelist]\n",
    "    )"
   ]
  },
  {
   "cell_type": "code",
   "execution_count": 18,
   "metadata": {},
   "outputs": [
    {
     "name": "stderr",
     "output_type": "stream",
     "text": [
      "100%|██████████| 2750086/2750086 [05:25<00:00, 8460.16it/s] \n"
     ]
    }
   ],
   "source": [
    "for i, doc in progressbar(enumerate(pipe_q2), total=len(df_all_texts)):\n",
    "    pos_counter = Counter(token.pos_ for token in doc)\n",
    "    ner_counter = Counter(ent.label_ for ent in doc.ents)\n",
    "    X2[i, :] = np.array(\n",
    "        [pos_counter[pos_tag] for pos_tag in pos_tags_whitelist] +\n",
    "        [ner_counter[ner_tag] for ner_tag in ner_tags_whitelist]\n",
    "    )"
   ]
  },
  {
   "cell_type": "markdown",
   "metadata": {},
   "source": [
    "### Create tag feature sets"
   ]
  },
  {
   "cell_type": "code",
   "execution_count": 19,
   "metadata": {
    "collapsed": true
   },
   "outputs": [],
   "source": [
    "df_pos_q1 = pd.DataFrame(\n",
    "    X1[:, 0:len(pos_tags_whitelist)],\n",
    "    columns=['pos_q1_' + pos_tag.lower() for pos_tag in pos_tags_whitelist]\n",
    ")"
   ]
  },
  {
   "cell_type": "code",
   "execution_count": 20,
   "metadata": {
    "collapsed": true
   },
   "outputs": [],
   "source": [
    "df_pos_q2 = pd.DataFrame(\n",
    "    X2[:, 0:len(pos_tags_whitelist)],\n",
    "    columns=['pos_q2_' + pos_tag.lower() for pos_tag in pos_tags_whitelist]\n",
    ")"
   ]
  },
  {
   "cell_type": "code",
   "execution_count": 21,
   "metadata": {
    "collapsed": true
   },
   "outputs": [],
   "source": [
    "df_ner_q1 = pd.DataFrame(\n",
    "    X1[:, -len(ner_tags_whitelist):],\n",
    "    columns=['ner_q1_' + ner_tag.lower() for ner_tag in ner_tags_whitelist]\n",
    ")"
   ]
  },
  {
   "cell_type": "code",
   "execution_count": 22,
   "metadata": {
    "collapsed": true
   },
   "outputs": [],
   "source": [
    "df_ner_q2 = pd.DataFrame(\n",
    "    X2[:, -len(ner_tags_whitelist):],\n",
    "    columns=['ner_q2_' + ner_tag.lower() for ner_tag in ner_tags_whitelist]\n",
    ")"
   ]
  },
  {
   "cell_type": "markdown",
   "metadata": {},
   "source": [
    "### Compute pairwise distances"
   ]
  },
  {
   "cell_type": "code",
   "execution_count": 24,
   "metadata": {},
   "outputs": [],
   "source": [
    "def get_vector_distances(i):\n",
    "    return [\n",
    "        # POS distances.\n",
    "        cosine(X1[i, 0:len(pos_tags_whitelist)], X2[i, 0:len(pos_tags_whitelist)]),\n",
    "        euclidean(X1[i, 0:len(pos_tags_whitelist)], X2[i, 0:len(pos_tags_whitelist)]),\n",
    "\n",
    "        # NER distances.\n",
    "        euclidean(X1[i, -len(ner_tags_whitelist):], X2[i, -len(ner_tags_whitelist):]),\n",
    "        np.abs(np.sum(X1[i, -len(ner_tags_whitelist):]) - np.sum(X2[i, -len(ner_tags_whitelist):])),\n",
    "    ]"
   ]
  },
  {
   "cell_type": "code",
   "execution_count": 38,
   "metadata": {},
   "outputs": [
    {
     "name": "stdout",
     "output_type": "stream",
     "text": [
      "Batches: 100%|██████████| 2751/2751 [00:41<00:00, 66.33it/s]\n"
     ]
    }
   ],
   "source": [
    "warnings.filterwarnings('ignore')\n",
    "X_distances = kg.jobs.map_batch_parallel(\n",
    "    list(range(len(df_all_texts))),\n",
    "    item_mapper=get_vector_distances,\n",
    "    batch_size=1000,\n",
    ")"
   ]
  },
  {
   "cell_type": "code",
   "execution_count": 26,
   "metadata": {
    "collapsed": true
   },
   "outputs": [],
   "source": [
    "X_distances = np.array(X_distances)"
   ]
  },
  {
   "cell_type": "code",
   "execution_count": 27,
   "metadata": {
    "collapsed": true
   },
   "outputs": [],
   "source": [
    "df_distances = pd.DataFrame(\n",
    "    X_distances,\n",
    "    columns=[\n",
    "        'pos_tag_cosine',\n",
    "        'pos_tag_euclidean',\n",
    "        'ner_tag_euclidean',\n",
    "        'ner_tag_count_diff',\n",
    "    ]\n",
    ")"
   ]
  },
  {
   "cell_type": "markdown",
   "metadata": {},
   "source": [
    "### Build master feature list"
   ]
  },
  {
   "cell_type": "code",
   "execution_count": 28,
   "metadata": {
    "collapsed": true
   },
   "outputs": [],
   "source": [
    "df_master = pd.concat(\n",
    "    [df_pos_q1, df_ner_q1, df_pos_q2, df_ner_q2, df_distances],\n",
    "    axis=1,\n",
    "    ignore_index=True,\n",
    ")"
   ]
  },
  {
   "cell_type": "code",
   "execution_count": 29,
   "metadata": {
    "collapsed": true
   },
   "outputs": [],
   "source": [
    "df_master.columns = list(df_pos_q1.columns) + \\\n",
    "    list(df_ner_q1.columns) + \\\n",
    "    list(df_pos_q2.columns) + \\\n",
    "    list(df_ner_q2.columns) + \\\n",
    "    list(df_distances.columns)"
   ]
  },
  {
   "cell_type": "code",
   "execution_count": 30,
   "metadata": {},
   "outputs": [
    {
     "data": {
      "text/html": [
       "<div>\n",
       "<style>\n",
       "    .dataframe thead tr:only-child th {\n",
       "        text-align: right;\n",
       "    }\n",
       "\n",
       "    .dataframe thead th {\n",
       "        text-align: left;\n",
       "    }\n",
       "\n",
       "    .dataframe tbody tr th {\n",
       "        vertical-align: top;\n",
       "    }\n",
       "</style>\n",
       "<table border=\"1\" class=\"dataframe\">\n",
       "  <thead>\n",
       "    <tr style=\"text-align: right;\">\n",
       "      <th></th>\n",
       "      <th>count</th>\n",
       "      <th>mean</th>\n",
       "      <th>std</th>\n",
       "      <th>min</th>\n",
       "      <th>25%</th>\n",
       "      <th>50%</th>\n",
       "      <th>75%</th>\n",
       "      <th>max</th>\n",
       "    </tr>\n",
       "  </thead>\n",
       "  <tbody>\n",
       "    <tr>\n",
       "      <th>pos_q1_adj</th>\n",
       "      <td>2750086.000000</td>\n",
       "      <td>1.067322</td>\n",
       "      <td>1.083106</td>\n",
       "      <td>0.000000</td>\n",
       "      <td>0.000000</td>\n",
       "      <td>1.000000</td>\n",
       "      <td>2.000000</td>\n",
       "      <td>26.000000</td>\n",
       "    </tr>\n",
       "    <tr>\n",
       "      <th>pos_q1_adv</th>\n",
       "      <td>2750086.000000</td>\n",
       "      <td>0.727720</td>\n",
       "      <td>0.860922</td>\n",
       "      <td>0.000000</td>\n",
       "      <td>0.000000</td>\n",
       "      <td>1.000000</td>\n",
       "      <td>1.000000</td>\n",
       "      <td>18.000000</td>\n",
       "    </tr>\n",
       "    <tr>\n",
       "      <th>pos_q1_noun</th>\n",
       "      <td>2750086.000000</td>\n",
       "      <td>2.930388</td>\n",
       "      <td>1.832767</td>\n",
       "      <td>0.000000</td>\n",
       "      <td>2.000000</td>\n",
       "      <td>3.000000</td>\n",
       "      <td>4.000000</td>\n",
       "      <td>42.000000</td>\n",
       "    </tr>\n",
       "    <tr>\n",
       "      <th>pos_q1_propn</th>\n",
       "      <td>2750086.000000</td>\n",
       "      <td>0.868396</td>\n",
       "      <td>1.336260</td>\n",
       "      <td>0.000000</td>\n",
       "      <td>0.000000</td>\n",
       "      <td>0.000000</td>\n",
       "      <td>1.000000</td>\n",
       "      <td>41.000000</td>\n",
       "    </tr>\n",
       "    <tr>\n",
       "      <th>pos_q1_num</th>\n",
       "      <td>2750086.000000</td>\n",
       "      <td>0.451231</td>\n",
       "      <td>1.490798</td>\n",
       "      <td>0.000000</td>\n",
       "      <td>0.000000</td>\n",
       "      <td>0.000000</td>\n",
       "      <td>0.000000</td>\n",
       "      <td>83.000000</td>\n",
       "    </tr>\n",
       "    <tr>\n",
       "      <th>pos_q1_verb</th>\n",
       "      <td>2750086.000000</td>\n",
       "      <td>2.349555</td>\n",
       "      <td>1.552640</td>\n",
       "      <td>0.000000</td>\n",
       "      <td>1.000000</td>\n",
       "      <td>2.000000</td>\n",
       "      <td>3.000000</td>\n",
       "      <td>59.000000</td>\n",
       "    </tr>\n",
       "    <tr>\n",
       "      <th>ner_q1_gpe</th>\n",
       "      <td>2750086.000000</td>\n",
       "      <td>0.165916</td>\n",
       "      <td>0.446753</td>\n",
       "      <td>0.000000</td>\n",
       "      <td>0.000000</td>\n",
       "      <td>0.000000</td>\n",
       "      <td>0.000000</td>\n",
       "      <td>10.000000</td>\n",
       "    </tr>\n",
       "    <tr>\n",
       "      <th>ner_q1_loc</th>\n",
       "      <td>2750086.000000</td>\n",
       "      <td>0.013586</td>\n",
       "      <td>0.121908</td>\n",
       "      <td>0.000000</td>\n",
       "      <td>0.000000</td>\n",
       "      <td>0.000000</td>\n",
       "      <td>0.000000</td>\n",
       "      <td>4.000000</td>\n",
       "    </tr>\n",
       "    <tr>\n",
       "      <th>ner_q1_org</th>\n",
       "      <td>2750086.000000</td>\n",
       "      <td>0.219017</td>\n",
       "      <td>0.501661</td>\n",
       "      <td>0.000000</td>\n",
       "      <td>0.000000</td>\n",
       "      <td>0.000000</td>\n",
       "      <td>0.000000</td>\n",
       "      <td>8.000000</td>\n",
       "    </tr>\n",
       "    <tr>\n",
       "      <th>ner_q1_norp</th>\n",
       "      <td>2750086.000000</td>\n",
       "      <td>0.050499</td>\n",
       "      <td>0.256038</td>\n",
       "      <td>0.000000</td>\n",
       "      <td>0.000000</td>\n",
       "      <td>0.000000</td>\n",
       "      <td>0.000000</td>\n",
       "      <td>8.000000</td>\n",
       "    </tr>\n",
       "    <tr>\n",
       "      <th>ner_q1_person</th>\n",
       "      <td>2750086.000000</td>\n",
       "      <td>0.109720</td>\n",
       "      <td>0.356363</td>\n",
       "      <td>0.000000</td>\n",
       "      <td>0.000000</td>\n",
       "      <td>0.000000</td>\n",
       "      <td>0.000000</td>\n",
       "      <td>6.000000</td>\n",
       "    </tr>\n",
       "    <tr>\n",
       "      <th>ner_q1_product</th>\n",
       "      <td>2750086.000000</td>\n",
       "      <td>0.003194</td>\n",
       "      <td>0.057656</td>\n",
       "      <td>0.000000</td>\n",
       "      <td>0.000000</td>\n",
       "      <td>0.000000</td>\n",
       "      <td>0.000000</td>\n",
       "      <td>3.000000</td>\n",
       "    </tr>\n",
       "    <tr>\n",
       "      <th>ner_q1_date</th>\n",
       "      <td>2750086.000000</td>\n",
       "      <td>0.048328</td>\n",
       "      <td>0.236150</td>\n",
       "      <td>0.000000</td>\n",
       "      <td>0.000000</td>\n",
       "      <td>0.000000</td>\n",
       "      <td>0.000000</td>\n",
       "      <td>11.000000</td>\n",
       "    </tr>\n",
       "    <tr>\n",
       "      <th>ner_q1_time</th>\n",
       "      <td>2750086.000000</td>\n",
       "      <td>0.008575</td>\n",
       "      <td>0.097877</td>\n",
       "      <td>0.000000</td>\n",
       "      <td>0.000000</td>\n",
       "      <td>0.000000</td>\n",
       "      <td>0.000000</td>\n",
       "      <td>4.000000</td>\n",
       "    </tr>\n",
       "    <tr>\n",
       "      <th>ner_q1_quantity</th>\n",
       "      <td>2750086.000000</td>\n",
       "      <td>0.008518</td>\n",
       "      <td>0.098519</td>\n",
       "      <td>0.000000</td>\n",
       "      <td>0.000000</td>\n",
       "      <td>0.000000</td>\n",
       "      <td>0.000000</td>\n",
       "      <td>5.000000</td>\n",
       "    </tr>\n",
       "    <tr>\n",
       "      <th>ner_q1_cardinal</th>\n",
       "      <td>2750086.000000</td>\n",
       "      <td>0.220541</td>\n",
       "      <td>0.750349</td>\n",
       "      <td>0.000000</td>\n",
       "      <td>0.000000</td>\n",
       "      <td>0.000000</td>\n",
       "      <td>0.000000</td>\n",
       "      <td>29.000000</td>\n",
       "    </tr>\n",
       "    <tr>\n",
       "      <th>pos_q2_adj</th>\n",
       "      <td>2750086.000000</td>\n",
       "      <td>1.071430</td>\n",
       "      <td>1.093956</td>\n",
       "      <td>0.000000</td>\n",
       "      <td>0.000000</td>\n",
       "      <td>1.000000</td>\n",
       "      <td>2.000000</td>\n",
       "      <td>27.000000</td>\n",
       "    </tr>\n",
       "    <tr>\n",
       "      <th>pos_q2_adv</th>\n",
       "      <td>2750086.000000</td>\n",
       "      <td>0.732874</td>\n",
       "      <td>0.868020</td>\n",
       "      <td>0.000000</td>\n",
       "      <td>0.000000</td>\n",
       "      <td>1.000000</td>\n",
       "      <td>1.000000</td>\n",
       "      <td>18.000000</td>\n",
       "    </tr>\n",
       "    <tr>\n",
       "      <th>pos_q2_noun</th>\n",
       "      <td>2750086.000000</td>\n",
       "      <td>2.921520</td>\n",
       "      <td>1.852080</td>\n",
       "      <td>0.000000</td>\n",
       "      <td>2.000000</td>\n",
       "      <td>3.000000</td>\n",
       "      <td>4.000000</td>\n",
       "      <td>43.000000</td>\n",
       "    </tr>\n",
       "    <tr>\n",
       "      <th>pos_q2_propn</th>\n",
       "      <td>2750086.000000</td>\n",
       "      <td>0.867678</td>\n",
       "      <td>1.334859</td>\n",
       "      <td>0.000000</td>\n",
       "      <td>0.000000</td>\n",
       "      <td>0.000000</td>\n",
       "      <td>1.000000</td>\n",
       "      <td>40.000000</td>\n",
       "    </tr>\n",
       "    <tr>\n",
       "      <th>pos_q2_num</th>\n",
       "      <td>2750086.000000</td>\n",
       "      <td>0.456342</td>\n",
       "      <td>1.489910</td>\n",
       "      <td>0.000000</td>\n",
       "      <td>0.000000</td>\n",
       "      <td>0.000000</td>\n",
       "      <td>0.000000</td>\n",
       "      <td>83.000000</td>\n",
       "    </tr>\n",
       "    <tr>\n",
       "      <th>pos_q2_verb</th>\n",
       "      <td>2750086.000000</td>\n",
       "      <td>2.376725</td>\n",
       "      <td>1.609811</td>\n",
       "      <td>0.000000</td>\n",
       "      <td>1.000000</td>\n",
       "      <td>2.000000</td>\n",
       "      <td>3.000000</td>\n",
       "      <td>60.000000</td>\n",
       "    </tr>\n",
       "    <tr>\n",
       "      <th>ner_q2_gpe</th>\n",
       "      <td>2750086.000000</td>\n",
       "      <td>0.167076</td>\n",
       "      <td>0.449481</td>\n",
       "      <td>0.000000</td>\n",
       "      <td>0.000000</td>\n",
       "      <td>0.000000</td>\n",
       "      <td>0.000000</td>\n",
       "      <td>9.000000</td>\n",
       "    </tr>\n",
       "    <tr>\n",
       "      <th>ner_q2_loc</th>\n",
       "      <td>2750086.000000</td>\n",
       "      <td>0.013705</td>\n",
       "      <td>0.122938</td>\n",
       "      <td>0.000000</td>\n",
       "      <td>0.000000</td>\n",
       "      <td>0.000000</td>\n",
       "      <td>0.000000</td>\n",
       "      <td>4.000000</td>\n",
       "    </tr>\n",
       "    <tr>\n",
       "      <th>ner_q2_org</th>\n",
       "      <td>2750086.000000</td>\n",
       "      <td>0.218546</td>\n",
       "      <td>0.501982</td>\n",
       "      <td>0.000000</td>\n",
       "      <td>0.000000</td>\n",
       "      <td>0.000000</td>\n",
       "      <td>0.000000</td>\n",
       "      <td>8.000000</td>\n",
       "    </tr>\n",
       "    <tr>\n",
       "      <th>ner_q2_norp</th>\n",
       "      <td>2750086.000000</td>\n",
       "      <td>0.050230</td>\n",
       "      <td>0.255864</td>\n",
       "      <td>0.000000</td>\n",
       "      <td>0.000000</td>\n",
       "      <td>0.000000</td>\n",
       "      <td>0.000000</td>\n",
       "      <td>8.000000</td>\n",
       "    </tr>\n",
       "    <tr>\n",
       "      <th>ner_q2_person</th>\n",
       "      <td>2750086.000000</td>\n",
       "      <td>0.109059</td>\n",
       "      <td>0.354765</td>\n",
       "      <td>0.000000</td>\n",
       "      <td>0.000000</td>\n",
       "      <td>0.000000</td>\n",
       "      <td>0.000000</td>\n",
       "      <td>7.000000</td>\n",
       "    </tr>\n",
       "    <tr>\n",
       "      <th>ner_q2_product</th>\n",
       "      <td>2750086.000000</td>\n",
       "      <td>0.003225</td>\n",
       "      <td>0.057834</td>\n",
       "      <td>0.000000</td>\n",
       "      <td>0.000000</td>\n",
       "      <td>0.000000</td>\n",
       "      <td>0.000000</td>\n",
       "      <td>3.000000</td>\n",
       "    </tr>\n",
       "    <tr>\n",
       "      <th>ner_q2_date</th>\n",
       "      <td>2750086.000000</td>\n",
       "      <td>0.049798</td>\n",
       "      <td>0.240537</td>\n",
       "      <td>0.000000</td>\n",
       "      <td>0.000000</td>\n",
       "      <td>0.000000</td>\n",
       "      <td>0.000000</td>\n",
       "      <td>11.000000</td>\n",
       "    </tr>\n",
       "    <tr>\n",
       "      <th>ner_q2_time</th>\n",
       "      <td>2750086.000000</td>\n",
       "      <td>0.008598</td>\n",
       "      <td>0.098287</td>\n",
       "      <td>0.000000</td>\n",
       "      <td>0.000000</td>\n",
       "      <td>0.000000</td>\n",
       "      <td>0.000000</td>\n",
       "      <td>6.000000</td>\n",
       "    </tr>\n",
       "    <tr>\n",
       "      <th>ner_q2_quantity</th>\n",
       "      <td>2750086.000000</td>\n",
       "      <td>0.008721</td>\n",
       "      <td>0.099433</td>\n",
       "      <td>0.000000</td>\n",
       "      <td>0.000000</td>\n",
       "      <td>0.000000</td>\n",
       "      <td>0.000000</td>\n",
       "      <td>6.000000</td>\n",
       "    </tr>\n",
       "    <tr>\n",
       "      <th>ner_q2_cardinal</th>\n",
       "      <td>2750086.000000</td>\n",
       "      <td>0.222137</td>\n",
       "      <td>0.749245</td>\n",
       "      <td>0.000000</td>\n",
       "      <td>0.000000</td>\n",
       "      <td>0.000000</td>\n",
       "      <td>0.000000</td>\n",
       "      <td>30.000000</td>\n",
       "    </tr>\n",
       "    <tr>\n",
       "      <th>pos_tag_cosine</th>\n",
       "      <td>2749307.000000</td>\n",
       "      <td>0.170882</td>\n",
       "      <td>0.163781</td>\n",
       "      <td>-0.000000</td>\n",
       "      <td>0.053271</td>\n",
       "      <td>0.119591</td>\n",
       "      <td>0.237230</td>\n",
       "      <td>1.000000</td>\n",
       "    </tr>\n",
       "    <tr>\n",
       "      <th>pos_tag_euclidean</th>\n",
       "      <td>2750086.000000</td>\n",
       "      <td>3.109987</td>\n",
       "      <td>2.110255</td>\n",
       "      <td>0.000000</td>\n",
       "      <td>1.732051</td>\n",
       "      <td>2.645751</td>\n",
       "      <td>4.000000</td>\n",
       "      <td>81.030858</td>\n",
       "    </tr>\n",
       "    <tr>\n",
       "      <th>ner_tag_euclidean</th>\n",
       "      <td>2750086.000000</td>\n",
       "      <td>0.754844</td>\n",
       "      <td>0.957642</td>\n",
       "      <td>0.000000</td>\n",
       "      <td>0.000000</td>\n",
       "      <td>0.000000</td>\n",
       "      <td>1.000000</td>\n",
       "      <td>28.017851</td>\n",
       "    </tr>\n",
       "    <tr>\n",
       "      <th>ner_tag_count_diff</th>\n",
       "      <td>2750086.000000</td>\n",
       "      <td>0.641285</td>\n",
       "      <td>0.998784</td>\n",
       "      <td>0.000000</td>\n",
       "      <td>0.000000</td>\n",
       "      <td>0.000000</td>\n",
       "      <td>1.000000</td>\n",
       "      <td>31.000000</td>\n",
       "    </tr>\n",
       "  </tbody>\n",
       "</table>\n",
       "</div>"
      ],
      "text/plain": [
       "                            count     mean      std       min      25%  \\\n",
       "pos_q1_adj         2750086.000000 1.067322 1.083106  0.000000 0.000000   \n",
       "pos_q1_adv         2750086.000000 0.727720 0.860922  0.000000 0.000000   \n",
       "pos_q1_noun        2750086.000000 2.930388 1.832767  0.000000 2.000000   \n",
       "pos_q1_propn       2750086.000000 0.868396 1.336260  0.000000 0.000000   \n",
       "pos_q1_num         2750086.000000 0.451231 1.490798  0.000000 0.000000   \n",
       "pos_q1_verb        2750086.000000 2.349555 1.552640  0.000000 1.000000   \n",
       "ner_q1_gpe         2750086.000000 0.165916 0.446753  0.000000 0.000000   \n",
       "ner_q1_loc         2750086.000000 0.013586 0.121908  0.000000 0.000000   \n",
       "ner_q1_org         2750086.000000 0.219017 0.501661  0.000000 0.000000   \n",
       "ner_q1_norp        2750086.000000 0.050499 0.256038  0.000000 0.000000   \n",
       "ner_q1_person      2750086.000000 0.109720 0.356363  0.000000 0.000000   \n",
       "ner_q1_product     2750086.000000 0.003194 0.057656  0.000000 0.000000   \n",
       "ner_q1_date        2750086.000000 0.048328 0.236150  0.000000 0.000000   \n",
       "ner_q1_time        2750086.000000 0.008575 0.097877  0.000000 0.000000   \n",
       "ner_q1_quantity    2750086.000000 0.008518 0.098519  0.000000 0.000000   \n",
       "ner_q1_cardinal    2750086.000000 0.220541 0.750349  0.000000 0.000000   \n",
       "pos_q2_adj         2750086.000000 1.071430 1.093956  0.000000 0.000000   \n",
       "pos_q2_adv         2750086.000000 0.732874 0.868020  0.000000 0.000000   \n",
       "pos_q2_noun        2750086.000000 2.921520 1.852080  0.000000 2.000000   \n",
       "pos_q2_propn       2750086.000000 0.867678 1.334859  0.000000 0.000000   \n",
       "pos_q2_num         2750086.000000 0.456342 1.489910  0.000000 0.000000   \n",
       "pos_q2_verb        2750086.000000 2.376725 1.609811  0.000000 1.000000   \n",
       "ner_q2_gpe         2750086.000000 0.167076 0.449481  0.000000 0.000000   \n",
       "ner_q2_loc         2750086.000000 0.013705 0.122938  0.000000 0.000000   \n",
       "ner_q2_org         2750086.000000 0.218546 0.501982  0.000000 0.000000   \n",
       "ner_q2_norp        2750086.000000 0.050230 0.255864  0.000000 0.000000   \n",
       "ner_q2_person      2750086.000000 0.109059 0.354765  0.000000 0.000000   \n",
       "ner_q2_product     2750086.000000 0.003225 0.057834  0.000000 0.000000   \n",
       "ner_q2_date        2750086.000000 0.049798 0.240537  0.000000 0.000000   \n",
       "ner_q2_time        2750086.000000 0.008598 0.098287  0.000000 0.000000   \n",
       "ner_q2_quantity    2750086.000000 0.008721 0.099433  0.000000 0.000000   \n",
       "ner_q2_cardinal    2750086.000000 0.222137 0.749245  0.000000 0.000000   \n",
       "pos_tag_cosine     2749307.000000 0.170882 0.163781 -0.000000 0.053271   \n",
       "pos_tag_euclidean  2750086.000000 3.109987 2.110255  0.000000 1.732051   \n",
       "ner_tag_euclidean  2750086.000000 0.754844 0.957642  0.000000 0.000000   \n",
       "ner_tag_count_diff 2750086.000000 0.641285 0.998784  0.000000 0.000000   \n",
       "\n",
       "                        50%      75%       max  \n",
       "pos_q1_adj         1.000000 2.000000 26.000000  \n",
       "pos_q1_adv         1.000000 1.000000 18.000000  \n",
       "pos_q1_noun        3.000000 4.000000 42.000000  \n",
       "pos_q1_propn       0.000000 1.000000 41.000000  \n",
       "pos_q1_num         0.000000 0.000000 83.000000  \n",
       "pos_q1_verb        2.000000 3.000000 59.000000  \n",
       "ner_q1_gpe         0.000000 0.000000 10.000000  \n",
       "ner_q1_loc         0.000000 0.000000  4.000000  \n",
       "ner_q1_org         0.000000 0.000000  8.000000  \n",
       "ner_q1_norp        0.000000 0.000000  8.000000  \n",
       "ner_q1_person      0.000000 0.000000  6.000000  \n",
       "ner_q1_product     0.000000 0.000000  3.000000  \n",
       "ner_q1_date        0.000000 0.000000 11.000000  \n",
       "ner_q1_time        0.000000 0.000000  4.000000  \n",
       "ner_q1_quantity    0.000000 0.000000  5.000000  \n",
       "ner_q1_cardinal    0.000000 0.000000 29.000000  \n",
       "pos_q2_adj         1.000000 2.000000 27.000000  \n",
       "pos_q2_adv         1.000000 1.000000 18.000000  \n",
       "pos_q2_noun        3.000000 4.000000 43.000000  \n",
       "pos_q2_propn       0.000000 1.000000 40.000000  \n",
       "pos_q2_num         0.000000 0.000000 83.000000  \n",
       "pos_q2_verb        2.000000 3.000000 60.000000  \n",
       "ner_q2_gpe         0.000000 0.000000  9.000000  \n",
       "ner_q2_loc         0.000000 0.000000  4.000000  \n",
       "ner_q2_org         0.000000 0.000000  8.000000  \n",
       "ner_q2_norp        0.000000 0.000000  8.000000  \n",
       "ner_q2_person      0.000000 0.000000  7.000000  \n",
       "ner_q2_product     0.000000 0.000000  3.000000  \n",
       "ner_q2_date        0.000000 0.000000 11.000000  \n",
       "ner_q2_time        0.000000 0.000000  6.000000  \n",
       "ner_q2_quantity    0.000000 0.000000  6.000000  \n",
       "ner_q2_cardinal    0.000000 0.000000 30.000000  \n",
       "pos_tag_cosine     0.119591 0.237230  1.000000  \n",
       "pos_tag_euclidean  2.645751 4.000000 81.030858  \n",
       "ner_tag_euclidean  0.000000 1.000000 28.017851  \n",
       "ner_tag_count_diff 0.000000 1.000000 31.000000  "
      ]
     },
     "execution_count": 30,
     "metadata": {},
     "output_type": "execute_result"
    }
   ],
   "source": [
    "df_master.describe().T"
   ]
  },
  {
   "cell_type": "code",
   "execution_count": 32,
   "metadata": {},
   "outputs": [],
   "source": [
    "X_train = df_master[:len(tokens_train)].values\n",
    "X_test = df_master[len(tokens_train):].values"
   ]
  },
  {
   "cell_type": "code",
   "execution_count": 33,
   "metadata": {},
   "outputs": [
    {
     "name": "stdout",
     "output_type": "stream",
     "text": [
      "X train: (404290, 36)\n",
      "X test:  (2345796, 36)\n"
     ]
    }
   ],
   "source": [
    "print('X train:', X_train.shape)\n",
    "print('X test: ', X_test.shape)"
   ]
  },
  {
   "cell_type": "markdown",
   "metadata": {},
   "source": [
    "## Save Features"
   ]
  },
  {
   "cell_type": "code",
   "execution_count": 34,
   "metadata": {
    "collapsed": true
   },
   "outputs": [],
   "source": [
    "feature_names = list(df_master.columns)"
   ]
  },
  {
   "cell_type": "code",
   "execution_count": 35,
   "metadata": {
    "collapsed": true
   },
   "outputs": [],
   "source": [
    "project.save_features(X_train, X_test, feature_names, feature_list_id)"
   ]
  }
 ],
 "metadata": {
  "kernelspec": {
   "display_name": "Python 3",
   "language": "python",
   "name": "python3"
  },
  "language_info": {
   "codemirror_mode": {
    "name": "ipython",
    "version": 3
   },
   "file_extension": ".py",
   "mimetype": "text/x-python",
   "name": "python",
   "nbconvert_exporter": "python",
   "pygments_lexer": "ipython3",
   "version": "3.6.1"
  }
 },
 "nbformat": 4,
 "nbformat_minor": 2
}
