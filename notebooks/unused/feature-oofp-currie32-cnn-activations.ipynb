{
 "cells": [
  {
   "cell_type": "markdown",
   "metadata": {},
   "source": [
    "## Imports"
   ]
  },
  {
   "cell_type": "code",
   "execution_count": null,
   "metadata": {
    "collapsed": true
   },
   "outputs": [],
   "source": [
    "import datetime\n",
    "import gc"
   ]
  },
  {
   "cell_type": "code",
   "execution_count": null,
   "metadata": {
    "collapsed": true
   },
   "outputs": [],
   "source": [
    "from sklearn.preprocessing import StandardScaler\n",
    "from sklearn.model_selection import StratifiedKFold\n",
    "from sklearn.metrics import *"
   ]
  },
  {
   "cell_type": "code",
   "execution_count": null,
   "metadata": {
    "collapsed": true
   },
   "outputs": [],
   "source": [
    "cuda_use_gpus(1)"
   ]
  },
  {
   "cell_type": "code",
   "execution_count": null,
   "metadata": {},
   "outputs": [],
   "source": [
    "from keras import backend as K\n",
    "from keras.models import Model, Sequential\n",
    "from keras.layers import *\n",
    "from keras.callbacks import EarlyStopping, ModelCheckpoint"
   ]
  },
  {
   "cell_type": "markdown",
   "metadata": {},
   "source": [
    "## Config"
   ]
  },
  {
   "cell_type": "code",
   "execution_count": null,
   "metadata": {
    "collapsed": true
   },
   "outputs": [],
   "source": [
    "feature_list_id = 'oofp_currie32_cnn_activations'"
   ]
  },
  {
   "cell_type": "code",
   "execution_count": null,
   "metadata": {
    "collapsed": true
   },
   "outputs": [],
   "source": [
    "NUM_FOLDS = 5\n",
    "NUM_EPOCHS = 200\n",
    "BATCH_SIZE = 128"
   ]
  },
  {
   "cell_type": "code",
   "execution_count": null,
   "metadata": {
    "collapsed": true
   },
   "outputs": [],
   "source": [
    "RANDOM_SEED = 42"
   ]
  },
  {
   "cell_type": "code",
   "execution_count": null,
   "metadata": {
    "collapsed": true
   },
   "outputs": [],
   "source": [
    "np.random.seed(RANDOM_SEED)"
   ]
  },
  {
   "cell_type": "markdown",
   "metadata": {},
   "source": [
    "## Read Data"
   ]
  },
  {
   "cell_type": "code",
   "execution_count": null,
   "metadata": {
    "collapsed": true
   },
   "outputs": [],
   "source": [
    "embedding_matrix = load(aux_data_folder + 'embedding_weights_fasttext_filtered_no_stopwords.pickle')"
   ]
  },
  {
   "cell_type": "code",
   "execution_count": null,
   "metadata": {
    "collapsed": true
   },
   "outputs": [],
   "source": [
    "X_train_q1 = load(features_data_folder + 'X_train_nn_fasttext_q1_filtered_no_stopwords.pickle')\n",
    "X_train_q2 = load(features_data_folder + 'X_train_nn_fasttext_q2_filtered_no_stopwords.pickle')"
   ]
  },
  {
   "cell_type": "code",
   "execution_count": null,
   "metadata": {
    "collapsed": true
   },
   "outputs": [],
   "source": [
    "X_test_q1 = load(features_data_folder + 'X_test_nn_fasttext_q1_filtered_no_stopwords.pickle')\n",
    "X_test_q2 = load(features_data_folder + 'X_test_nn_fasttext_q2_filtered_no_stopwords.pickle')"
   ]
  },
  {
   "cell_type": "code",
   "execution_count": null,
   "metadata": {
    "collapsed": true
   },
   "outputs": [],
   "source": [
    "y_train = load(features_data_folder + 'y_train.pickle')"
   ]
  },
  {
   "cell_type": "code",
   "execution_count": null,
   "metadata": {
    "collapsed": true
   },
   "outputs": [],
   "source": [
    "EMBEDDING_DIM = embedding_matrix.shape[-1]\n",
    "VOCAB_LENGTH = embedding_matrix.shape[0]\n",
    "MAX_SEQUENCE_LENGTH = X_train_q1.shape[-1]"
   ]
  },
  {
   "cell_type": "code",
   "execution_count": null,
   "metadata": {},
   "outputs": [],
   "source": [
    "print(EMBEDDING_DIM, VOCAB_LENGTH, MAX_SEQUENCE_LENGTH)"
   ]
  },
  {
   "cell_type": "markdown",
   "metadata": {},
   "source": [
    "## Train Models & Compute Out-of-Fold Predictions"
   ]
  },
  {
   "cell_type": "code",
   "execution_count": null,
   "metadata": {
    "collapsed": true
   },
   "outputs": [],
   "source": [
    "init_weights = initializers.TruncatedNormal(mean=0.0, stddev=0.05, seed=2)\n",
    "init_bias = 'zeros'"
   ]
  },
  {
   "cell_type": "code",
   "execution_count": null,
   "metadata": {
    "collapsed": true
   },
   "outputs": [],
   "source": [
    "def create_embedding_block():\n",
    "    input_seq = Input(shape=(MAX_SEQUENCE_LENGTH, ), dtype='int32')\n",
    "    \n",
    "    embedding_seq = Embedding(\n",
    "        VOCAB_LENGTH,\n",
    "        EMBEDDING_DIM,\n",
    "        weights=[embedding_matrix],\n",
    "        input_length=MAX_SEQUENCE_LENGTH,\n",
    "        trainable=False,\n",
    "    )(input_seq)\n",
    "    \n",
    "    output_seq = embedding_seq\n",
    "    return input_seq, output_seq"
   ]
  },
  {
   "cell_type": "code",
   "execution_count": null,
   "metadata": {
    "collapsed": true
   },
   "outputs": [],
   "source": [
    "def create_model_question_conv_branch(input_seq, params):\n",
    "    conv_1 = Conv1D(\n",
    "        params['num_conv_filters'],\n",
    "        kernel_size=params['conv_kernel_size'],\n",
    "        padding='same',\n",
    "    )(input_seq)\n",
    "    \n",
    "    bn_1 = BatchNormalization()(conv_1)\n",
    "    relu_1 = Activation('relu')(bn_1)\n",
    "    dropout_1 = Dropout(params['conv_dropout_rate'])(relu_1)\n",
    "\n",
    "    conv_2 = Conv1D(\n",
    "        params['num_conv_filters'],\n",
    "        kernel_size=params['conv_kernel_size'],\n",
    "        padding='same',\n",
    "    )(dropout_1)\n",
    "    \n",
    "    bn_2 = BatchNormalization()(conv_2)\n",
    "    relu_2 = Activation('relu')(bn_2)\n",
    "    dropout_2 = Dropout(params['conv_dropout_rate'])(relu_2)\n",
    "    \n",
    "    flatten = Flatten()(dropout_2)\n",
    "    output = flatten\n",
    "    \n",
    "    return output"
   ]
  },
  {
   "cell_type": "code",
   "execution_count": null,
   "metadata": {
    "collapsed": true
   },
   "outputs": [],
   "source": [
    "def create_model_question_timedist_max_branch(input_seq, params):\n",
    "    timedist = TimeDistributed(Dense(EMBEDDING_DIM))(input_seq)\n",
    "    bn = BatchNormalization()(timedist)\n",
    "    relu = Activation('relu')(bn)\n",
    "    dropout = Dropout(params['timedist_dropout_rate'])(relu)\n",
    "\n",
    "    lambda_max = Lambda(\n",
    "        lambda x: K.max(x, axis=1),\n",
    "        output_shape=(EMBEDDING_DIM, )\n",
    "    )(dropout)\n",
    "    \n",
    "    output = lambda_max\n",
    "    return output"
   ]
  },
  {
   "cell_type": "code",
   "execution_count": null,
   "metadata": {
    "collapsed": true
   },
   "outputs": [],
   "source": [
    "def create_dense_block(input_layer, num_units, dropout_rate):\n",
    "    dense = Dense(\n",
    "        num_units,\n",
    "        kernel_initializer=init_weights,\n",
    "        bias_initializer=init_bias,\n",
    "    )(input_layer)\n",
    "    bn = BatchNormalization()(dense)\n",
    "    relu = Activation('relu')(bn)\n",
    "    dropout = Dropout(dropout_rate)(relu)\n",
    "    output = dropout\n",
    "    \n",
    "    return output"
   ]
  },
  {
   "cell_type": "code",
   "execution_count": null,
   "metadata": {
    "collapsed": true
   },
   "outputs": [],
   "source": [
    "def zero_loss(y_true, y_pred):\n",
    "    return K.zeros((1,))"
   ]
  },
  {
   "cell_type": "code",
   "execution_count": null,
   "metadata": {
    "collapsed": true
   },
   "outputs": [],
   "source": [
    "def create_model(params):\n",
    "    input_q1, emb_q1 = create_embedding_block()\n",
    "    input_q2, emb_q2 = create_embedding_block()\n",
    "    \n",
    "    # Feature extractors.\n",
    "    conv_q1_output = create_model_question_conv_branch(emb_q1, params)\n",
    "    conv_q2_output = create_model_question_conv_branch(emb_q2, params)\n",
    "    \n",
    "    timedist_q1_output = create_model_question_timedist_max_branch(emb_q1, params)\n",
    "    timedist_q2_output = create_model_question_timedist_max_branch(emb_q2, params)\n",
    "    \n",
    "    # Mid-level transforms.\n",
    "    conv_merged = concatenate([conv_q1_output, conv_q2_output])\n",
    "    conv_dense_1 = create_dense_block(conv_merged, params['num_dense_1'], params['dense_dropout_rate'])\n",
    "    conv_dense_2 = create_dense_block(conv_dense_1, params['num_dense_2'], params['dense_dropout_rate'])\n",
    "\n",
    "    td_merged = concatenate([timedist_q1_output, timedist_q2_output])\n",
    "    td_dense_1 = create_dense_block(td_merged, params['num_dense_1'], params['dense_dropout_rate'])\n",
    "    td_dense_2 = create_dense_block(td_dense_1, params['num_dense_2'], params['dense_dropout_rate'])\n",
    "\n",
    "    # Main dense block.\n",
    "    merged_main = Concatenate(name='feature_output')([conv_dense_2, td_dense_2])\n",
    "    dense_main_1 = create_dense_block(merged_main, params['num_dense_1'], params['dense_dropout_rate'])\n",
    "    dense_main_2 = create_dense_block(dense_main_1, params['num_dense_2'], params['dense_dropout_rate'])\n",
    "    dense_main_3 = create_dense_block(dense_main_2, params['num_dense_3'], params['dense_dropout_rate'])\n",
    "    \n",
    "    output = Dense(\n",
    "        1,\n",
    "        kernel_initializer=init_weights,\n",
    "        bias_initializer=init_bias,\n",
    "        activation='sigmoid',\n",
    "        name='target_output',\n",
    "    )(dense_main_3)\n",
    "    \n",
    "    model = Model(\n",
    "        inputs=[input_q1, input_q2],\n",
    "        outputs=[output, merged_main],\n",
    "    )\n",
    "    \n",
    "    model.compile(\n",
    "        loss={'target_output': 'binary_crossentropy', 'feature_output': zero_loss},\n",
    "        loss_weights={'target_output': 1.0, 'feature_output': 0.0},\n",
    "        optimizer='nadam',\n",
    "        metrics=None\n",
    "    )\n",
    "\n",
    "    return model"
   ]
  },
  {
   "cell_type": "code",
   "execution_count": null,
   "metadata": {
    "collapsed": true
   },
   "outputs": [],
   "source": [
    "model_params = {\n",
    "    'num_conv_filters': 32,\n",
    "    'num_dense_1': 256,\n",
    "    'num_dense_2': 128,\n",
    "    'num_dense_3': 100,\n",
    "    'conv_kernel_size': 3,\n",
    "    'conv_dropout_rate': 0.25,\n",
    "    'timedist_dropout_rate': 0.25,\n",
    "    'dense_dropout_rate': 0.25,\n",
    "}"
   ]
  },
  {
   "cell_type": "code",
   "execution_count": null,
   "metadata": {
    "collapsed": true
   },
   "outputs": [],
   "source": [
    "feature_output_size = model_params['num_dense_2'] * 2"
   ]
  },
  {
   "cell_type": "code",
   "execution_count": null,
   "metadata": {
    "collapsed": true
   },
   "outputs": [],
   "source": [
    "model_checkpoint_path = aux_data_folder + 'fold-checkpoint-' + feature_list_id + '.h5'"
   ]
  },
  {
   "cell_type": "code",
   "execution_count": null,
   "metadata": {
    "collapsed": true
   },
   "outputs": [],
   "source": [
    "kfold = StratifiedKFold(\n",
    "    n_splits=NUM_FOLDS,\n",
    "    shuffle=True,\n",
    "    random_state=RANDOM_SEED\n",
    ")"
   ]
  },
  {
   "cell_type": "code",
   "execution_count": null,
   "metadata": {
    "collapsed": true
   },
   "outputs": [],
   "source": [
    "y_train_oofp = np.zeros_like(y_train, dtype='float32')\n",
    "y_train_oofp_features = np.zeros((len(y_train), feature_output_size), dtype='float32')"
   ]
  },
  {
   "cell_type": "code",
   "execution_count": null,
   "metadata": {
    "collapsed": true
   },
   "outputs": [],
   "source": [
    "y_test_oofp = np.zeros((len(X_test_q1), NUM_FOLDS), dtype='float32')\n",
    "y_test_oofp_features = np.zeros((len(X_test_q1), feature_output_size), dtype='float32')"
   ]
  },
  {
   "cell_type": "code",
   "execution_count": null,
   "metadata": {
    "scrolled": false
   },
   "outputs": [],
   "source": [
    "for fold_num, (ix_train, ix_val) in enumerate(kfold.split(X_train_q1, y_train)):\n",
    "    X_fold_train_q1 = X_train_q1[ix_train]\n",
    "    X_fold_train_q2 = X_train_q2[ix_train]\n",
    "\n",
    "    X_fold_val_q1 = X_train_q1[ix_val]\n",
    "    X_fold_val_q2 = X_train_q2[ix_val]\n",
    "\n",
    "    y_fold_train = y_train[ix_train]\n",
    "    y_fold_val = y_train[ix_val]\n",
    "    \n",
    "    print()\n",
    "    print(f'Fitting fold {fold_num + 1} of {kfold.n_splits}')\n",
    "    print()\n",
    "    \n",
    "    model = create_model(model_params)\n",
    "    model.fit(\n",
    "        [X_fold_train_q1, X_fold_train_q2],\n",
    "        [y_fold_train, np.zeros((len(y_fold_train), feature_output_size))],\n",
    "        \n",
    "        validation_data=(\n",
    "            [X_fold_val_q1, X_fold_val_q2],\n",
    "            [y_fold_val, np.zeros((len(y_fold_val), feature_output_size))],\n",
    "        ),\n",
    "\n",
    "        batch_size=BATCH_SIZE,\n",
    "        epochs=NUM_EPOCHS,\n",
    "        verbose=1,\n",
    "        \n",
    "        callbacks=[\n",
    "            EarlyStopping(\n",
    "                monitor='val_loss',\n",
    "                min_delta=0.001,\n",
    "                patience=3,\n",
    "                verbose=1,\n",
    "                mode='auto',\n",
    "            ),\n",
    "            ModelCheckpoint(\n",
    "                model_checkpoint_path,\n",
    "                monitor='val_loss',\n",
    "                save_best_only=True,\n",
    "                verbose=2,\n",
    "            ),\n",
    "        ],\n",
    "    )\n",
    "        \n",
    "    # Create out-of-fold prediction.\n",
    "    model.load_weights(model_checkpoint_path)\n",
    "    \n",
    "    y_train_oofp[ix_val], y_train_oofp_features[ix_val] = model.predict(\n",
    "        [X_train_q1[ix_val], X_train_q2[ix_val]],\n",
    "        batch_size=1024,\n",
    "        verbose=1\n",
    "    )\n",
    "    \n",
    "    if fold_num + 1 == NUM_FOLDS:\n",
    "        y_test_oofp, y_test_oofp_features = model.predict(\n",
    "            [X_test_q1, X_test_q2],\n",
    "            batch_size=1024,\n",
    "            verbose=1\n",
    "        )\n",
    "    \n",
    "    # Clear GPU memory.\n",
    "    K.clear_session()\n",
    "    del X_fold_train_q1\n",
    "    del X_fold_train_q2\n",
    "    del X_fold_val_q1\n",
    "    del X_fold_val_q2\n",
    "    del model\n",
    "    gc.collect()"
   ]
  },
  {
   "cell_type": "code",
   "execution_count": null,
   "metadata": {},
   "outputs": [],
   "source": [
    "cv_score = log_loss(y_train, y_train_oofp)\n",
    "print('CV score:', cv_score)"
   ]
  },
  {
   "cell_type": "markdown",
   "metadata": {},
   "source": [
    "## Save feature names"
   ]
  },
  {
   "cell_type": "code",
   "execution_count": null,
   "metadata": {
    "collapsed": true
   },
   "outputs": [],
   "source": [
    "feature_names = [\n",
    "    'oofp_currie32_cnn_activations',\n",
    "]"
   ]
  },
  {
   "cell_type": "code",
   "execution_count": null,
   "metadata": {
    "collapsed": true
   },
   "outputs": [],
   "source": [
    "save_feature_names(feature_names, feature_list_id)"
   ]
  },
  {
   "cell_type": "markdown",
   "metadata": {},
   "source": [
    "## Save Train features"
   ]
  },
  {
   "cell_type": "code",
   "execution_count": null,
   "metadata": {
    "collapsed": true
   },
   "outputs": [],
   "source": [
    "save_feature_list(y_train_oofp_features, 'train', feature_list_id)"
   ]
  },
  {
   "cell_type": "markdown",
   "metadata": {},
   "source": [
    "## Save Test features"
   ]
  },
  {
   "cell_type": "code",
   "execution_count": null,
   "metadata": {
    "collapsed": true
   },
   "outputs": [],
   "source": [
    "save_feature_list(y_test_oofp_features, 'test', feature_list_id)"
   ]
  },
  {
   "cell_type": "markdown",
   "metadata": {},
   "source": [
    "## Explore"
   ]
  },
  {
   "cell_type": "code",
   "execution_count": null,
   "metadata": {},
   "outputs": [],
   "source": [
    "pd.DataFrame(y_train_oofp_features).describe().T"
   ]
  },
  {
   "cell_type": "code",
   "execution_count": null,
   "metadata": {},
   "outputs": [],
   "source": [
    "pd.DataFrame(y_test_oofp_features).describe().T"
   ]
  }
 ],
 "metadata": {
  "kernelspec": {
   "display_name": "Python 3",
   "language": "python",
   "name": "python3"
  },
  "language_info": {
   "codemirror_mode": {
    "name": "ipython",
    "version": 3
   },
   "file_extension": ".py",
   "mimetype": "text/x-python",
   "name": "python",
   "nbconvert_exporter": "python",
   "pygments_lexer": "ipython3",
   "version": "3.6.1"
  }
 },
 "nbformat": 4,
 "nbformat_minor": 2
}
