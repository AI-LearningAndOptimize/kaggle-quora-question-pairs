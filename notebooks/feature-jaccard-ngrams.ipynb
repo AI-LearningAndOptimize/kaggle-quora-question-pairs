{
 "cells": [
  {
   "cell_type": "markdown",
   "metadata": {},
   "source": [
    "## Imports"
   ]
  },
  {
   "cell_type": "code",
   "execution_count": 1,
   "metadata": {
    "collapsed": true
   },
   "outputs": [],
   "source": [
    "import os"
   ]
  },
  {
   "cell_type": "markdown",
   "metadata": {},
   "source": [
    "## Config"
   ]
  },
  {
   "cell_type": "code",
   "execution_count": 2,
   "metadata": {
    "collapsed": true
   },
   "outputs": [],
   "source": [
    "feature_list_id = 'jaccard_ngrams'"
   ]
  },
  {
   "cell_type": "code",
   "execution_count": 3,
   "metadata": {
    "collapsed": true
   },
   "outputs": [],
   "source": [
    "NGRAM_RANGE = range(2, 6)"
   ]
  },
  {
   "cell_type": "code",
   "execution_count": 4,
   "metadata": {
    "collapsed": true
   },
   "outputs": [],
   "source": [
    "data_folder = os.path.abspath(os.path.join(os.curdir, os.pardir, 'data')) + os.path.sep\n",
    "aux_data_folder = os.path.join(data_folder, 'aux') + os.path.sep\n",
    "preproc_data_folder = os.path.join(data_folder, 'preproc') + os.path.sep\n",
    "features_data_folder = os.path.join(data_folder, 'features') + os.path.sep"
   ]
  },
  {
   "cell_type": "markdown",
   "metadata": {},
   "source": [
    "## Read Data"
   ]
  },
  {
   "cell_type": "code",
   "execution_count": 5,
   "metadata": {
    "collapsed": true
   },
   "outputs": [],
   "source": [
    "df_questions_train = pd.read_csv(data_folder + 'train.csv').fillna('')\n",
    "df_questions_test = pd.read_csv(data_folder + 'test.csv').fillna('')"
   ]
  },
  {
   "cell_type": "code",
   "execution_count": 6,
   "metadata": {
    "collapsed": true
   },
   "outputs": [],
   "source": [
    "question_tokens_train = load_json(preproc_data_folder + 'question_tokens_train.json')\n",
    "question_tokens_test = load_json(preproc_data_folder + 'question_tokens_test.json')"
   ]
  },
  {
   "cell_type": "markdown",
   "metadata": {},
   "source": [
    "## Build Features"
   ]
  },
  {
   "cell_type": "code",
   "execution_count": 7,
   "metadata": {
    "collapsed": true
   },
   "outputs": [],
   "source": [
    "def get_char_ngrams(doc, n):\n",
    "    return [doc[i:i + n] for i in range(len(doc) - n + 1)]"
   ]
  },
  {
   "cell_type": "code",
   "execution_count": 8,
   "metadata": {
    "collapsed": true
   },
   "outputs": [],
   "source": [
    "def get_ngram_jaccard_similarities(q1_ngrams, q2_ngrams):\n",
    "    len_intersection = len(q1_ngrams.intersection(q2_ngrams))\n",
    "    jaccard_index = len_intersection / len(q1_ngrams.union(q2_ngrams))\n",
    "    jaccard_index_norm_q1 = len_intersection / len(q1_ngrams)\n",
    "    jaccard_index_norm_q2 = len_intersection / len(q2_ngrams)\n",
    "    \n",
    "    return jaccard_index, jaccard_index_norm_q1, jaccard_index_norm_q2"
   ]
  },
  {
   "cell_type": "code",
   "execution_count": 9,
   "metadata": {
    "collapsed": true
   },
   "outputs": [],
   "source": [
    "def get_jaccard_similarities(q1, q2, n):\n",
    "    if len(q1) < max(NGRAM_RANGE) and len(q2) < max(NGRAM_RANGE):\n",
    "        return 1, 1, 1\n",
    "    if len(q1) < max(NGRAM_RANGE) or len(q2) < max(NGRAM_RANGE):\n",
    "        return 0, 0, 0\n",
    "    \n",
    "    q1_ngrams = set(get_char_ngrams(q1, n))\n",
    "    q2_ngrams = set(get_char_ngrams(q2, n))\n",
    "    return get_ngram_jaccard_similarities(q1_ngrams, q2_ngrams)"
   ]
  },
  {
   "cell_type": "code",
   "execution_count": 10,
   "metadata": {
    "collapsed": true
   },
   "outputs": [],
   "source": [
    "def build_features(df_questions_original, questions_tokenized):\n",
    "    num_pairs = len(questions_tokenized)\n",
    "    \n",
    "    num_jaccard_features = 3\n",
    "    num_features = len(NGRAM_RANGE) * num_jaccard_features\n",
    "    \n",
    "    X = np.zeros((num_pairs, num_features), dtype=float)\n",
    "    \n",
    "    for index, pair in progressbar(enumerate(questions_tokenized), size=num_pairs):\n",
    "        q1_text = ' '.join(pair['question1'])\n",
    "        q2_text = ' '.join(pair['question2'])\n",
    "\n",
    "        for ix, n in enumerate(NGRAM_RANGE):\n",
    "            ix_start = ix * num_jaccard_features\n",
    "            ix_end = (ix + 1) * num_jaccard_features\n",
    "            X[index, ix_start:ix_end] = get_jaccard_similarities(q1_text, q2_text, n)\n",
    "            \n",
    "    return X"
   ]
  },
  {
   "cell_type": "markdown",
   "metadata": {},
   "source": [
    "## Save feature names"
   ]
  },
  {
   "cell_type": "code",
   "execution_count": 11,
   "metadata": {
    "collapsed": true
   },
   "outputs": [],
   "source": [
    "feature_names = []"
   ]
  },
  {
   "cell_type": "code",
   "execution_count": 12,
   "metadata": {
    "collapsed": true
   },
   "outputs": [],
   "source": [
    "for n in NGRAM_RANGE:\n",
    "    feature_names.append(f'jaccard_ix_{n}gram')\n",
    "    feature_names.append(f'jaccard_ix_norm_q1_{n}gram')\n",
    "    feature_names.append(f'jaccard_ix_norm_q2_{n}gram')"
   ]
  },
  {
   "cell_type": "code",
   "execution_count": 13,
   "metadata": {
    "collapsed": true
   },
   "outputs": [],
   "source": [
    "save_lines(feature_names, features_data_folder + f'X_train_{feature_list_id}.names')"
   ]
  },
  {
   "cell_type": "markdown",
   "metadata": {},
   "source": [
    "## Save features"
   ]
  },
  {
   "cell_type": "code",
   "execution_count": 14,
   "metadata": {
    "scrolled": true
   },
   "outputs": [
    {
     "name": "stderr",
     "output_type": "stream",
     "text": [
      "Widget Javascript not detected.  It may not be installed or enabled properly.\n"
     ]
    },
    {
     "data": {
      "application/vnd.jupyter.widget-view+json": {
       "model_id": "98bb79f5caca4c85bdea5cc16686ae07"
      }
     },
     "metadata": {},
     "output_type": "display_data"
    }
   ],
   "source": [
    "X_train = build_features(df_questions_train, question_tokens_train)"
   ]
  },
  {
   "cell_type": "code",
   "execution_count": 15,
   "metadata": {
    "collapsed": true
   },
   "outputs": [],
   "source": [
    "save(X_train, features_data_folder + f'X_train_{feature_list_id}.pickle')"
   ]
  },
  {
   "cell_type": "code",
   "execution_count": 16,
   "metadata": {},
   "outputs": [
    {
     "name": "stderr",
     "output_type": "stream",
     "text": [
      "Widget Javascript not detected.  It may not be installed or enabled properly.\n"
     ]
    },
    {
     "data": {
      "application/vnd.jupyter.widget-view+json": {
       "model_id": "45dec24b21f94a8bbf2949e842fecd5c"
      }
     },
     "metadata": {},
     "output_type": "display_data"
    }
   ],
   "source": [
    "X_test = build_features(df_questions_test, question_tokens_test)"
   ]
  },
  {
   "cell_type": "code",
   "execution_count": 17,
   "metadata": {
    "collapsed": true
   },
   "outputs": [],
   "source": [
    "save(X_test, features_data_folder + f'X_test_{feature_list_id}.pickle')"
   ]
  }
 ],
 "metadata": {
  "kernelspec": {
   "display_name": "Python 3",
   "language": "python",
   "name": "python3"
  },
  "language_info": {
   "codemirror_mode": {
    "name": "ipython",
    "version": 3
   },
   "file_extension": ".py",
   "mimetype": "text/x-python",
   "name": "python",
   "nbconvert_exporter": "python",
   "pygments_lexer": "ipython3",
   "version": "3.6.0"
  }
 },
 "nbformat": 4,
 "nbformat_minor": 2
}
