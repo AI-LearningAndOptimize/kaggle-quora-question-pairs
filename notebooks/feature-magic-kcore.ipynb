{
 "cells": [
  {
   "cell_type": "markdown",
   "metadata": {},
   "source": [
    "## Imports"
   ]
  },
  {
   "cell_type": "code",
   "execution_count": null,
   "metadata": {
    "collapsed": true
   },
   "outputs": [],
   "source": [
    "\"\"\"\n",
    "Feature based on Tien-Dung Le's post:\n",
    "https://www.kaggle.com/c/quora-question-pairs/discussion/33371\n",
    "\n",
    "Slightly different idea here.\n",
    "Instead of making a id-based graph/dataframe, we do it based on lowercase questions.\n",
    "\n",
    "\"\"\"\n",
    "import networkx as nx\n",
    "import pandas as pd\n",
    "from tqdm import tqdm"
   ]
  },
  {
   "cell_type": "markdown",
   "metadata": {},
   "source": [
    "## Read data"
   ]
  },
  {
   "cell_type": "code",
   "execution_count": null,
   "metadata": {
    "collapsed": true
   },
   "outputs": [],
   "source": [
    "feature_list_id = 'magic_kcore_2'"
   ]
  },
  {
   "cell_type": "code",
   "execution_count": null,
   "metadata": {
    "collapsed": true
   },
   "outputs": [],
   "source": [
    "df_train = pd.read_csv(data_folder + 'train.csv')\n",
    "df_test = pd.read_csv(data_folder + 'test.csv')\n",
    "\n",
    "dfs = (df_train, df_test)"
   ]
  },
  {
   "cell_type": "markdown",
   "metadata": {},
   "source": [
    "## Build features"
   ]
  },
  {
   "cell_type": "code",
   "execution_count": null,
   "metadata": {
    "collapsed": true
   },
   "outputs": [],
   "source": [
    "questions = []\n",
    "for df in dfs:\n",
    "    df['question1'] = df['question1'].str.lower()\n",
    "    df['question2'] = df['question2'].str.lower()\n",
    "    questions += df['question1'].tolist()\n",
    "    questions += df['question2'].tolist()\n",
    "\n",
    "graph = nx.Graph()\n",
    "graph.add_nodes_from(questions)\n",
    "\n",
    "for df in [df_train, df_test]:\n",
    "    edges = list(df[['question1', 'question2']].to_records(index=False))\n",
    "    graph.add_edges_from(edges)\n",
    "\n",
    "graph.remove_edges_from(graph.selfloop_edges())\n",
    "\n",
    "df = pd.DataFrame(data=graph.nodes(), columns=[\"question\"])\n",
    "df['kcores'] = 1\n",
    "\n",
    "n_cores = 30\n",
    "for k in tqdm(range(2, n_cores + 1)):\n",
    "    ck = nx.k_core(graph, k=k).nodes()\n",
    "    df['kcores'][df.question.isin(ck)] = k\n",
    "\n",
    "print(df['kcores'].value_counts())"
   ]
  },
  {
   "cell_type": "code",
   "execution_count": null,
   "metadata": {
    "collapsed": true
   },
   "outputs": [],
   "source": [
    "df.head()"
   ]
  },
  {
   "cell_type": "code",
   "execution_count": null,
   "metadata": {
    "collapsed": true
   },
   "outputs": [],
   "source": [
    "kcore_dict = dict(zip(df.question, df.kcores))"
   ]
  },
  {
   "cell_type": "code",
   "execution_count": null,
   "metadata": {
    "collapsed": true
   },
   "outputs": [],
   "source": [
    "df_train['q1_kcore'] = df_train['question1'].map(kcore_dict)\n",
    "df_train['q2_kcore'] = df_train['question2'].map(kcore_dict)"
   ]
  },
  {
   "cell_type": "code",
   "execution_count": null,
   "metadata": {
    "collapsed": true
   },
   "outputs": [],
   "source": [
    "df_test['q1_kcore'] = df_test['question1'].map(kcore_dict)\n",
    "df_test['q2_kcore'] = df_test['question2'].map(kcore_dict)"
   ]
  },
  {
   "cell_type": "markdown",
   "metadata": {},
   "source": [
    "## Save feature names"
   ]
  },
  {
   "cell_type": "code",
   "execution_count": null,
   "metadata": {
    "collapsed": true
   },
   "outputs": [],
   "source": [
    "columns_to_keep = [\n",
    "    'q1_kcore',\n",
    "    'q2_kcore',\n",
    "]"
   ]
  },
  {
   "cell_type": "code",
   "execution_count": null,
   "metadata": {
    "collapsed": true
   },
   "outputs": [],
   "source": [
    "feature_names = [\n",
    "    'magic_kcore_q1',\n",
    "    'magic_kcore_q2',\n",
    "]"
   ]
  },
  {
   "cell_type": "code",
   "execution_count": null,
   "metadata": {
    "collapsed": true
   },
   "outputs": [],
   "source": [
    "save_feature_names(feature_names, feature_list_id)"
   ]
  },
  {
   "cell_type": "markdown",
   "metadata": {},
   "source": [
    "## Save features"
   ]
  },
  {
   "cell_type": "code",
   "execution_count": null,
   "metadata": {
    "collapsed": true
   },
   "outputs": [],
   "source": [
    "save_feature_list(df_train[columns_to_keep].values, 'train', feature_list_id)"
   ]
  },
  {
   "cell_type": "code",
   "execution_count": null,
   "metadata": {
    "collapsed": true
   },
   "outputs": [],
   "source": [
    "save_feature_list(df_test[columns_to_keep].values, 'test', feature_list_id)"
   ]
  }
 ],
 "metadata": {
  "kernelspec": {
   "display_name": "Python 3",
   "language": "python",
   "name": "python3"
  },
  "language_info": {
   "codemirror_mode": {
    "name": "ipython",
    "version": 3
   },
   "file_extension": ".py",
   "mimetype": "text/x-python",
   "name": "python",
   "nbconvert_exporter": "python",
   "pygments_lexer": "ipython3",
   "version": "3.6.1"
  }
 },
 "nbformat": 4,
 "nbformat_minor": 2
}
