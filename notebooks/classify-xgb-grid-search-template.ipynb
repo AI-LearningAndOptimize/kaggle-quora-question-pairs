{
 "cells": [
  {
   "cell_type": "markdown",
   "metadata": {},
   "source": [
    "## Imports"
   ]
  },
  {
   "cell_type": "code",
   "execution_count": 1,
   "metadata": {
    "collapsed": true
   },
   "outputs": [],
   "source": [
    "import datetime\n",
    "import os"
   ]
  },
  {
   "cell_type": "code",
   "execution_count": 2,
   "metadata": {
    "collapsed": true
   },
   "outputs": [],
   "source": [
    "import sklearn_evaluation as skeval\n",
    "import xgboost as xgb"
   ]
  },
  {
   "cell_type": "code",
   "execution_count": 3,
   "metadata": {
    "collapsed": true
   },
   "outputs": [],
   "source": [
    "from sklearn.model_selection import train_test_split, GridSearchCV\n",
    "from sklearn.metrics import *\n",
    "from xgboost import XGBClassifier"
   ]
  },
  {
   "cell_type": "markdown",
   "metadata": {},
   "source": [
    "## Config"
   ]
  },
  {
   "cell_type": "code",
   "execution_count": 4,
   "metadata": {
    "collapsed": true
   },
   "outputs": [],
   "source": [
    "RANDOM_SEED = 42"
   ]
  },
  {
   "cell_type": "code",
   "execution_count": 5,
   "metadata": {
    "collapsed": true
   },
   "outputs": [],
   "source": [
    "data_folder = os.path.abspath(os.path.join(os.curdir, os.pardir, 'data')) + os.path.sep\n",
    "aux_data_folder = os.path.join(data_folder, 'aux') + os.path.sep\n",
    "preproc_data_folder = os.path.join(data_folder, 'preproc') + os.path.sep\n",
    "features_data_folder = os.path.join(data_folder, 'features') + os.path.sep"
   ]
  },
  {
   "cell_type": "markdown",
   "metadata": {},
   "source": [
    "## Read Data"
   ]
  },
  {
   "cell_type": "code",
   "execution_count": 6,
   "metadata": {
    "collapsed": true
   },
   "outputs": [],
   "source": [
    "X = load(features_data_folder + 'X_train_summary_stats.pickle')"
   ]
  },
  {
   "cell_type": "code",
   "execution_count": 7,
   "metadata": {
    "collapsed": true
   },
   "outputs": [],
   "source": [
    "y = load(features_data_folder + 'y_train.pickle')"
   ]
  },
  {
   "cell_type": "code",
   "execution_count": 8,
   "metadata": {
    "collapsed": true
   },
   "outputs": [],
   "source": [
    "X_train, X_val, y_train, y_val = train_test_split(\n",
    "    X, y,\n",
    "    test_size=0.15,\n",
    "    random_state=RANDOM_SEED,\n",
    "    stratify=y\n",
    ")"
   ]
  },
  {
   "cell_type": "code",
   "execution_count": 9,
   "metadata": {},
   "outputs": [
    {
     "name": "stdout",
     "output_type": "stream",
     "text": [
      "X train: (343646, 12)\n",
      "y train: (343646,)\n",
      "X val:   (60644, 12)\n",
      "y val:   (60644,)\n"
     ]
    }
   ],
   "source": [
    "print('X train:', X_train.shape)\n",
    "print('y train:', y_train.shape)\n",
    "print('X val:  ', X_val.shape)\n",
    "print('y val:  ', y_val.shape)"
   ]
  },
  {
   "cell_type": "markdown",
   "metadata": {},
   "source": [
    "## Train Model"
   ]
  },
  {
   "cell_type": "code",
   "execution_count": 10,
   "metadata": {
    "collapsed": true
   },
   "outputs": [],
   "source": [
    "positive_imbalance_ratio = np.count_nonzero(y_train == 0) / np.count_nonzero(y_train == 1)"
   ]
  },
  {
   "cell_type": "code",
   "execution_count": 11,
   "metadata": {
    "scrolled": true
   },
   "outputs": [
    {
     "name": "stdout",
     "output_type": "stream",
     "text": [
      "Positive imbalance ratio: 1.7085825983463778\n"
     ]
    }
   ],
   "source": [
    "print('Positive imbalance ratio:', positive_imbalance_ratio)"
   ]
  },
  {
   "cell_type": "code",
   "execution_count": 12,
   "metadata": {
    "collapsed": true
   },
   "outputs": [],
   "source": [
    "xgb_params = {\n",
    "    'objective': 'binary:logistic',\n",
    "    'n_estimators': 100,\n",
    "    'seed': RANDOM_SEED,\n",
    "    'learning_rate': 0.15,\n",
    "    'max_depth': 6,\n",
    "    'subsample': 0.75,\n",
    "    'colsample_bytree': 0.4,\n",
    "    'scale_pos_weight': positive_imbalance_ratio,\n",
    "    'silent': 1,\n",
    "}"
   ]
  },
  {
   "cell_type": "markdown",
   "metadata": {},
   "source": [
    "### Search for the best parameters"
   ]
  },
  {
   "cell_type": "code",
   "execution_count": 13,
   "metadata": {
    "collapsed": true
   },
   "outputs": [],
   "source": [
    "grid_search_parameters = {\n",
    "    'n_estimators': [300, 500, 700],\n",
    "    'learning_rate': [0.05, 0.1, 0.3],\n",
    "    'max_depth': [8, 10, 12],\n",
    "    'subsample': [0.7],\n",
    "    'colsample_bytree': [0.8],\n",
    "}"
   ]
  },
  {
   "cell_type": "code",
   "execution_count": 14,
   "metadata": {
    "collapsed": true
   },
   "outputs": [],
   "source": [
    "model = XGBClassifier(**xgb_params)"
   ]
  },
  {
   "cell_type": "code",
   "execution_count": 15,
   "metadata": {
    "collapsed": true
   },
   "outputs": [],
   "source": [
    "def log_loss_scorer(estimator, X, y):\n",
    "    return -log_loss(y, estimator.predict_proba(X)[:, -1])"
   ]
  },
  {
   "cell_type": "code",
   "execution_count": 16,
   "metadata": {
    "collapsed": true
   },
   "outputs": [],
   "source": [
    "grid_search = GridSearchCV(\n",
    "    model,\n",
    "    grid_search_parameters,\n",
    "    n_jobs=1,\n",
    "    cv=3,\n",
    "    verbose=2,\n",
    "    scoring=log_loss_scorer\n",
    ")"
   ]
  },
  {
   "cell_type": "code",
   "execution_count": 17,
   "metadata": {
    "scrolled": false
   },
   "outputs": [
    {
     "name": "stdout",
     "output_type": "stream",
     "text": [
      "Fitting 3 folds for each of 27 candidates, totalling 81 fits\n",
      "[CV] colsample_bytree=0.8, learning_rate=0.05, max_depth=8, n_estimators=300, subsample=0.7 \n",
      "[CV]  colsample_bytree=0.8, learning_rate=0.05, max_depth=8, n_estimators=300, subsample=0.7, total=  30.5s\n",
      "[CV] colsample_bytree=0.8, learning_rate=0.05, max_depth=8, n_estimators=300, subsample=0.7 \n"
     ]
    },
    {
     "name": "stderr",
     "output_type": "stream",
     "text": [
      "[Parallel(n_jobs=1)]: Done   1 out of   1 | elapsed:   31.3s remaining:    0.0s\n"
     ]
    },
    {
     "name": "stdout",
     "output_type": "stream",
     "text": [
      "[CV]  colsample_bytree=0.8, learning_rate=0.05, max_depth=8, n_estimators=300, subsample=0.7, total=  30.5s\n",
      "[CV] colsample_bytree=0.8, learning_rate=0.05, max_depth=8, n_estimators=300, subsample=0.7 \n",
      "[CV]  colsample_bytree=0.8, learning_rate=0.05, max_depth=8, n_estimators=300, subsample=0.7, total=  30.8s\n",
      "[CV] colsample_bytree=0.8, learning_rate=0.05, max_depth=8, n_estimators=500, subsample=0.7 \n",
      "[CV]  colsample_bytree=0.8, learning_rate=0.05, max_depth=8, n_estimators=500, subsample=0.7, total=  49.5s\n",
      "[CV] colsample_bytree=0.8, learning_rate=0.05, max_depth=8, n_estimators=500, subsample=0.7 \n",
      "[CV]  colsample_bytree=0.8, learning_rate=0.05, max_depth=8, n_estimators=500, subsample=0.7, total=  50.6s\n",
      "[CV] colsample_bytree=0.8, learning_rate=0.05, max_depth=8, n_estimators=500, subsample=0.7 \n",
      "[CV]  colsample_bytree=0.8, learning_rate=0.05, max_depth=8, n_estimators=500, subsample=0.7, total=  50.6s\n",
      "[CV] colsample_bytree=0.8, learning_rate=0.05, max_depth=8, n_estimators=700, subsample=0.7 \n",
      "[CV]  colsample_bytree=0.8, learning_rate=0.05, max_depth=8, n_estimators=700, subsample=0.7, total= 1.2min\n",
      "[CV] colsample_bytree=0.8, learning_rate=0.05, max_depth=8, n_estimators=700, subsample=0.7 \n",
      "[CV]  colsample_bytree=0.8, learning_rate=0.05, max_depth=8, n_estimators=700, subsample=0.7, total= 1.2min\n",
      "[CV] colsample_bytree=0.8, learning_rate=0.05, max_depth=8, n_estimators=700, subsample=0.7 \n",
      "[CV]  colsample_bytree=0.8, learning_rate=0.05, max_depth=8, n_estimators=700, subsample=0.7, total= 1.2min\n",
      "[CV] colsample_bytree=0.8, learning_rate=0.05, max_depth=10, n_estimators=300, subsample=0.7 \n",
      "[CV]  colsample_bytree=0.8, learning_rate=0.05, max_depth=10, n_estimators=300, subsample=0.7, total=  37.6s\n",
      "[CV] colsample_bytree=0.8, learning_rate=0.05, max_depth=10, n_estimators=300, subsample=0.7 \n",
      "[CV]  colsample_bytree=0.8, learning_rate=0.05, max_depth=10, n_estimators=300, subsample=0.7, total=  38.2s\n",
      "[CV] colsample_bytree=0.8, learning_rate=0.05, max_depth=10, n_estimators=300, subsample=0.7 \n",
      "[CV]  colsample_bytree=0.8, learning_rate=0.05, max_depth=10, n_estimators=300, subsample=0.7, total=  38.6s\n",
      "[CV] colsample_bytree=0.8, learning_rate=0.05, max_depth=10, n_estimators=500, subsample=0.7 \n",
      "[CV]  colsample_bytree=0.8, learning_rate=0.05, max_depth=10, n_estimators=500, subsample=0.7, total= 1.0min\n",
      "[CV] colsample_bytree=0.8, learning_rate=0.05, max_depth=10, n_estimators=500, subsample=0.7 \n",
      "[CV]  colsample_bytree=0.8, learning_rate=0.05, max_depth=10, n_estimators=500, subsample=0.7, total= 1.0min\n",
      "[CV] colsample_bytree=0.8, learning_rate=0.05, max_depth=10, n_estimators=500, subsample=0.7 \n",
      "[CV]  colsample_bytree=0.8, learning_rate=0.05, max_depth=10, n_estimators=500, subsample=0.7, total= 1.1min\n",
      "[CV] colsample_bytree=0.8, learning_rate=0.05, max_depth=10, n_estimators=700, subsample=0.7 \n",
      "[CV]  colsample_bytree=0.8, learning_rate=0.05, max_depth=10, n_estimators=700, subsample=0.7, total= 1.5min\n",
      "[CV] colsample_bytree=0.8, learning_rate=0.05, max_depth=10, n_estimators=700, subsample=0.7 \n",
      "[CV]  colsample_bytree=0.8, learning_rate=0.05, max_depth=10, n_estimators=700, subsample=0.7, total= 1.5min\n",
      "[CV] colsample_bytree=0.8, learning_rate=0.05, max_depth=10, n_estimators=700, subsample=0.7 \n",
      "[CV]  colsample_bytree=0.8, learning_rate=0.05, max_depth=10, n_estimators=700, subsample=0.7, total= 1.5min\n",
      "[CV] colsample_bytree=0.8, learning_rate=0.05, max_depth=12, n_estimators=300, subsample=0.7 \n",
      "[CV]  colsample_bytree=0.8, learning_rate=0.05, max_depth=12, n_estimators=300, subsample=0.7, total=  45.0s\n",
      "[CV] colsample_bytree=0.8, learning_rate=0.05, max_depth=12, n_estimators=300, subsample=0.7 \n",
      "[CV]  colsample_bytree=0.8, learning_rate=0.05, max_depth=12, n_estimators=300, subsample=0.7, total=  46.6s\n",
      "[CV] colsample_bytree=0.8, learning_rate=0.05, max_depth=12, n_estimators=300, subsample=0.7 \n",
      "[CV]  colsample_bytree=0.8, learning_rate=0.05, max_depth=12, n_estimators=300, subsample=0.7, total=  47.3s\n",
      "[CV] colsample_bytree=0.8, learning_rate=0.05, max_depth=12, n_estimators=500, subsample=0.7 \n",
      "[CV]  colsample_bytree=0.8, learning_rate=0.05, max_depth=12, n_estimators=500, subsample=0.7, total= 1.3min\n",
      "[CV] colsample_bytree=0.8, learning_rate=0.05, max_depth=12, n_estimators=500, subsample=0.7 \n",
      "[CV]  colsample_bytree=0.8, learning_rate=0.05, max_depth=12, n_estimators=500, subsample=0.7, total= 1.3min\n",
      "[CV] colsample_bytree=0.8, learning_rate=0.05, max_depth=12, n_estimators=500, subsample=0.7 \n",
      "[CV]  colsample_bytree=0.8, learning_rate=0.05, max_depth=12, n_estimators=500, subsample=0.7, total= 1.3min\n",
      "[CV] colsample_bytree=0.8, learning_rate=0.05, max_depth=12, n_estimators=700, subsample=0.7 \n",
      "[CV]  colsample_bytree=0.8, learning_rate=0.05, max_depth=12, n_estimators=700, subsample=0.7, total= 1.8min\n",
      "[CV] colsample_bytree=0.8, learning_rate=0.05, max_depth=12, n_estimators=700, subsample=0.7 \n",
      "[CV]  colsample_bytree=0.8, learning_rate=0.05, max_depth=12, n_estimators=700, subsample=0.7, total= 1.8min\n",
      "[CV] colsample_bytree=0.8, learning_rate=0.05, max_depth=12, n_estimators=700, subsample=0.7 \n",
      "[CV]  colsample_bytree=0.8, learning_rate=0.05, max_depth=12, n_estimators=700, subsample=0.7, total= 1.8min\n",
      "[CV] colsample_bytree=0.8, learning_rate=0.1, max_depth=8, n_estimators=300, subsample=0.7 \n",
      "[CV]  colsample_bytree=0.8, learning_rate=0.1, max_depth=8, n_estimators=300, subsample=0.7, total=  31.2s\n",
      "[CV] colsample_bytree=0.8, learning_rate=0.1, max_depth=8, n_estimators=300, subsample=0.7 \n",
      "[CV]  colsample_bytree=0.8, learning_rate=0.1, max_depth=8, n_estimators=300, subsample=0.7, total=  31.0s\n",
      "[CV] colsample_bytree=0.8, learning_rate=0.1, max_depth=8, n_estimators=300, subsample=0.7 \n",
      "[CV]  colsample_bytree=0.8, learning_rate=0.1, max_depth=8, n_estimators=300, subsample=0.7, total=  31.5s\n",
      "[CV] colsample_bytree=0.8, learning_rate=0.1, max_depth=8, n_estimators=500, subsample=0.7 \n",
      "[CV]  colsample_bytree=0.8, learning_rate=0.1, max_depth=8, n_estimators=500, subsample=0.7, total=  50.6s\n",
      "[CV] colsample_bytree=0.8, learning_rate=0.1, max_depth=8, n_estimators=500, subsample=0.7 \n",
      "[CV]  colsample_bytree=0.8, learning_rate=0.1, max_depth=8, n_estimators=500, subsample=0.7, total=  51.4s\n",
      "[CV] colsample_bytree=0.8, learning_rate=0.1, max_depth=8, n_estimators=500, subsample=0.7 \n",
      "[CV]  colsample_bytree=0.8, learning_rate=0.1, max_depth=8, n_estimators=500, subsample=0.7, total=  52.2s\n",
      "[CV] colsample_bytree=0.8, learning_rate=0.1, max_depth=8, n_estimators=700, subsample=0.7 \n",
      "[CV]  colsample_bytree=0.8, learning_rate=0.1, max_depth=8, n_estimators=700, subsample=0.7, total= 1.2min\n",
      "[CV] colsample_bytree=0.8, learning_rate=0.1, max_depth=8, n_estimators=700, subsample=0.7 \n",
      "[CV]  colsample_bytree=0.8, learning_rate=0.1, max_depth=8, n_estimators=700, subsample=0.7, total= 1.2min\n",
      "[CV] colsample_bytree=0.8, learning_rate=0.1, max_depth=8, n_estimators=700, subsample=0.7 \n",
      "[CV]  colsample_bytree=0.8, learning_rate=0.1, max_depth=8, n_estimators=700, subsample=0.7, total= 1.2min\n",
      "[CV] colsample_bytree=0.8, learning_rate=0.1, max_depth=10, n_estimators=300, subsample=0.7 \n",
      "[CV]  colsample_bytree=0.8, learning_rate=0.1, max_depth=10, n_estimators=300, subsample=0.7, total=  38.0s\n",
      "[CV] colsample_bytree=0.8, learning_rate=0.1, max_depth=10, n_estimators=300, subsample=0.7 \n",
      "[CV]  colsample_bytree=0.8, learning_rate=0.1, max_depth=10, n_estimators=300, subsample=0.7, total=  39.2s\n",
      "[CV] colsample_bytree=0.8, learning_rate=0.1, max_depth=10, n_estimators=300, subsample=0.7 \n",
      "[CV]  colsample_bytree=0.8, learning_rate=0.1, max_depth=10, n_estimators=300, subsample=0.7, total=  38.7s\n",
      "[CV] colsample_bytree=0.8, learning_rate=0.1, max_depth=10, n_estimators=500, subsample=0.7 \n",
      "[CV]  colsample_bytree=0.8, learning_rate=0.1, max_depth=10, n_estimators=500, subsample=0.7, total= 1.1min\n",
      "[CV] colsample_bytree=0.8, learning_rate=0.1, max_depth=10, n_estimators=500, subsample=0.7 \n",
      "[CV]  colsample_bytree=0.8, learning_rate=0.1, max_depth=10, n_estimators=500, subsample=0.7, total= 1.1min\n",
      "[CV] colsample_bytree=0.8, learning_rate=0.1, max_depth=10, n_estimators=500, subsample=0.7 \n",
      "[CV]  colsample_bytree=0.8, learning_rate=0.1, max_depth=10, n_estimators=500, subsample=0.7, total= 1.1min\n",
      "[CV] colsample_bytree=0.8, learning_rate=0.1, max_depth=10, n_estimators=700, subsample=0.7 \n"
     ]
    },
    {
     "name": "stdout",
     "output_type": "stream",
     "text": [
      "[CV]  colsample_bytree=0.8, learning_rate=0.1, max_depth=10, n_estimators=700, subsample=0.7, total= 1.5min\n",
      "[CV] colsample_bytree=0.8, learning_rate=0.1, max_depth=10, n_estimators=700, subsample=0.7 \n",
      "[CV]  colsample_bytree=0.8, learning_rate=0.1, max_depth=10, n_estimators=700, subsample=0.7, total= 1.5min\n",
      "[CV] colsample_bytree=0.8, learning_rate=0.1, max_depth=10, n_estimators=700, subsample=0.7 \n",
      "[CV]  colsample_bytree=0.8, learning_rate=0.1, max_depth=10, n_estimators=700, subsample=0.7, total= 1.5min\n",
      "[CV] colsample_bytree=0.8, learning_rate=0.1, max_depth=12, n_estimators=300, subsample=0.7 \n",
      "[CV]  colsample_bytree=0.8, learning_rate=0.1, max_depth=12, n_estimators=300, subsample=0.7, total=  46.2s\n",
      "[CV] colsample_bytree=0.8, learning_rate=0.1, max_depth=12, n_estimators=300, subsample=0.7 \n",
      "[CV]  colsample_bytree=0.8, learning_rate=0.1, max_depth=12, n_estimators=300, subsample=0.7, total=  47.3s\n",
      "[CV] colsample_bytree=0.8, learning_rate=0.1, max_depth=12, n_estimators=300, subsample=0.7 \n",
      "[CV]  colsample_bytree=0.8, learning_rate=0.1, max_depth=12, n_estimators=300, subsample=0.7, total=  47.3s\n",
      "[CV] colsample_bytree=0.8, learning_rate=0.1, max_depth=12, n_estimators=500, subsample=0.7 \n",
      "[CV]  colsample_bytree=0.8, learning_rate=0.1, max_depth=12, n_estimators=500, subsample=0.7, total= 1.3min\n",
      "[CV] colsample_bytree=0.8, learning_rate=0.1, max_depth=12, n_estimators=500, subsample=0.7 \n",
      "[CV]  colsample_bytree=0.8, learning_rate=0.1, max_depth=12, n_estimators=500, subsample=0.7, total= 1.3min\n",
      "[CV] colsample_bytree=0.8, learning_rate=0.1, max_depth=12, n_estimators=500, subsample=0.7 \n",
      "[CV]  colsample_bytree=0.8, learning_rate=0.1, max_depth=12, n_estimators=500, subsample=0.7, total= 1.3min\n",
      "[CV] colsample_bytree=0.8, learning_rate=0.1, max_depth=12, n_estimators=700, subsample=0.7 \n",
      "[CV]  colsample_bytree=0.8, learning_rate=0.1, max_depth=12, n_estimators=700, subsample=0.7, total= 1.8min\n",
      "[CV] colsample_bytree=0.8, learning_rate=0.1, max_depth=12, n_estimators=700, subsample=0.7 \n",
      "[CV]  colsample_bytree=0.8, learning_rate=0.1, max_depth=12, n_estimators=700, subsample=0.7, total= 1.8min\n",
      "[CV] colsample_bytree=0.8, learning_rate=0.1, max_depth=12, n_estimators=700, subsample=0.7 \n",
      "[CV]  colsample_bytree=0.8, learning_rate=0.1, max_depth=12, n_estimators=700, subsample=0.7, total= 1.8min\n",
      "[CV] colsample_bytree=0.8, learning_rate=0.3, max_depth=8, n_estimators=300, subsample=0.7 \n",
      "[CV]  colsample_bytree=0.8, learning_rate=0.3, max_depth=8, n_estimators=300, subsample=0.7, total=  30.6s\n",
      "[CV] colsample_bytree=0.8, learning_rate=0.3, max_depth=8, n_estimators=300, subsample=0.7 \n",
      "[CV]  colsample_bytree=0.8, learning_rate=0.3, max_depth=8, n_estimators=300, subsample=0.7, total=  31.1s\n",
      "[CV] colsample_bytree=0.8, learning_rate=0.3, max_depth=8, n_estimators=300, subsample=0.7 \n",
      "[CV]  colsample_bytree=0.8, learning_rate=0.3, max_depth=8, n_estimators=300, subsample=0.7, total=  31.3s\n",
      "[CV] colsample_bytree=0.8, learning_rate=0.3, max_depth=8, n_estimators=500, subsample=0.7 \n",
      "[CV]  colsample_bytree=0.8, learning_rate=0.3, max_depth=8, n_estimators=500, subsample=0.7, total=  50.9s\n",
      "[CV] colsample_bytree=0.8, learning_rate=0.3, max_depth=8, n_estimators=500, subsample=0.7 \n",
      "[CV]  colsample_bytree=0.8, learning_rate=0.3, max_depth=8, n_estimators=500, subsample=0.7, total=  51.4s\n",
      "[CV] colsample_bytree=0.8, learning_rate=0.3, max_depth=8, n_estimators=500, subsample=0.7 \n",
      "[CV]  colsample_bytree=0.8, learning_rate=0.3, max_depth=8, n_estimators=500, subsample=0.7, total=  51.8s\n",
      "[CV] colsample_bytree=0.8, learning_rate=0.3, max_depth=8, n_estimators=700, subsample=0.7 \n",
      "[CV]  colsample_bytree=0.8, learning_rate=0.3, max_depth=8, n_estimators=700, subsample=0.7, total= 1.2min\n",
      "[CV] colsample_bytree=0.8, learning_rate=0.3, max_depth=8, n_estimators=700, subsample=0.7 \n",
      "[CV]  colsample_bytree=0.8, learning_rate=0.3, max_depth=8, n_estimators=700, subsample=0.7, total= 1.2min\n",
      "[CV] colsample_bytree=0.8, learning_rate=0.3, max_depth=8, n_estimators=700, subsample=0.7 \n",
      "[CV]  colsample_bytree=0.8, learning_rate=0.3, max_depth=8, n_estimators=700, subsample=0.7, total= 1.2min\n",
      "[CV] colsample_bytree=0.8, learning_rate=0.3, max_depth=10, n_estimators=300, subsample=0.7 \n",
      "[CV]  colsample_bytree=0.8, learning_rate=0.3, max_depth=10, n_estimators=300, subsample=0.7, total=  38.1s\n",
      "[CV] colsample_bytree=0.8, learning_rate=0.3, max_depth=10, n_estimators=300, subsample=0.7 \n",
      "[CV]  colsample_bytree=0.8, learning_rate=0.3, max_depth=10, n_estimators=300, subsample=0.7, total=  39.0s\n",
      "[CV] colsample_bytree=0.8, learning_rate=0.3, max_depth=10, n_estimators=300, subsample=0.7 \n",
      "[CV]  colsample_bytree=0.8, learning_rate=0.3, max_depth=10, n_estimators=300, subsample=0.7, total=  39.7s\n",
      "[CV] colsample_bytree=0.8, learning_rate=0.3, max_depth=10, n_estimators=500, subsample=0.7 \n",
      "[CV]  colsample_bytree=0.8, learning_rate=0.3, max_depth=10, n_estimators=500, subsample=0.7, total= 1.1min\n",
      "[CV] colsample_bytree=0.8, learning_rate=0.3, max_depth=10, n_estimators=500, subsample=0.7 \n",
      "[CV]  colsample_bytree=0.8, learning_rate=0.3, max_depth=10, n_estimators=500, subsample=0.7, total= 1.1min\n",
      "[CV] colsample_bytree=0.8, learning_rate=0.3, max_depth=10, n_estimators=500, subsample=0.7 \n",
      "[CV]  colsample_bytree=0.8, learning_rate=0.3, max_depth=10, n_estimators=500, subsample=0.7, total= 1.1min\n",
      "[CV] colsample_bytree=0.8, learning_rate=0.3, max_depth=10, n_estimators=700, subsample=0.7 \n",
      "[CV]  colsample_bytree=0.8, learning_rate=0.3, max_depth=10, n_estimators=700, subsample=0.7, total= 1.5min\n",
      "[CV] colsample_bytree=0.8, learning_rate=0.3, max_depth=10, n_estimators=700, subsample=0.7 \n",
      "[CV]  colsample_bytree=0.8, learning_rate=0.3, max_depth=10, n_estimators=700, subsample=0.7, total= 1.5min\n",
      "[CV] colsample_bytree=0.8, learning_rate=0.3, max_depth=10, n_estimators=700, subsample=0.7 \n",
      "[CV]  colsample_bytree=0.8, learning_rate=0.3, max_depth=10, n_estimators=700, subsample=0.7, total= 1.5min\n",
      "[CV] colsample_bytree=0.8, learning_rate=0.3, max_depth=12, n_estimators=300, subsample=0.7 \n",
      "[CV]  colsample_bytree=0.8, learning_rate=0.3, max_depth=12, n_estimators=300, subsample=0.7, total=  45.6s\n",
      "[CV] colsample_bytree=0.8, learning_rate=0.3, max_depth=12, n_estimators=300, subsample=0.7 \n",
      "[CV]  colsample_bytree=0.8, learning_rate=0.3, max_depth=12, n_estimators=300, subsample=0.7, total=  47.4s\n",
      "[CV] colsample_bytree=0.8, learning_rate=0.3, max_depth=12, n_estimators=300, subsample=0.7 \n",
      "[CV]  colsample_bytree=0.8, learning_rate=0.3, max_depth=12, n_estimators=300, subsample=0.7, total=  46.7s\n",
      "[CV] colsample_bytree=0.8, learning_rate=0.3, max_depth=12, n_estimators=500, subsample=0.7 \n",
      "[CV]  colsample_bytree=0.8, learning_rate=0.3, max_depth=12, n_estimators=500, subsample=0.7, total= 1.3min\n",
      "[CV] colsample_bytree=0.8, learning_rate=0.3, max_depth=12, n_estimators=500, subsample=0.7 \n",
      "[CV]  colsample_bytree=0.8, learning_rate=0.3, max_depth=12, n_estimators=500, subsample=0.7, total= 1.3min\n",
      "[CV] colsample_bytree=0.8, learning_rate=0.3, max_depth=12, n_estimators=500, subsample=0.7 \n",
      "[CV]  colsample_bytree=0.8, learning_rate=0.3, max_depth=12, n_estimators=500, subsample=0.7, total= 1.3min\n",
      "[CV] colsample_bytree=0.8, learning_rate=0.3, max_depth=12, n_estimators=700, subsample=0.7 \n",
      "[CV]  colsample_bytree=0.8, learning_rate=0.3, max_depth=12, n_estimators=700, subsample=0.7, total= 1.8min\n",
      "[CV] colsample_bytree=0.8, learning_rate=0.3, max_depth=12, n_estimators=700, subsample=0.7 \n",
      "[CV]  colsample_bytree=0.8, learning_rate=0.3, max_depth=12, n_estimators=700, subsample=0.7, total= 1.8min\n",
      "[CV] colsample_bytree=0.8, learning_rate=0.3, max_depth=12, n_estimators=700, subsample=0.7 \n",
      "[CV]  colsample_bytree=0.8, learning_rate=0.3, max_depth=12, n_estimators=700, subsample=0.7, total= 1.8min\n"
     ]
    },
    {
     "name": "stderr",
     "output_type": "stream",
     "text": [
      "[Parallel(n_jobs=1)]: Done  81 out of  81 | elapsed: 88.8min finished\n"
     ]
    },
    {
     "name": "stdout",
     "output_type": "stream",
     "text": [
      "CPU times: user 11h 59min 51s, sys: 1min 57s, total: 12h 1min 48s\n",
      "Wall time: 1h 31min 28s\n"
     ]
    },
    {
     "data": {
      "text/plain": [
       "GridSearchCV(cv=3, error_score='raise',\n",
       "       estimator=XGBClassifier(base_score=0.5, colsample_bylevel=1, colsample_bytree=0.4,\n",
       "       gamma=0, learning_rate=0.15, max_delta_step=0, max_depth=6,\n",
       "       min_child_weight=1, missing=None, n_estimators=100, nthread=-1,\n",
       "       objective='binary:logistic', reg_alpha=0, reg_lambda=1,\n",
       "       scale_pos_weight=1.7085825983463778, seed=42, silent=1,\n",
       "       subsample=0.75),\n",
       "       fit_params={}, iid=True, n_jobs=1,\n",
       "       param_grid={'n_estimators': [300, 500, 700], 'learning_rate': [0.05, 0.1, 0.3], 'max_depth': [8, 10, 12], 'subsample': [0.7], 'colsample_bytree': [0.8]},\n",
       "       pre_dispatch='2*n_jobs', refit=True, return_train_score=True,\n",
       "       scoring=<function log_loss_scorer at 0x7f4bb81022f0>, verbose=2)"
      ]
     },
     "execution_count": 17,
     "metadata": {},
     "output_type": "execute_result"
    }
   ],
   "source": [
    "%%time\n",
    "grid_search.fit(X, y)"
   ]
  },
  {
   "cell_type": "code",
   "execution_count": 18,
   "metadata": {
    "scrolled": true
   },
   "outputs": [
    {
     "data": {
      "text/plain": [
       "{'colsample_bytree': 0.8,\n",
       " 'learning_rate': 0.05,\n",
       " 'max_depth': 12,\n",
       " 'n_estimators': 700,\n",
       " 'subsample': 0.7}"
      ]
     },
     "execution_count": 18,
     "metadata": {},
     "output_type": "execute_result"
    }
   ],
   "source": [
    "grid_search.best_params_"
   ]
  },
  {
   "cell_type": "code",
   "execution_count": 19,
   "metadata": {},
   "outputs": [
    {
     "name": "stderr",
     "output_type": "stream",
     "text": [
      "/home/yuriyguts/anaconda3/lib/python3.6/site-packages/sklearn/model_selection/_search.py:667: DeprecationWarning: The grid_scores_ attribute was deprecated in version 0.18 in favor of the more elaborate cv_results_ attribute. The grid_scores_ attribute will not be available from 0.20\n",
      "  DeprecationWarning)\n"
     ]
    },
    {
     "data": {
      "text/plain": [
       "<matplotlib.axes._subplots.AxesSubplot at 0x7f4b894999e8>"
      ]
     },
     "execution_count": 19,
     "metadata": {},
     "output_type": "execute_result"
    },
    {
     "data": {
      "image/png": "[encoded data removed]",
      "text/plain": [
       "<matplotlib.figure.Figure at 0x7f4b8948aa20>"
      ]
     },
     "metadata": {},
     "output_type": "display_data"
    }
   ],
   "source": [
    "skeval.plot.grid_search(\n",
    "    grid_search.grid_scores_,\n",
    "    change='n_estimators',\n",
    "    kind='bar'\n",
    ")"
   ]
  },
  {
   "cell_type": "code",
   "execution_count": 20,
   "metadata": {
    "collapsed": true
   },
   "outputs": [],
   "source": [
    "# skeval.plot.grid_search(\n",
    "#     search_result,\n",
    "#     change=['colsample_bytree', 'subsample'],\n",
    "#     subset={\n",
    "#         'num_boost_round': 500,\n",
    "#         'learning_rate': 0.05,\n",
    "#         'max_depth': 10,\n",
    "#     }\n",
    "# )"
   ]
  },
  {
   "cell_type": "markdown",
   "metadata": {},
   "source": [
    "### Train the model using the best parameters"
   ]
  },
  {
   "cell_type": "code",
   "execution_count": 21,
   "metadata": {
    "collapsed": true
   },
   "outputs": [],
   "source": [
    "xgb_params.update(grid_search.best_params_)"
   ]
  },
  {
   "cell_type": "code",
   "execution_count": 22,
   "metadata": {
    "scrolled": true
   },
   "outputs": [
    {
     "data": {
      "text/plain": [
       "{'colsample_bytree': 0.8,\n",
       " 'learning_rate': 0.05,\n",
       " 'max_depth': 12,\n",
       " 'n_estimators': 700,\n",
       " 'objective': 'binary:logistic',\n",
       " 'scale_pos_weight': 1.7085825983463778,\n",
       " 'seed': 42,\n",
       " 'silent': 1,\n",
       " 'subsample': 0.7}"
      ]
     },
     "execution_count": 22,
     "metadata": {},
     "output_type": "execute_result"
    }
   ],
   "source": [
    "xgb_params"
   ]
  },
  {
   "cell_type": "code",
   "execution_count": 23,
   "metadata": {
    "collapsed": true
   },
   "outputs": [],
   "source": [
    "model = XGBClassifier(**xgb_params)"
   ]
  },
  {
   "cell_type": "code",
   "execution_count": 24,
   "metadata": {
    "scrolled": true
   },
   "outputs": [
    {
     "name": "stdout",
     "output_type": "stream",
     "text": [
      "[0]\tvalidation_0-logloss:0.676348\n",
      "Will train until validation_0-logloss hasn't improved in 10 rounds.\n",
      "[1]\tvalidation_0-logloss:0.661783\n",
      "[2]\tvalidation_0-logloss:0.648475\n",
      "[3]\tvalidation_0-logloss:0.635596\n",
      "[4]\tvalidation_0-logloss:0.623726\n",
      "[5]\tvalidation_0-logloss:0.612974\n",
      "[6]\tvalidation_0-logloss:0.603144\n",
      "[7]\tvalidation_0-logloss:0.594736\n",
      "[8]\tvalidation_0-logloss:0.586368\n",
      "[9]\tvalidation_0-logloss:0.579166\n",
      "[10]\tvalidation_0-logloss:0.572106\n",
      "[11]\tvalidation_0-logloss:0.56582\n",
      "[12]\tvalidation_0-logloss:0.559937\n",
      "[13]\tvalidation_0-logloss:0.554317\n",
      "[14]\tvalidation_0-logloss:0.549382\n",
      "[15]\tvalidation_0-logloss:0.544496\n",
      "[16]\tvalidation_0-logloss:0.540201\n",
      "[17]\tvalidation_0-logloss:0.536386\n",
      "[18]\tvalidation_0-logloss:0.532345\n",
      "[19]\tvalidation_0-logloss:0.528565\n",
      "[20]\tvalidation_0-logloss:0.525379\n",
      "[21]\tvalidation_0-logloss:0.522209\n",
      "[22]\tvalidation_0-logloss:0.519234\n",
      "[23]\tvalidation_0-logloss:0.516698\n",
      "[24]\tvalidation_0-logloss:0.514263\n",
      "[25]\tvalidation_0-logloss:0.511669\n",
      "[26]\tvalidation_0-logloss:0.50958\n",
      "[27]\tvalidation_0-logloss:0.507383\n",
      "[28]\tvalidation_0-logloss:0.50551\n",
      "[29]\tvalidation_0-logloss:0.503609\n",
      "[30]\tvalidation_0-logloss:0.501777\n",
      "[31]\tvalidation_0-logloss:0.500064\n",
      "[32]\tvalidation_0-logloss:0.498488\n",
      "[33]\tvalidation_0-logloss:0.49698\n",
      "[34]\tvalidation_0-logloss:0.49559\n",
      "[35]\tvalidation_0-logloss:0.494418\n",
      "[36]\tvalidation_0-logloss:0.493142\n",
      "[37]\tvalidation_0-logloss:0.491953\n",
      "[38]\tvalidation_0-logloss:0.490887\n",
      "[39]\tvalidation_0-logloss:0.48988\n",
      "[40]\tvalidation_0-logloss:0.488976\n",
      "[41]\tvalidation_0-logloss:0.488114\n",
      "[42]\tvalidation_0-logloss:0.487247\n",
      "[43]\tvalidation_0-logloss:0.486453\n",
      "[44]\tvalidation_0-logloss:0.485748\n",
      "[45]\tvalidation_0-logloss:0.485039\n",
      "[46]\tvalidation_0-logloss:0.484469\n",
      "[47]\tvalidation_0-logloss:0.483872\n",
      "[48]\tvalidation_0-logloss:0.483343\n",
      "[49]\tvalidation_0-logloss:0.482778\n",
      "[50]\tvalidation_0-logloss:0.482224\n",
      "[51]\tvalidation_0-logloss:0.481701\n",
      "[52]\tvalidation_0-logloss:0.481294\n",
      "[53]\tvalidation_0-logloss:0.480876\n",
      "[54]\tvalidation_0-logloss:0.480448\n",
      "[55]\tvalidation_0-logloss:0.480069\n",
      "[56]\tvalidation_0-logloss:0.479739\n",
      "[57]\tvalidation_0-logloss:0.479352\n",
      "[58]\tvalidation_0-logloss:0.47905\n",
      "[59]\tvalidation_0-logloss:0.478656\n",
      "[60]\tvalidation_0-logloss:0.478335\n",
      "[61]\tvalidation_0-logloss:0.478071\n",
      "[62]\tvalidation_0-logloss:0.477766\n",
      "[63]\tvalidation_0-logloss:0.477516\n",
      "[64]\tvalidation_0-logloss:0.477181\n",
      "[65]\tvalidation_0-logloss:0.476949\n",
      "[66]\tvalidation_0-logloss:0.476747\n",
      "[67]\tvalidation_0-logloss:0.476528\n",
      "[68]\tvalidation_0-logloss:0.47624\n",
      "[69]\tvalidation_0-logloss:0.476101\n",
      "[70]\tvalidation_0-logloss:0.475964\n",
      "[71]\tvalidation_0-logloss:0.475745\n",
      "[72]\tvalidation_0-logloss:0.475561\n",
      "[73]\tvalidation_0-logloss:0.475438\n",
      "[74]\tvalidation_0-logloss:0.475231\n",
      "[75]\tvalidation_0-logloss:0.475076\n",
      "[76]\tvalidation_0-logloss:0.474921\n",
      "[77]\tvalidation_0-logloss:0.474743\n",
      "[78]\tvalidation_0-logloss:0.474536\n",
      "[79]\tvalidation_0-logloss:0.474341\n",
      "[80]\tvalidation_0-logloss:0.474282\n",
      "[81]\tvalidation_0-logloss:0.474146\n",
      "[82]\tvalidation_0-logloss:0.474017\n",
      "[83]\tvalidation_0-logloss:0.473832\n",
      "[84]\tvalidation_0-logloss:0.473696\n",
      "[85]\tvalidation_0-logloss:0.473623\n",
      "[86]\tvalidation_0-logloss:0.473571\n",
      "[87]\tvalidation_0-logloss:0.473435\n",
      "[88]\tvalidation_0-logloss:0.473292\n",
      "[89]\tvalidation_0-logloss:0.473186\n",
      "[90]\tvalidation_0-logloss:0.473078\n",
      "[91]\tvalidation_0-logloss:0.473016\n",
      "[92]\tvalidation_0-logloss:0.47291\n",
      "[93]\tvalidation_0-logloss:0.472796\n",
      "[94]\tvalidation_0-logloss:0.472738\n",
      "[95]\tvalidation_0-logloss:0.472589\n",
      "[96]\tvalidation_0-logloss:0.47251\n",
      "[97]\tvalidation_0-logloss:0.472448\n",
      "[98]\tvalidation_0-logloss:0.472357\n",
      "[99]\tvalidation_0-logloss:0.472238\n",
      "[100]\tvalidation_0-logloss:0.47213\n",
      "[101]\tvalidation_0-logloss:0.472081\n",
      "[102]\tvalidation_0-logloss:0.472003\n",
      "[103]\tvalidation_0-logloss:0.471966\n",
      "[104]\tvalidation_0-logloss:0.471908\n",
      "[105]\tvalidation_0-logloss:0.471753\n",
      "[106]\tvalidation_0-logloss:0.471672\n",
      "[107]\tvalidation_0-logloss:0.471659\n",
      "[108]\tvalidation_0-logloss:0.471494\n",
      "[109]\tvalidation_0-logloss:0.471438\n",
      "[110]\tvalidation_0-logloss:0.471298\n",
      "[111]\tvalidation_0-logloss:0.471209\n",
      "[112]\tvalidation_0-logloss:0.47113\n",
      "[113]\tvalidation_0-logloss:0.471021\n",
      "[114]\tvalidation_0-logloss:0.47094\n",
      "[115]\tvalidation_0-logloss:0.470871\n",
      "[116]\tvalidation_0-logloss:0.470815\n",
      "[117]\tvalidation_0-logloss:0.470767\n",
      "[118]\tvalidation_0-logloss:0.470686\n",
      "[119]\tvalidation_0-logloss:0.470615\n",
      "[120]\tvalidation_0-logloss:0.470579\n",
      "[121]\tvalidation_0-logloss:0.47051\n",
      "[122]\tvalidation_0-logloss:0.470463\n",
      "[123]\tvalidation_0-logloss:0.470356\n",
      "[124]\tvalidation_0-logloss:0.470277\n",
      "[125]\tvalidation_0-logloss:0.470212\n",
      "[126]\tvalidation_0-logloss:0.470113\n",
      "[127]\tvalidation_0-logloss:0.470074\n",
      "[128]\tvalidation_0-logloss:0.469975\n",
      "[129]\tvalidation_0-logloss:0.469943\n",
      "[130]\tvalidation_0-logloss:0.46993\n",
      "[131]\tvalidation_0-logloss:0.469851\n",
      "[132]\tvalidation_0-logloss:0.469788\n",
      "[133]\tvalidation_0-logloss:0.469751\n",
      "[134]\tvalidation_0-logloss:0.469659\n",
      "[135]\tvalidation_0-logloss:0.469628\n",
      "[136]\tvalidation_0-logloss:0.469606\n",
      "[137]\tvalidation_0-logloss:0.469545\n",
      "[138]\tvalidation_0-logloss:0.469463\n",
      "[139]\tvalidation_0-logloss:0.46942\n",
      "[140]\tvalidation_0-logloss:0.469362\n",
      "[141]\tvalidation_0-logloss:0.469338\n",
      "[142]\tvalidation_0-logloss:0.469245\n",
      "[143]\tvalidation_0-logloss:0.469218\n",
      "[144]\tvalidation_0-logloss:0.469125\n",
      "[145]\tvalidation_0-logloss:0.469035\n",
      "[146]\tvalidation_0-logloss:0.469025\n",
      "[147]\tvalidation_0-logloss:0.468981\n",
      "[148]\tvalidation_0-logloss:0.468923\n",
      "[149]\tvalidation_0-logloss:0.468826\n",
      "[150]\tvalidation_0-logloss:0.468794\n",
      "[151]\tvalidation_0-logloss:0.468686\n",
      "[152]\tvalidation_0-logloss:0.468666\n",
      "[153]\tvalidation_0-logloss:0.468636\n",
      "[154]\tvalidation_0-logloss:0.468584\n",
      "[155]\tvalidation_0-logloss:0.468578\n",
      "[156]\tvalidation_0-logloss:0.468519\n",
      "[157]\tvalidation_0-logloss:0.468489\n",
      "[158]\tvalidation_0-logloss:0.468397\n",
      "[159]\tvalidation_0-logloss:0.468343\n",
      "[160]\tvalidation_0-logloss:0.468295\n",
      "[161]\tvalidation_0-logloss:0.468246\n",
      "[162]\tvalidation_0-logloss:0.468211\n",
      "[163]\tvalidation_0-logloss:0.468116\n",
      "[164]\tvalidation_0-logloss:0.46811\n",
      "[165]\tvalidation_0-logloss:0.468103\n",
      "[166]\tvalidation_0-logloss:0.468077\n",
      "[167]\tvalidation_0-logloss:0.468021\n",
      "[168]\tvalidation_0-logloss:0.468015\n",
      "[169]\tvalidation_0-logloss:0.467982\n",
      "[170]\tvalidation_0-logloss:0.467879\n",
      "[171]\tvalidation_0-logloss:0.467821\n",
      "[172]\tvalidation_0-logloss:0.467751\n",
      "[173]\tvalidation_0-logloss:0.467681\n",
      "[174]\tvalidation_0-logloss:0.467652\n",
      "[175]\tvalidation_0-logloss:0.46761\n",
      "[176]\tvalidation_0-logloss:0.467581\n",
      "[177]\tvalidation_0-logloss:0.467533\n",
      "[178]\tvalidation_0-logloss:0.467512\n",
      "[179]\tvalidation_0-logloss:0.467387\n",
      "[180]\tvalidation_0-logloss:0.467366\n",
      "[181]\tvalidation_0-logloss:0.46731\n",
      "[182]\tvalidation_0-logloss:0.467289\n",
      "[183]\tvalidation_0-logloss:0.467282\n",
      "[184]\tvalidation_0-logloss:0.467147\n",
      "[185]\tvalidation_0-logloss:0.467097\n",
      "[186]\tvalidation_0-logloss:0.467014\n",
      "[187]\tvalidation_0-logloss:0.466937\n",
      "[188]\tvalidation_0-logloss:0.466891\n",
      "[189]\tvalidation_0-logloss:0.46685\n",
      "[190]\tvalidation_0-logloss:0.466768\n",
      "[191]\tvalidation_0-logloss:0.466744\n",
      "[192]\tvalidation_0-logloss:0.466663\n",
      "[193]\tvalidation_0-logloss:0.466586\n",
      "[194]\tvalidation_0-logloss:0.466526\n",
      "[195]\tvalidation_0-logloss:0.466502\n",
      "[196]\tvalidation_0-logloss:0.466477\n",
      "[197]\tvalidation_0-logloss:0.466429\n",
      "[198]\tvalidation_0-logloss:0.466387\n",
      "[199]\tvalidation_0-logloss:0.466361\n",
      "[200]\tvalidation_0-logloss:0.466288\n",
      "[201]\tvalidation_0-logloss:0.466245\n",
      "[202]\tvalidation_0-logloss:0.466185\n",
      "[203]\tvalidation_0-logloss:0.46616\n",
      "[204]\tvalidation_0-logloss:0.466115\n",
      "[205]\tvalidation_0-logloss:0.466083\n",
      "[206]\tvalidation_0-logloss:0.466065\n",
      "[207]\tvalidation_0-logloss:0.466054\n",
      "[208]\tvalidation_0-logloss:0.466025\n",
      "[209]\tvalidation_0-logloss:0.46603\n",
      "[210]\tvalidation_0-logloss:0.465991\n",
      "[211]\tvalidation_0-logloss:0.465982\n",
      "[212]\tvalidation_0-logloss:0.465967\n",
      "[213]\tvalidation_0-logloss:0.465866\n",
      "[214]\tvalidation_0-logloss:0.465851\n",
      "[215]\tvalidation_0-logloss:0.465825\n",
      "[216]\tvalidation_0-logloss:0.465789\n",
      "[217]\tvalidation_0-logloss:0.465752\n",
      "[218]\tvalidation_0-logloss:0.465707\n",
      "[219]\tvalidation_0-logloss:0.465618\n",
      "[220]\tvalidation_0-logloss:0.46557\n",
      "[221]\tvalidation_0-logloss:0.465503\n",
      "[222]\tvalidation_0-logloss:0.465498\n",
      "[223]\tvalidation_0-logloss:0.465458\n",
      "[224]\tvalidation_0-logloss:0.465442\n",
      "[225]\tvalidation_0-logloss:0.465391\n",
      "[226]\tvalidation_0-logloss:0.465391\n",
      "[227]\tvalidation_0-logloss:0.465382\n",
      "[228]\tvalidation_0-logloss:0.465352\n",
      "[229]\tvalidation_0-logloss:0.465311\n"
     ]
    },
    {
     "name": "stdout",
     "output_type": "stream",
     "text": [
      "[230]\tvalidation_0-logloss:0.465271\n",
      "[231]\tvalidation_0-logloss:0.465229\n",
      "[232]\tvalidation_0-logloss:0.465201\n",
      "[233]\tvalidation_0-logloss:0.465198\n",
      "[234]\tvalidation_0-logloss:0.465149\n",
      "[235]\tvalidation_0-logloss:0.465095\n",
      "[236]\tvalidation_0-logloss:0.465049\n",
      "[237]\tvalidation_0-logloss:0.464992\n",
      "[238]\tvalidation_0-logloss:0.464972\n",
      "[239]\tvalidation_0-logloss:0.464876\n",
      "[240]\tvalidation_0-logloss:0.464861\n",
      "[241]\tvalidation_0-logloss:0.464861\n",
      "[242]\tvalidation_0-logloss:0.464867\n",
      "[243]\tvalidation_0-logloss:0.464766\n",
      "[244]\tvalidation_0-logloss:0.464763\n",
      "[245]\tvalidation_0-logloss:0.464715\n",
      "[246]\tvalidation_0-logloss:0.464709\n",
      "[247]\tvalidation_0-logloss:0.464692\n",
      "[248]\tvalidation_0-logloss:0.464631\n",
      "[249]\tvalidation_0-logloss:0.464567\n",
      "[250]\tvalidation_0-logloss:0.46455\n",
      "[251]\tvalidation_0-logloss:0.464515\n",
      "[252]\tvalidation_0-logloss:0.464487\n",
      "[253]\tvalidation_0-logloss:0.464485\n",
      "[254]\tvalidation_0-logloss:0.464449\n",
      "[255]\tvalidation_0-logloss:0.464414\n",
      "[256]\tvalidation_0-logloss:0.464358\n",
      "[257]\tvalidation_0-logloss:0.464361\n",
      "[258]\tvalidation_0-logloss:0.46433\n",
      "[259]\tvalidation_0-logloss:0.464281\n",
      "[260]\tvalidation_0-logloss:0.464244\n",
      "[261]\tvalidation_0-logloss:0.464199\n",
      "[262]\tvalidation_0-logloss:0.464178\n",
      "[263]\tvalidation_0-logloss:0.464154\n",
      "[264]\tvalidation_0-logloss:0.464134\n",
      "[265]\tvalidation_0-logloss:0.464159\n",
      "[266]\tvalidation_0-logloss:0.464132\n",
      "[267]\tvalidation_0-logloss:0.464112\n",
      "[268]\tvalidation_0-logloss:0.464067\n",
      "[269]\tvalidation_0-logloss:0.464012\n",
      "[270]\tvalidation_0-logloss:0.463988\n",
      "[271]\tvalidation_0-logloss:0.463942\n",
      "[272]\tvalidation_0-logloss:0.463907\n",
      "[273]\tvalidation_0-logloss:0.46389\n",
      "[274]\tvalidation_0-logloss:0.46385\n",
      "[275]\tvalidation_0-logloss:0.463798\n",
      "[276]\tvalidation_0-logloss:0.463772\n",
      "[277]\tvalidation_0-logloss:0.463777\n",
      "[278]\tvalidation_0-logloss:0.463763\n",
      "[279]\tvalidation_0-logloss:0.463745\n",
      "[280]\tvalidation_0-logloss:0.463709\n",
      "[281]\tvalidation_0-logloss:0.463616\n",
      "[282]\tvalidation_0-logloss:0.463604\n",
      "[283]\tvalidation_0-logloss:0.463564\n",
      "[284]\tvalidation_0-logloss:0.463541\n",
      "[285]\tvalidation_0-logloss:0.463515\n",
      "[286]\tvalidation_0-logloss:0.463517\n",
      "[287]\tvalidation_0-logloss:0.463535\n",
      "[288]\tvalidation_0-logloss:0.463491\n",
      "[289]\tvalidation_0-logloss:0.46347\n",
      "[290]\tvalidation_0-logloss:0.463445\n",
      "[291]\tvalidation_0-logloss:0.463429\n",
      "[292]\tvalidation_0-logloss:0.46333\n",
      "[293]\tvalidation_0-logloss:0.463294\n",
      "[294]\tvalidation_0-logloss:0.463249\n",
      "[295]\tvalidation_0-logloss:0.463177\n",
      "[296]\tvalidation_0-logloss:0.463138\n",
      "[297]\tvalidation_0-logloss:0.463118\n",
      "[298]\tvalidation_0-logloss:0.463071\n",
      "[299]\tvalidation_0-logloss:0.463085\n",
      "[300]\tvalidation_0-logloss:0.463086\n",
      "[301]\tvalidation_0-logloss:0.463062\n",
      "[302]\tvalidation_0-logloss:0.463031\n",
      "[303]\tvalidation_0-logloss:0.462986\n",
      "[304]\tvalidation_0-logloss:0.462949\n",
      "[305]\tvalidation_0-logloss:0.462952\n",
      "[306]\tvalidation_0-logloss:0.462949\n",
      "[307]\tvalidation_0-logloss:0.462907\n",
      "[308]\tvalidation_0-logloss:0.462914\n",
      "[309]\tvalidation_0-logloss:0.4629\n",
      "[310]\tvalidation_0-logloss:0.462885\n",
      "[311]\tvalidation_0-logloss:0.462872\n",
      "[312]\tvalidation_0-logloss:0.462845\n",
      "[313]\tvalidation_0-logloss:0.462831\n",
      "[314]\tvalidation_0-logloss:0.462812\n",
      "[315]\tvalidation_0-logloss:0.462787\n",
      "[316]\tvalidation_0-logloss:0.462815\n",
      "[317]\tvalidation_0-logloss:0.462784\n",
      "[318]\tvalidation_0-logloss:0.462743\n",
      "[319]\tvalidation_0-logloss:0.462733\n",
      "[320]\tvalidation_0-logloss:0.462719\n",
      "[321]\tvalidation_0-logloss:0.462695\n",
      "[322]\tvalidation_0-logloss:0.462672\n",
      "[323]\tvalidation_0-logloss:0.462662\n",
      "[324]\tvalidation_0-logloss:0.462619\n",
      "[325]\tvalidation_0-logloss:0.46259\n",
      "[326]\tvalidation_0-logloss:0.462561\n",
      "[327]\tvalidation_0-logloss:0.462544\n",
      "[328]\tvalidation_0-logloss:0.462557\n",
      "[329]\tvalidation_0-logloss:0.462558\n",
      "[330]\tvalidation_0-logloss:0.462536\n",
      "[331]\tvalidation_0-logloss:0.462549\n",
      "[332]\tvalidation_0-logloss:0.462492\n",
      "[333]\tvalidation_0-logloss:0.4625\n",
      "[334]\tvalidation_0-logloss:0.462446\n",
      "[335]\tvalidation_0-logloss:0.46242\n",
      "[336]\tvalidation_0-logloss:0.462402\n",
      "[337]\tvalidation_0-logloss:0.462353\n",
      "[338]\tvalidation_0-logloss:0.462323\n",
      "[339]\tvalidation_0-logloss:0.462284\n",
      "[340]\tvalidation_0-logloss:0.462256\n",
      "[341]\tvalidation_0-logloss:0.462221\n",
      "[342]\tvalidation_0-logloss:0.462209\n",
      "[343]\tvalidation_0-logloss:0.462176\n",
      "[344]\tvalidation_0-logloss:0.46217\n",
      "[345]\tvalidation_0-logloss:0.462152\n",
      "[346]\tvalidation_0-logloss:0.462142\n",
      "[347]\tvalidation_0-logloss:0.462127\n",
      "[348]\tvalidation_0-logloss:0.462143\n",
      "[349]\tvalidation_0-logloss:0.462097\n",
      "[350]\tvalidation_0-logloss:0.462101\n",
      "[351]\tvalidation_0-logloss:0.462072\n",
      "[352]\tvalidation_0-logloss:0.462031\n",
      "[353]\tvalidation_0-logloss:0.462037\n",
      "[354]\tvalidation_0-logloss:0.462022\n",
      "[355]\tvalidation_0-logloss:0.462015\n",
      "[356]\tvalidation_0-logloss:0.462028\n",
      "[357]\tvalidation_0-logloss:0.462019\n",
      "[358]\tvalidation_0-logloss:0.462001\n",
      "[359]\tvalidation_0-logloss:0.462014\n",
      "[360]\tvalidation_0-logloss:0.461975\n",
      "[361]\tvalidation_0-logloss:0.46195\n",
      "[362]\tvalidation_0-logloss:0.461931\n",
      "[363]\tvalidation_0-logloss:0.461964\n",
      "[364]\tvalidation_0-logloss:0.461944\n",
      "[365]\tvalidation_0-logloss:0.461933\n",
      "[366]\tvalidation_0-logloss:0.461973\n",
      "[367]\tvalidation_0-logloss:0.461953\n",
      "[368]\tvalidation_0-logloss:0.461946\n",
      "[369]\tvalidation_0-logloss:0.461919\n",
      "[370]\tvalidation_0-logloss:0.461911\n",
      "[371]\tvalidation_0-logloss:0.4619\n",
      "[372]\tvalidation_0-logloss:0.461906\n",
      "[373]\tvalidation_0-logloss:0.461911\n",
      "[374]\tvalidation_0-logloss:0.461892\n",
      "[375]\tvalidation_0-logloss:0.461889\n",
      "[376]\tvalidation_0-logloss:0.461875\n",
      "[377]\tvalidation_0-logloss:0.461851\n",
      "[378]\tvalidation_0-logloss:0.461811\n",
      "[379]\tvalidation_0-logloss:0.461793\n",
      "[380]\tvalidation_0-logloss:0.461749\n",
      "[381]\tvalidation_0-logloss:0.461746\n",
      "[382]\tvalidation_0-logloss:0.4617\n",
      "[383]\tvalidation_0-logloss:0.461701\n",
      "[384]\tvalidation_0-logloss:0.461641\n",
      "[385]\tvalidation_0-logloss:0.461623\n",
      "[386]\tvalidation_0-logloss:0.461619\n",
      "[387]\tvalidation_0-logloss:0.461547\n",
      "[388]\tvalidation_0-logloss:0.461475\n",
      "[389]\tvalidation_0-logloss:0.461419\n",
      "[390]\tvalidation_0-logloss:0.461403\n",
      "[391]\tvalidation_0-logloss:0.461389\n",
      "[392]\tvalidation_0-logloss:0.461379\n",
      "[393]\tvalidation_0-logloss:0.461393\n",
      "[394]\tvalidation_0-logloss:0.461384\n",
      "[395]\tvalidation_0-logloss:0.461392\n",
      "[396]\tvalidation_0-logloss:0.461382\n",
      "[397]\tvalidation_0-logloss:0.461371\n",
      "[398]\tvalidation_0-logloss:0.461339\n",
      "[399]\tvalidation_0-logloss:0.461328\n",
      "[400]\tvalidation_0-logloss:0.461292\n",
      "[401]\tvalidation_0-logloss:0.461243\n",
      "[402]\tvalidation_0-logloss:0.461227\n",
      "[403]\tvalidation_0-logloss:0.461192\n",
      "[404]\tvalidation_0-logloss:0.461157\n",
      "[405]\tvalidation_0-logloss:0.461111\n",
      "[406]\tvalidation_0-logloss:0.461102\n",
      "[407]\tvalidation_0-logloss:0.461105\n",
      "[408]\tvalidation_0-logloss:0.461078\n",
      "[409]\tvalidation_0-logloss:0.461017\n",
      "[410]\tvalidation_0-logloss:0.461001\n",
      "[411]\tvalidation_0-logloss:0.460983\n",
      "[412]\tvalidation_0-logloss:0.460972\n",
      "[413]\tvalidation_0-logloss:0.460937\n",
      "[414]\tvalidation_0-logloss:0.460936\n",
      "[415]\tvalidation_0-logloss:0.460952\n",
      "[416]\tvalidation_0-logloss:0.460938\n",
      "[417]\tvalidation_0-logloss:0.46095\n",
      "[418]\tvalidation_0-logloss:0.460925\n",
      "[419]\tvalidation_0-logloss:0.460951\n",
      "[420]\tvalidation_0-logloss:0.460947\n",
      "[421]\tvalidation_0-logloss:0.460936\n",
      "[422]\tvalidation_0-logloss:0.46091\n",
      "[423]\tvalidation_0-logloss:0.460899\n",
      "[424]\tvalidation_0-logloss:0.460871\n",
      "[425]\tvalidation_0-logloss:0.460866\n",
      "[426]\tvalidation_0-logloss:0.460847\n",
      "[427]\tvalidation_0-logloss:0.460797\n",
      "[428]\tvalidation_0-logloss:0.460799\n",
      "[429]\tvalidation_0-logloss:0.460795\n",
      "[430]\tvalidation_0-logloss:0.460759\n",
      "[431]\tvalidation_0-logloss:0.460744\n",
      "[432]\tvalidation_0-logloss:0.460744\n",
      "[433]\tvalidation_0-logloss:0.460736\n",
      "[434]\tvalidation_0-logloss:0.460707\n",
      "[435]\tvalidation_0-logloss:0.460652\n",
      "[436]\tvalidation_0-logloss:0.460622\n",
      "[437]\tvalidation_0-logloss:0.460597\n",
      "[438]\tvalidation_0-logloss:0.460635\n",
      "[439]\tvalidation_0-logloss:0.460622\n",
      "[440]\tvalidation_0-logloss:0.460554\n",
      "[441]\tvalidation_0-logloss:0.460547\n",
      "[442]\tvalidation_0-logloss:0.460529\n",
      "[443]\tvalidation_0-logloss:0.460513\n",
      "[444]\tvalidation_0-logloss:0.460504\n",
      "[445]\tvalidation_0-logloss:0.460505\n",
      "[446]\tvalidation_0-logloss:0.46052\n",
      "[447]\tvalidation_0-logloss:0.460465\n",
      "[448]\tvalidation_0-logloss:0.460467\n",
      "[449]\tvalidation_0-logloss:0.460463\n",
      "[450]\tvalidation_0-logloss:0.46048\n",
      "[451]\tvalidation_0-logloss:0.460445\n",
      "[452]\tvalidation_0-logloss:0.460435\n",
      "[453]\tvalidation_0-logloss:0.460427\n",
      "[454]\tvalidation_0-logloss:0.460376\n",
      "[455]\tvalidation_0-logloss:0.46036\n",
      "[456]\tvalidation_0-logloss:0.46036\n",
      "[457]\tvalidation_0-logloss:0.460362\n",
      "[458]\tvalidation_0-logloss:0.460356\n"
     ]
    },
    {
     "name": "stdout",
     "output_type": "stream",
     "text": [
      "[459]\tvalidation_0-logloss:0.460329\n",
      "[460]\tvalidation_0-logloss:0.460325\n",
      "[461]\tvalidation_0-logloss:0.460291\n",
      "[462]\tvalidation_0-logloss:0.460258\n",
      "[463]\tvalidation_0-logloss:0.460265\n",
      "[464]\tvalidation_0-logloss:0.460275\n",
      "[465]\tvalidation_0-logloss:0.46024\n",
      "[466]\tvalidation_0-logloss:0.460203\n",
      "[467]\tvalidation_0-logloss:0.460173\n",
      "[468]\tvalidation_0-logloss:0.460171\n",
      "[469]\tvalidation_0-logloss:0.460199\n",
      "[470]\tvalidation_0-logloss:0.460157\n",
      "[471]\tvalidation_0-logloss:0.460126\n",
      "[472]\tvalidation_0-logloss:0.460113\n",
      "[473]\tvalidation_0-logloss:0.460124\n",
      "[474]\tvalidation_0-logloss:0.46013\n",
      "[475]\tvalidation_0-logloss:0.460085\n",
      "[476]\tvalidation_0-logloss:0.460058\n",
      "[477]\tvalidation_0-logloss:0.460052\n",
      "[478]\tvalidation_0-logloss:0.46004\n",
      "[479]\tvalidation_0-logloss:0.460056\n",
      "[480]\tvalidation_0-logloss:0.460042\n",
      "[481]\tvalidation_0-logloss:0.460052\n",
      "[482]\tvalidation_0-logloss:0.460031\n",
      "[483]\tvalidation_0-logloss:0.459979\n",
      "[484]\tvalidation_0-logloss:0.459952\n",
      "[485]\tvalidation_0-logloss:0.459949\n",
      "[486]\tvalidation_0-logloss:0.459968\n",
      "[487]\tvalidation_0-logloss:0.459967\n",
      "[488]\tvalidation_0-logloss:0.459962\n",
      "[489]\tvalidation_0-logloss:0.459913\n",
      "[490]\tvalidation_0-logloss:0.459911\n",
      "[491]\tvalidation_0-logloss:0.459887\n",
      "[492]\tvalidation_0-logloss:0.459892\n",
      "[493]\tvalidation_0-logloss:0.459864\n",
      "[494]\tvalidation_0-logloss:0.459825\n",
      "[495]\tvalidation_0-logloss:0.459809\n",
      "[496]\tvalidation_0-logloss:0.459805\n",
      "[497]\tvalidation_0-logloss:0.459757\n",
      "[498]\tvalidation_0-logloss:0.459747\n",
      "[499]\tvalidation_0-logloss:0.459727\n",
      "[500]\tvalidation_0-logloss:0.459668\n",
      "[501]\tvalidation_0-logloss:0.459653\n",
      "[502]\tvalidation_0-logloss:0.459642\n",
      "[503]\tvalidation_0-logloss:0.459622\n",
      "[504]\tvalidation_0-logloss:0.459587\n",
      "[505]\tvalidation_0-logloss:0.459586\n",
      "[506]\tvalidation_0-logloss:0.459562\n",
      "[507]\tvalidation_0-logloss:0.459536\n",
      "[508]\tvalidation_0-logloss:0.459515\n",
      "[509]\tvalidation_0-logloss:0.459467\n",
      "[510]\tvalidation_0-logloss:0.459418\n",
      "[511]\tvalidation_0-logloss:0.459416\n",
      "[512]\tvalidation_0-logloss:0.459413\n",
      "[513]\tvalidation_0-logloss:0.459364\n",
      "[514]\tvalidation_0-logloss:0.459345\n",
      "[515]\tvalidation_0-logloss:0.459362\n",
      "[516]\tvalidation_0-logloss:0.459355\n",
      "[517]\tvalidation_0-logloss:0.459361\n",
      "[518]\tvalidation_0-logloss:0.459335\n",
      "[519]\tvalidation_0-logloss:0.459333\n",
      "[520]\tvalidation_0-logloss:0.459334\n",
      "[521]\tvalidation_0-logloss:0.459287\n",
      "[522]\tvalidation_0-logloss:0.45929\n",
      "[523]\tvalidation_0-logloss:0.459263\n",
      "[524]\tvalidation_0-logloss:0.459252\n",
      "[525]\tvalidation_0-logloss:0.45919\n",
      "[526]\tvalidation_0-logloss:0.459183\n",
      "[527]\tvalidation_0-logloss:0.459189\n",
      "[528]\tvalidation_0-logloss:0.459213\n",
      "[529]\tvalidation_0-logloss:0.459213\n",
      "[530]\tvalidation_0-logloss:0.459213\n",
      "[531]\tvalidation_0-logloss:0.459239\n",
      "[532]\tvalidation_0-logloss:0.459223\n",
      "[533]\tvalidation_0-logloss:0.459211\n",
      "[534]\tvalidation_0-logloss:0.459202\n",
      "[535]\tvalidation_0-logloss:0.459162\n",
      "[536]\tvalidation_0-logloss:0.45916\n",
      "[537]\tvalidation_0-logloss:0.459136\n",
      "[538]\tvalidation_0-logloss:0.459126\n",
      "[539]\tvalidation_0-logloss:0.459127\n",
      "[540]\tvalidation_0-logloss:0.459133\n",
      "[541]\tvalidation_0-logloss:0.459139\n",
      "[542]\tvalidation_0-logloss:0.459138\n",
      "[543]\tvalidation_0-logloss:0.459136\n",
      "[544]\tvalidation_0-logloss:0.459154\n",
      "[545]\tvalidation_0-logloss:0.459171\n",
      "[546]\tvalidation_0-logloss:0.459159\n",
      "[547]\tvalidation_0-logloss:0.45914\n",
      "[548]\tvalidation_0-logloss:0.459119\n",
      "[549]\tvalidation_0-logloss:0.459121\n",
      "[550]\tvalidation_0-logloss:0.459097\n",
      "[551]\tvalidation_0-logloss:0.45909\n",
      "[552]\tvalidation_0-logloss:0.459072\n",
      "[553]\tvalidation_0-logloss:0.459045\n",
      "[554]\tvalidation_0-logloss:0.459019\n",
      "[555]\tvalidation_0-logloss:0.458993\n",
      "[556]\tvalidation_0-logloss:0.458971\n",
      "[557]\tvalidation_0-logloss:0.458964\n",
      "[558]\tvalidation_0-logloss:0.458971\n",
      "[559]\tvalidation_0-logloss:0.458932\n",
      "[560]\tvalidation_0-logloss:0.458937\n",
      "[561]\tvalidation_0-logloss:0.458958\n",
      "[562]\tvalidation_0-logloss:0.458954\n",
      "[563]\tvalidation_0-logloss:0.458936\n",
      "[564]\tvalidation_0-logloss:0.458916\n",
      "[565]\tvalidation_0-logloss:0.458925\n",
      "[566]\tvalidation_0-logloss:0.458921\n",
      "[567]\tvalidation_0-logloss:0.458908\n",
      "[568]\tvalidation_0-logloss:0.458884\n",
      "[569]\tvalidation_0-logloss:0.458868\n",
      "[570]\tvalidation_0-logloss:0.458857\n",
      "[571]\tvalidation_0-logloss:0.458832\n",
      "[572]\tvalidation_0-logloss:0.458838\n",
      "[573]\tvalidation_0-logloss:0.458827\n",
      "[574]\tvalidation_0-logloss:0.458804\n",
      "[575]\tvalidation_0-logloss:0.458787\n",
      "[576]\tvalidation_0-logloss:0.458789\n",
      "[577]\tvalidation_0-logloss:0.458773\n",
      "[578]\tvalidation_0-logloss:0.458778\n",
      "[579]\tvalidation_0-logloss:0.458805\n",
      "[580]\tvalidation_0-logloss:0.458806\n",
      "[581]\tvalidation_0-logloss:0.45879\n",
      "[582]\tvalidation_0-logloss:0.458725\n",
      "[583]\tvalidation_0-logloss:0.458718\n",
      "[584]\tvalidation_0-logloss:0.458741\n",
      "[585]\tvalidation_0-logloss:0.458723\n",
      "[586]\tvalidation_0-logloss:0.458707\n",
      "[587]\tvalidation_0-logloss:0.458704\n",
      "[588]\tvalidation_0-logloss:0.458701\n",
      "[589]\tvalidation_0-logloss:0.4587\n",
      "[590]\tvalidation_0-logloss:0.458693\n",
      "[591]\tvalidation_0-logloss:0.458657\n",
      "[592]\tvalidation_0-logloss:0.458648\n",
      "[593]\tvalidation_0-logloss:0.458615\n",
      "[594]\tvalidation_0-logloss:0.458592\n",
      "[595]\tvalidation_0-logloss:0.458563\n",
      "[596]\tvalidation_0-logloss:0.458548\n",
      "[597]\tvalidation_0-logloss:0.458553\n",
      "[598]\tvalidation_0-logloss:0.458549\n",
      "[599]\tvalidation_0-logloss:0.458534\n",
      "[600]\tvalidation_0-logloss:0.4585\n",
      "[601]\tvalidation_0-logloss:0.458497\n",
      "[602]\tvalidation_0-logloss:0.45849\n",
      "[603]\tvalidation_0-logloss:0.458487\n",
      "[604]\tvalidation_0-logloss:0.458469\n",
      "[605]\tvalidation_0-logloss:0.458447\n",
      "[606]\tvalidation_0-logloss:0.458428\n",
      "[607]\tvalidation_0-logloss:0.458435\n",
      "[608]\tvalidation_0-logloss:0.458397\n",
      "[609]\tvalidation_0-logloss:0.458399\n",
      "[610]\tvalidation_0-logloss:0.458375\n",
      "[611]\tvalidation_0-logloss:0.458365\n",
      "[612]\tvalidation_0-logloss:0.458374\n",
      "[613]\tvalidation_0-logloss:0.45834\n",
      "[614]\tvalidation_0-logloss:0.458347\n",
      "[615]\tvalidation_0-logloss:0.458319\n",
      "[616]\tvalidation_0-logloss:0.45832\n",
      "[617]\tvalidation_0-logloss:0.458323\n",
      "[618]\tvalidation_0-logloss:0.458312\n",
      "[619]\tvalidation_0-logloss:0.458295\n",
      "[620]\tvalidation_0-logloss:0.45827\n",
      "[621]\tvalidation_0-logloss:0.458277\n",
      "[622]\tvalidation_0-logloss:0.458248\n",
      "[623]\tvalidation_0-logloss:0.458244\n",
      "[624]\tvalidation_0-logloss:0.458234\n",
      "[625]\tvalidation_0-logloss:0.458211\n",
      "[626]\tvalidation_0-logloss:0.458216\n",
      "[627]\tvalidation_0-logloss:0.458224\n",
      "[628]\tvalidation_0-logloss:0.458239\n",
      "[629]\tvalidation_0-logloss:0.458223\n",
      "[630]\tvalidation_0-logloss:0.458217\n",
      "[631]\tvalidation_0-logloss:0.458223\n",
      "[632]\tvalidation_0-logloss:0.458221\n",
      "[633]\tvalidation_0-logloss:0.458206\n",
      "[634]\tvalidation_0-logloss:0.458199\n",
      "[635]\tvalidation_0-logloss:0.458204\n",
      "[636]\tvalidation_0-logloss:0.458221\n",
      "[637]\tvalidation_0-logloss:0.45821\n",
      "[638]\tvalidation_0-logloss:0.458202\n",
      "[639]\tvalidation_0-logloss:0.458222\n",
      "[640]\tvalidation_0-logloss:0.458213\n",
      "[641]\tvalidation_0-logloss:0.458205\n",
      "[642]\tvalidation_0-logloss:0.4582\n",
      "[643]\tvalidation_0-logloss:0.458174\n",
      "[644]\tvalidation_0-logloss:0.45817\n",
      "[645]\tvalidation_0-logloss:0.45818\n",
      "[646]\tvalidation_0-logloss:0.458142\n",
      "[647]\tvalidation_0-logloss:0.458122\n",
      "[648]\tvalidation_0-logloss:0.458096\n",
      "[649]\tvalidation_0-logloss:0.458121\n",
      "[650]\tvalidation_0-logloss:0.45812\n",
      "[651]\tvalidation_0-logloss:0.458113\n",
      "[652]\tvalidation_0-logloss:0.458127\n",
      "[653]\tvalidation_0-logloss:0.458115\n",
      "[654]\tvalidation_0-logloss:0.458103\n",
      "[655]\tvalidation_0-logloss:0.458131\n",
      "[656]\tvalidation_0-logloss:0.45816\n",
      "[657]\tvalidation_0-logloss:0.458155\n",
      "[658]\tvalidation_0-logloss:0.458147\n",
      "Stopping. Best iteration:\n",
      "[648]\tvalidation_0-logloss:0.458096\n",
      "\n"
     ]
    },
    {
     "data": {
      "text/plain": [
       "XGBClassifier(base_score=0.5, colsample_bylevel=1, colsample_bytree=0.8,\n",
       "       gamma=0, learning_rate=0.05, max_delta_step=0, max_depth=12,\n",
       "       min_child_weight=1, missing=None, n_estimators=700, nthread=-1,\n",
       "       objective='binary:logistic', reg_alpha=0, reg_lambda=1,\n",
       "       scale_pos_weight=1.7085825983463778, seed=42, silent=1,\n",
       "       subsample=0.7)"
      ]
     },
     "execution_count": 24,
     "metadata": {},
     "output_type": "execute_result"
    }
   ],
   "source": [
    "model.fit(X_train, y_train, eval_set=[(X_val, y_val)], eval_metric='logloss', early_stopping_rounds=10)"
   ]
  },
  {
   "cell_type": "markdown",
   "metadata": {},
   "source": [
    "## Evaluate Model"
   ]
  },
  {
   "cell_type": "code",
   "execution_count": 25,
   "metadata": {
    "collapsed": true
   },
   "outputs": [],
   "source": [
    "y_pred_train = model.predict(X_train)\n",
    "y_pred_proba_train = model.predict_proba(X_train)[:, -1]"
   ]
  },
  {
   "cell_type": "code",
   "execution_count": 26,
   "metadata": {
    "collapsed": true
   },
   "outputs": [],
   "source": [
    "y_pred_val = model.predict(X_val)\n",
    "y_pred_proba_val = model.predict_proba(X_val)[:, -1]"
   ]
  },
  {
   "cell_type": "code",
   "execution_count": 27,
   "metadata": {
    "collapsed": true
   },
   "outputs": [],
   "source": [
    "continuous_metrics = [log_loss, roc_auc_score]"
   ]
  },
  {
   "cell_type": "code",
   "execution_count": 28,
   "metadata": {
    "collapsed": true
   },
   "outputs": [],
   "source": [
    "binary_metrics = [accuracy_score, precision_score, recall_score]"
   ]
  },
  {
   "cell_type": "markdown",
   "metadata": {},
   "source": [
    "### Train"
   ]
  },
  {
   "cell_type": "code",
   "execution_count": 29,
   "metadata": {
    "scrolled": true
   },
   "outputs": [
    {
     "name": "stdout",
     "output_type": "stream",
     "text": [
      "log_loss            :    0.32575\n",
      "roc_auc_score       :    0.95882\n",
      "accuracy_score      :    0.85266\n",
      "precision_score     :    0.72550\n",
      "recall_score        :    0.96668\n"
     ]
    }
   ],
   "source": [
    "for metric in continuous_metrics:\n",
    "    print('{:20s}: {:10.5f}'.format(metric.__name__, metric(y_train, y_pred_proba_train)))\n",
    "for metric in binary_metrics:\n",
    "    print('{:20s}: {:10.5f}'.format(metric.__name__, metric(y_train, y_pred_train)))"
   ]
  },
  {
   "cell_type": "markdown",
   "metadata": {},
   "source": [
    "### Validation"
   ]
  },
  {
   "cell_type": "code",
   "execution_count": 30,
   "metadata": {},
   "outputs": [
    {
     "name": "stdout",
     "output_type": "stream",
     "text": [
      "log_loss            :    0.45815\n",
      "roc_auc_score       :    0.85098\n",
      "accuracy_score      :    0.75452\n",
      "precision_score     :    0.62514\n",
      "recall_score        :    0.83703\n"
     ]
    }
   ],
   "source": [
    "for metric in continuous_metrics:\n",
    "    print('{:20s}: {:10.5f}'.format(metric.__name__, metric(y_val, y_pred_proba_val)))\n",
    "for metric in binary_metrics:\n",
    "    print('{:20s}: {:10.5f}'.format(metric.__name__, metric(y_val, y_pred_val)))"
   ]
  }
 ],
 "metadata": {
  "kernelspec": {
   "display_name": "Python 3",
   "language": "python",
   "name": "python3"
  },
  "language_info": {
   "codemirror_mode": {
    "name": "ipython",
    "version": 3
   },
   "file_extension": ".py",
   "mimetype": "text/x-python",
   "name": "python",
   "nbconvert_exporter": "python",
   "pygments_lexer": "ipython3",
   "version": "3.6.0"
  }
 },
 "nbformat": 4,
 "nbformat_minor": 2
}
