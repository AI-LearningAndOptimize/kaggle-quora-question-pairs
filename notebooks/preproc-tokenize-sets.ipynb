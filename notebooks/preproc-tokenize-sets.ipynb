{
 "cells": [
  {
   "cell_type": "markdown",
   "metadata": {},
   "source": [
    "## Imports"
   ]
  },
  {
   "cell_type": "code",
   "execution_count": 1,
   "metadata": {
    "collapsed": true
   },
   "outputs": [],
   "source": [
    "import os"
   ]
  },
  {
   "cell_type": "code",
   "execution_count": 2,
   "metadata": {
    "collapsed": true
   },
   "outputs": [],
   "source": [
    "import enchant\n",
    "import pylev\n",
    "import nltk"
   ]
  },
  {
   "cell_type": "markdown",
   "metadata": {},
   "source": [
    "## Config"
   ]
  },
  {
   "cell_type": "code",
   "execution_count": 3,
   "metadata": {},
   "outputs": [],
   "source": [
    "data_folder = os.path.abspath(os.path.join(os.curdir, os.pardir, 'data')) + os.path.sep\n",
    "aux_data_folder = os.path.join(data_folder, 'aux') + os.path.sep\n",
    "preproc_data_folder = os.path.join(data_folder, 'preproc') + os.path.sep"
   ]
  },
  {
   "cell_type": "markdown",
   "metadata": {},
   "source": [
    "## Load Data"
   ]
  },
  {
   "cell_type": "code",
   "execution_count": 4,
   "metadata": {
    "collapsed": true
   },
   "outputs": [],
   "source": [
    "questions_train = pd.read_csv(data_folder + 'train.csv').fillna('none')"
   ]
  },
  {
   "cell_type": "code",
   "execution_count": 5,
   "metadata": {
    "collapsed": true
   },
   "outputs": [],
   "source": [
    "stopwords = set(load_lines(aux_data_folder + 'stopwords_custom_quora.vocab'))"
   ]
  },
  {
   "cell_type": "markdown",
   "metadata": {},
   "source": [
    "## Load Tools"
   ]
  },
  {
   "cell_type": "code",
   "execution_count": 6,
   "metadata": {
    "collapsed": true
   },
   "outputs": [],
   "source": [
    "spellcheck_log = open(preproc_data_folder + 'spellcheck.log', 'w')"
   ]
  },
  {
   "cell_type": "code",
   "execution_count": 7,
   "metadata": {
    "collapsed": true
   },
   "outputs": [],
   "source": [
    "tokenizer = nltk.tokenize.RegexpTokenizer(r'\\w+')"
   ]
  },
  {
   "cell_type": "code",
   "execution_count": 8,
   "metadata": {},
   "outputs": [],
   "source": [
    "spellchecker = enchant.DictWithPWL(\"en_US\", aux_data_folder + 'fasttext.wiki.en.vocab')"
   ]
  },
  {
   "cell_type": "markdown",
   "metadata": {},
   "source": [
    "## Process"
   ]
  },
  {
   "cell_type": "code",
   "execution_count": 9,
   "metadata": {},
   "outputs": [],
   "source": [
    "def translate(text, translation):\n",
    "    for token, replacement in translation.items():\n",
    "        text = text.replace(token, ' ' + replacement + ' ')\n",
    "    text = text.replace('  ', ' ')\n",
    "    return text"
   ]
  },
  {
   "cell_type": "code",
   "execution_count": 10,
   "metadata": {
    "collapsed": true
   },
   "outputs": [],
   "source": [
    "def spell_digits(text):\n",
    "    translation = {\n",
    "        '0': 'zero',\n",
    "        '1': 'one',\n",
    "        '2': 'two',\n",
    "        '3': 'three',\n",
    "        '4': 'four',\n",
    "        '5': 'five',\n",
    "        '6': 'six',\n",
    "        '7': 'seven',\n",
    "        '8': 'nine',\n",
    "        '9': 'ten',\n",
    "    }\n",
    "    return translate(text, translation)"
   ]
  },
  {
   "cell_type": "code",
   "execution_count": 11,
   "metadata": {
    "collapsed": true
   },
   "outputs": [],
   "source": [
    "def expand_negations(text):\n",
    "    translation = {\n",
    "        \"can't\": 'can not',\n",
    "        \"won't\": 'would not',\n",
    "        \"shan't\": 'shall not',\n",
    "    }\n",
    "    text = translate(text, translation)\n",
    "    return text.replace(\"n't\", \" not\")"
   ]
  },
  {
   "cell_type": "code",
   "execution_count": 12,
   "metadata": {
    "collapsed": true
   },
   "outputs": [],
   "source": [
    "def get_best_suggestion(word):\n",
    "    suggestion_scores = {\n",
    "        suggestion: pylev.damerau_levenshtein(word, suggestion)\n",
    "        for suggestion in spellchecker.suggest(word)\n",
    "    }\n",
    "    if len(suggestion_scores) == 0:\n",
    "        return None\n",
    "    \n",
    "    best_suggestion = min(suggestion_scores, key=suggestion_scores.get)\n",
    "    if suggestion_scores[best_suggestion] > 4:\n",
    "        return None\n",
    "    \n",
    "    return best_suggestion"
   ]
  },
  {
   "cell_type": "code",
   "execution_count": 13,
   "metadata": {
    "collapsed": true
   },
   "outputs": [],
   "source": [
    "def correct_spelling(text):\n",
    "    tokens = tokenizer.tokenize(text)\n",
    "    corrected_tokens = []\n",
    "    \n",
    "    for token in tokens:\n",
    "        if not spellchecker.check(token):\n",
    "            correction = get_best_suggestion(token)\n",
    "            if correction:\n",
    "                corrected_tokens.append(correction.lower())\n",
    "                print('{} ---> {}'.format(token, correction), file=spellcheck_log, flush=True)\n",
    "            else:\n",
    "                corrected_tokens.append(token)\n",
    "        else:\n",
    "            corrected_tokens.append(token)\n",
    "    \n",
    "    return ' '.join(corrected_tokens)"
   ]
  },
  {
   "cell_type": "code",
   "execution_count": 14,
   "metadata": {
    "collapsed": true
   },
   "outputs": [],
   "source": [
    "def get_question_tokens(question):\n",
    "    question = question.lower()\n",
    "    question = spell_digits(question)\n",
    "    question = expand_negations(question)\n",
    "    question = correct_spelling(question)\n",
    "    return [token for token in tokenizer.tokenize(question) if token not in stopwords]"
   ]
  },
  {
   "cell_type": "code",
   "execution_count": 15,
   "metadata": {
    "collapsed": true
   },
   "outputs": [],
   "source": [
    "tokenized_train = []"
   ]
  },
  {
   "cell_type": "code",
   "execution_count": 16,
   "metadata": {},
   "outputs": [
    {
     "name": "stderr",
     "output_type": "stream",
     "text": [
      "Widget Javascript not detected.  It may not be installed or enabled properly.\n"
     ]
    },
    {
     "data": {
      "application/vnd.jupyter.widget-view+json": {
       "model_id": "8bade8f5671e49fe95467f2f5f485bba"
      }
     },
     "metadata": {},
     "output_type": "display_data"
    }
   ],
   "source": [
    "for index, row in progressbar(questions_train.iterrows(), size=len(questions_train)):\n",
    "    tokenized_train.append({\n",
    "        'id': row.id,\n",
    "        'question1': get_question_tokens(row.question1),\n",
    "        'question2': get_question_tokens(row.question2),\n",
    "    })\n",
    "    \n",
    "    if index % 20000 == 0:\n",
    "        save_json(tokenized_train, preproc_data_folder + 'question_tokens_train.json')"
   ]
  },
  {
   "cell_type": "code",
   "execution_count": 17,
   "metadata": {
    "collapsed": true
   },
   "outputs": [],
   "source": [
    "spellcheck_log.close()"
   ]
  },
  {
   "cell_type": "code",
   "execution_count": 18,
   "metadata": {},
   "outputs": [],
   "source": [
    "save_json(tokenized_train, preproc_data_folder + 'question_tokens_train.json')"
   ]
  }
 ],
 "metadata": {
  "kernelspec": {
   "display_name": "Python 3",
   "language": "python",
   "name": "python3"
  },
  "language_info": {
   "codemirror_mode": {
    "name": "ipython",
    "version": 3
   },
   "file_extension": ".py",
   "mimetype": "text/x-python",
   "name": "python",
   "nbconvert_exporter": "python",
   "pygments_lexer": "ipython3",
   "version": "3.6.0"
  }
 },
 "nbformat": 4,
 "nbformat_minor": 2
}
