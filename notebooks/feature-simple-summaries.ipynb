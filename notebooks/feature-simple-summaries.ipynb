{
 "cells": [
  {
   "cell_type": "markdown",
   "metadata": {},
   "source": [
    "## Imports"
   ]
  },
  {
   "cell_type": "code",
   "execution_count": null,
   "metadata": {
    "collapsed": true
   },
   "outputs": [],
   "source": [
    "import os"
   ]
  },
  {
   "cell_type": "markdown",
   "metadata": {},
   "source": [
    "## Config"
   ]
  },
  {
   "cell_type": "code",
   "execution_count": null,
   "metadata": {
    "collapsed": true
   },
   "outputs": [],
   "source": [
    "feature_list_id = 'simple_summaries'"
   ]
  },
  {
   "cell_type": "code",
   "execution_count": null,
   "metadata": {
    "collapsed": true
   },
   "outputs": [],
   "source": [
    "data_folder = os.path.abspath(os.path.join(os.curdir, os.pardir, 'data')) + os.path.sep\n",
    "aux_data_folder = os.path.join(data_folder, 'aux') + os.path.sep\n",
    "preproc_data_folder = os.path.join(data_folder, 'preproc') + os.path.sep\n",
    "features_data_folder = os.path.join(data_folder, 'features') + os.path.sep"
   ]
  },
  {
   "cell_type": "markdown",
   "metadata": {},
   "source": [
    "## Read Data"
   ]
  },
  {
   "cell_type": "code",
   "execution_count": null,
   "metadata": {
    "collapsed": true
   },
   "outputs": [],
   "source": [
    "df_questions_train = pd.read_csv(data_folder + 'train.csv').fillna('')\n",
    "df_questions_test = pd.read_csv(data_folder + 'test.csv').fillna('')"
   ]
  },
  {
   "cell_type": "code",
   "execution_count": null,
   "metadata": {
    "collapsed": true
   },
   "outputs": [],
   "source": [
    "question_tokens_train = load_json(preproc_data_folder + 'question_tokens_train.json')\n",
    "question_tokens_test = load_json(preproc_data_folder + 'question_tokens_test.json')"
   ]
  },
  {
   "cell_type": "markdown",
   "metadata": {},
   "source": [
    "## Build Features"
   ]
  },
  {
   "cell_type": "code",
   "execution_count": null,
   "metadata": {
    "collapsed": true
   },
   "outputs": [],
   "source": [
    "def word_share_ratio(q1_tokens, q2_tokens):\n",
    "    return 2 * len(set(q1_tokens) & set(q2_tokens)) / (len(set(q1_tokens)) + len(set(q2_tokens)))"
   ]
  },
  {
   "cell_type": "code",
   "execution_count": null,
   "metadata": {
    "collapsed": true
   },
   "outputs": [],
   "source": [
    "def word_difference_ratio(q1_tokens, q2_tokens):\n",
    "    return len(set(q1_tokens) ^ set(q2_tokens)) / (len(set(q1_tokens)) + len(set(q2_tokens)))"
   ]
  },
  {
   "cell_type": "code",
   "execution_count": null,
   "metadata": {
    "collapsed": true
   },
   "outputs": [],
   "source": [
    "def build_features(df_questions_original, questions_tokenized):\n",
    "    num_pairs = len(questions_tokenized)\n",
    "    num_features = 9\n",
    "    \n",
    "    X = np.zeros((num_pairs, num_features), dtype=float)\n",
    "    \n",
    "    for index, pair in progressbar(enumerate(questions_tokenized), size=num_pairs):\n",
    "        q1_original = df_questions_original.ix[pair['id']].question1\n",
    "        q2_original = df_questions_original.ix[pair['id']].question2\n",
    "\n",
    "        shorter_char_length = min(len(q1_original), len(q2_original))\n",
    "        longer_char_length = max(len(q1_original), len(q2_original))\n",
    "        \n",
    "        shorter_token_length = min(len(pair['question1']), len(pair['question2']))\n",
    "        longer_token_length = max(len(pair['question1']), len(pair['question2']))\n",
    "        \n",
    "        # Length of questions (in characters)\n",
    "        X[index, 0] = np.log(shorter_char_length + 1)\n",
    "        X[index, 1] = np.log(longer_char_length + 1)\n",
    "\n",
    "        # Length of questions (in tokens)\n",
    "        X[index, 2] = np.log(shorter_token_length + 1)\n",
    "        X[index, 3] = np.log(longer_token_length + 1)\n",
    "\n",
    "        # Difference of question length (in characters)\n",
    "        X[index, 4] = np.log(abs(longer_char_length - shorter_char_length) + 1)\n",
    "        \n",
    "        # Difference of question length (in tokens)\n",
    "        X[index, 5] = np.log(abs(longer_token_length - shorter_token_length) + 1)\n",
    "\n",
    "        # Ratio of question lengths (in characters)\n",
    "        X[index, 6] = shorter_char_length / longer_char_length\n",
    "        \n",
    "        # Ratio of question lengths (in tokens)\n",
    "        X[index, 7] = shorter_token_length / longer_token_length\n",
    "        \n",
    "        # Word difference ratio for question tokens.\n",
    "        X[index, 8] = word_difference_ratio(pair['question1'], pair['question2'])\n",
    "        \n",
    "    return X"
   ]
  },
  {
   "cell_type": "markdown",
   "metadata": {},
   "source": [
    "## Save feature names"
   ]
  },
  {
   "cell_type": "code",
   "execution_count": null,
   "metadata": {
    "collapsed": true
   },
   "outputs": [],
   "source": [
    "feature_names = [\n",
    "    'shorter_char_len_log',\n",
    "    'longer_char_len_log',\n",
    "    'shorter_token_len_log',\n",
    "    'longer_token_len_log',\n",
    "    'char_len_diff_log',\n",
    "    'token_len_diff_log',\n",
    "    'char_len_ratio',\n",
    "    'token_len_ratio',\n",
    "    'word_diff_ratio',\n",
    "]"
   ]
  },
  {
   "cell_type": "code",
   "execution_count": null,
   "metadata": {
    "collapsed": true
   },
   "outputs": [],
   "source": [
    "save_lines(feature_names, features_data_folder + f'X_train_{feature_list_id}.names')"
   ]
  },
  {
   "cell_type": "markdown",
   "metadata": {},
   "source": [
    "## Save features"
   ]
  },
  {
   "cell_type": "code",
   "execution_count": null,
   "metadata": {},
   "outputs": [],
   "source": [
    "X_train = build_features(df_questions_train, question_tokens_train)"
   ]
  },
  {
   "cell_type": "code",
   "execution_count": null,
   "metadata": {
    "collapsed": true
   },
   "outputs": [],
   "source": [
    "save(X_train, features_data_folder + f'X_train_{feature_list_id}.pickle')"
   ]
  },
  {
   "cell_type": "code",
   "execution_count": null,
   "metadata": {},
   "outputs": [],
   "source": [
    "X_test = build_features(df_questions_test, question_tokens_test)"
   ]
  },
  {
   "cell_type": "code",
   "execution_count": null,
   "metadata": {
    "collapsed": true
   },
   "outputs": [],
   "source": [
    "save(X_test, features_data_folder + f'X_test_{feature_list_id}.pickle')"
   ]
  }
 ],
 "metadata": {
  "kernelspec": {
   "display_name": "Python 3",
   "language": "python",
   "name": "python3"
  },
  "language_info": {
   "codemirror_mode": {
    "name": "ipython",
    "version": 3
   },
   "file_extension": ".py",
   "mimetype": "text/x-python",
   "name": "python",
   "nbconvert_exporter": "python",
   "pygments_lexer": "ipython3",
   "version": "3.6.0"
  }
 },
 "nbformat": 4,
 "nbformat_minor": 2
}
