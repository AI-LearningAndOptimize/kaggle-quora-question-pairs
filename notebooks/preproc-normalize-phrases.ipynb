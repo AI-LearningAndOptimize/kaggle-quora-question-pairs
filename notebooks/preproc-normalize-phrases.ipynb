{
 "cells": [
  {
   "cell_type": "markdown",
   "metadata": {},
   "source": [
    "## Imports"
   ]
  },
  {
   "cell_type": "code",
   "execution_count": 1,
   "metadata": {
    "collapsed": true
   },
   "outputs": [],
   "source": [
    "import os"
   ]
  },
  {
   "cell_type": "markdown",
   "metadata": {},
   "source": [
    "## Load Data"
   ]
  },
  {
   "cell_type": "code",
   "execution_count": 2,
   "metadata": {
    "collapsed": true
   },
   "outputs": [],
   "source": [
    "df_questions_train = pd.read_csv(data_folder + 'train.csv').fillna('none')\n",
    "df_questions_test = pd.read_csv(data_folder + 'test.csv').fillna('none')"
   ]
  },
  {
   "cell_type": "markdown",
   "metadata": {},
   "source": [
    "## Process"
   ]
  },
  {
   "cell_type": "code",
   "execution_count": 3,
   "metadata": {
    "collapsed": true
   },
   "outputs": [],
   "source": [
    "def normalize_question(q):\n",
    "    how_can_i_phrases = [\n",
    "        'How do I ',\n",
    "        'How do you ',\n",
    "        'How do we ',\n",
    "        'How does one ',\n",
    "        'How can you ',\n",
    "        'How can we ',\n",
    "        'How can one ',\n",
    "        'How could you ',\n",
    "        'How could we ',\n",
    "        'How could one ',\n",
    "        'How should you ',\n",
    "        'How should we ',\n",
    "        'How should one ',\n",
    "    ]\n",
    "    \n",
    "    can_i_phrases = [\n",
    "        'Can you ',\n",
    "        'Can we ',\n",
    "        'Can one ',\n",
    "        'Could you ',\n",
    "        'Could we ',\n",
    "        'Could one ',\n",
    "        'Should you ',\n",
    "        'Should we ',\n",
    "        'Should one ',\n",
    "    ]\n",
    "    \n",
    "    for phrase in how_can_i_phrases:\n",
    "        q = q.replace(phrase, 'How can I ')\n",
    "\n",
    "    for phrase in can_i_phrases:\n",
    "        q = q.replace(phrase, 'Can I ')\n",
    "\n",
    "    return q"
   ]
  },
  {
   "cell_type": "code",
   "execution_count": 4,
   "metadata": {},
   "outputs": [],
   "source": [
    "df_questions_train['question1'] = df_questions_train['question1'].map(normalize_question)\n",
    "df_questions_train['question2'] = df_questions_train['question2'].map(normalize_question)"
   ]
  },
  {
   "cell_type": "code",
   "execution_count": 5,
   "metadata": {
    "collapsed": true
   },
   "outputs": [],
   "source": [
    "df_questions_test['question1'] = df_questions_test['question1'].map(normalize_question)\n",
    "df_questions_test['question2'] = df_questions_test['question2'].map(normalize_question)"
   ]
  },
  {
   "cell_type": "markdown",
   "metadata": {},
   "source": [
    "## Save datasets"
   ]
  },
  {
   "cell_type": "code",
   "execution_count": 6,
   "metadata": {
    "collapsed": true
   },
   "outputs": [],
   "source": [
    "df_questions_train.to_csv(preproc_data_folder + 'train_norm_phrases.csv', header=True, index=None, quoting=1)\n",
    "df_questions_test.to_csv(preproc_data_folder + 'test_norm_phrases.csv', header=True, index=None, quoting=1)"
   ]
  }
 ],
 "metadata": {
  "kernelspec": {
   "display_name": "Python 3",
   "language": "python",
   "name": "python3"
  },
  "language_info": {
   "codemirror_mode": {
    "name": "ipython",
    "version": 3
   },
   "file_extension": ".py",
   "mimetype": "text/x-python",
   "name": "python",
   "nbconvert_exporter": "python",
   "pygments_lexer": "ipython3",
   "version": "3.6.0"
  }
 },
 "nbformat": 4,
 "nbformat_minor": 2
}
