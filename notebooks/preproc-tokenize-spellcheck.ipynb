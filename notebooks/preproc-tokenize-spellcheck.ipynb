{
 "cells": [
  {
   "cell_type": "markdown",
   "metadata": {},
   "source": [
    "# Preprocessing: Clean Up & Tokenize Questions"
   ]
  },
  {
   "cell_type": "markdown",
   "metadata": {},
   "source": [
    "Break question titles into tokens, and perform token-level normalization: expand shortened words, correct spelling, etc."
   ]
  },
  {
   "cell_type": "markdown",
   "metadata": {},
   "source": [
    "## Imports"
   ]
  },
  {
   "cell_type": "markdown",
   "metadata": {},
   "source": [
    "This utility package imports `numpy`, `pandas`, `matplotlib` and a helper `kg` module into the root namespace."
   ]
  },
  {
   "cell_type": "code",
   "execution_count": 1,
   "metadata": {
    "collapsed": true
   },
   "outputs": [],
   "source": [
    "from pygoose import *"
   ]
  },
  {
   "cell_type": "code",
   "execution_count": 2,
   "metadata": {
    "collapsed": true
   },
   "outputs": [],
   "source": [
    "import nltk"
   ]
  },
  {
   "cell_type": "markdown",
   "metadata": {},
   "source": [
    "## Config"
   ]
  },
  {
   "cell_type": "markdown",
   "metadata": {},
   "source": [
    "Automatically discover the paths to various data folders and compose the project structure."
   ]
  },
  {
   "cell_type": "code",
   "execution_count": 3,
   "metadata": {
    "collapsed": true
   },
   "outputs": [],
   "source": [
    "project = kg.Project.discover()"
   ]
  },
  {
   "cell_type": "markdown",
   "metadata": {},
   "source": [
    "## Load Data"
   ]
  },
  {
   "cell_type": "markdown",
   "metadata": {},
   "source": [
    "Original question datasets."
   ]
  },
  {
   "cell_type": "code",
   "execution_count": 4,
   "metadata": {
    "collapsed": true
   },
   "outputs": [],
   "source": [
    "df_train = pd.read_csv(project.data_dir + 'train.csv').fillna('none')\n",
    "df_test = pd.read_csv(project.data_dir + 'test.csv').fillna('none')"
   ]
  },
  {
   "cell_type": "markdown",
   "metadata": {},
   "source": [
    "Stopwords customized for Quora dataset."
   ]
  },
  {
   "cell_type": "code",
   "execution_count": 5,
   "metadata": {
    "collapsed": true
   },
   "outputs": [],
   "source": [
    "stopwords = set(kg.io.load_lines(project.aux_dir + 'stopwords.vocab'))"
   ]
  },
  {
   "cell_type": "markdown",
   "metadata": {},
   "source": [
    "Pre-composed spelling correction dictionary."
   ]
  },
  {
   "cell_type": "code",
   "execution_count": 6,
   "metadata": {
    "collapsed": true
   },
   "outputs": [],
   "source": [
    "spelling_corrections = kg.io.load_json(project.aux_dir + 'spelling_corrections.json')"
   ]
  },
  {
   "cell_type": "markdown",
   "metadata": {},
   "source": [
    "## Load Tools"
   ]
  },
  {
   "cell_type": "code",
   "execution_count": 7,
   "metadata": {
    "collapsed": true
   },
   "outputs": [],
   "source": [
    "tokenizer = nltk.tokenize.RegexpTokenizer(r'\\w+')"
   ]
  },
  {
   "cell_type": "markdown",
   "metadata": {},
   "source": [
    "## Preprocess and tokenize questions"
   ]
  },
  {
   "cell_type": "code",
   "execution_count": 8,
   "metadata": {
    "collapsed": true
   },
   "outputs": [],
   "source": [
    "def translate(text, translation):\n",
    "    for token, replacement in translation.items():\n",
    "        text = text.replace(token, ' ' + replacement + ' ')\n",
    "    text = text.replace('  ', ' ')\n",
    "    return text"
   ]
  },
  {
   "cell_type": "code",
   "execution_count": 9,
   "metadata": {
    "collapsed": true
   },
   "outputs": [],
   "source": [
    "def spell_digits(text):\n",
    "    translation = {\n",
    "        '0': 'zero',\n",
    "        '1': 'one',\n",
    "        '2': 'two',\n",
    "        '3': 'three',\n",
    "        '4': 'four',\n",
    "        '5': 'five',\n",
    "        '6': 'six',\n",
    "        '7': 'seven',\n",
    "        '8': 'nine',\n",
    "        '9': 'ten',\n",
    "    }\n",
    "    return translate(text, translation)"
   ]
  },
  {
   "cell_type": "code",
   "execution_count": 10,
   "metadata": {
    "collapsed": true
   },
   "outputs": [],
   "source": [
    "def expand_negations(text):\n",
    "    translation = {\n",
    "        \"can't\": 'can not',\n",
    "        \"won't\": 'would not',\n",
    "        \"shan't\": 'shall not',\n",
    "    }\n",
    "    text = translate(text, translation)\n",
    "    return text.replace(\"n't\", \" not\")"
   ]
  },
  {
   "cell_type": "code",
   "execution_count": 11,
   "metadata": {
    "collapsed": true
   },
   "outputs": [],
   "source": [
    "def correct_spelling(text):\n",
    "    return ' '.join(\n",
    "        spelling_corrections.get(token, token)\n",
    "        for token in tokenizer.tokenize(text)\n",
    "    )"
   ]
  },
  {
   "cell_type": "code",
   "execution_count": 12,
   "metadata": {
    "collapsed": true
   },
   "outputs": [],
   "source": [
    "def get_question_tokens(question):\n",
    "    question = question.lower()\n",
    "    question = spell_digits(question)\n",
    "    question = expand_negations(question)\n",
    "    question = correct_spelling(question)\n",
    "    \n",
    "    tokens = [token for token in tokenizer.tokenize(question.lower())]\n",
    "    tokens.append('.')\n",
    "    return tokens"
   ]
  },
  {
   "cell_type": "code",
   "execution_count": 13,
   "metadata": {
    "collapsed": true
   },
   "outputs": [],
   "source": [
    "def get_question_pair_tokens(row):\n",
    "    return [get_question_tokens(row[0]), get_question_tokens(row[1])]"
   ]
  },
  {
   "cell_type": "code",
   "execution_count": 14,
   "metadata": {
    "collapsed": true
   },
   "outputs": [],
   "source": [
    "def remove_stopwords(pair):\n",
    "    q1_tokens = [token for token in pair[0] if token not in stopwords]\n",
    "    q2_tokens = [token for token in pair[1] if token not in stopwords]\n",
    "    \n",
    "    return [q1_tokens, q2_tokens]"
   ]
  },
  {
   "cell_type": "markdown",
   "metadata": {},
   "source": [
    "Tokenize questions and correct spelling, keep the stopwords (useful for neural models)."
   ]
  },
  {
   "cell_type": "code",
   "execution_count": 15,
   "metadata": {},
   "outputs": [
    {
     "name": "stdout",
     "output_type": "stream",
     "text": [
      "Batches: 100%|██████████| 405/405 [00:02<00:00, 137.83it/s]\n"
     ]
    }
   ],
   "source": [
    "tokens_train = kg.jobs.map_batch_parallel(\n",
    "    df_train.as_matrix(columns=['question1', 'question2']),\n",
    "    item_mapper=get_question_pair_tokens,\n",
    "    batch_size=1000,\n",
    ")"
   ]
  },
  {
   "cell_type": "code",
   "execution_count": 16,
   "metadata": {},
   "outputs": [
    {
     "name": "stdout",
     "output_type": "stream",
     "text": [
      "Batches: 100%|██████████| 2346/2346 [00:29<00:00, 78.32it/s] \n"
     ]
    }
   ],
   "source": [
    "tokens_test = kg.jobs.map_batch_parallel(\n",
    "    df_test.as_matrix(columns=['question1', 'question2']),\n",
    "    item_mapper=get_question_pair_tokens,\n",
    "    batch_size=1000,\n",
    ")"
   ]
  },
  {
   "cell_type": "markdown",
   "metadata": {},
   "source": [
    "Build an alternative token set, with stopwords removed."
   ]
  },
  {
   "cell_type": "code",
   "execution_count": 17,
   "metadata": {},
   "outputs": [
    {
     "name": "stdout",
     "output_type": "stream",
     "text": [
      "Batches: 100%|██████████| 405/405 [00:03<00:00, 113.01it/s]\n"
     ]
    }
   ],
   "source": [
    "tokens_train_no_stopwords = kg.jobs.map_batch_parallel(\n",
    "    tokens_train,\n",
    "    item_mapper=remove_stopwords,\n",
    "    batch_size=1000,\n",
    ")"
   ]
  },
  {
   "cell_type": "code",
   "execution_count": 18,
   "metadata": {},
   "outputs": [
    {
     "name": "stdout",
     "output_type": "stream",
     "text": [
      "Batches: 100%|██████████| 2346/2346 [00:24<00:00, 96.31it/s] \n"
     ]
    }
   ],
   "source": [
    "tokens_test_no_stopwords = kg.jobs.map_batch_parallel(\n",
    "    tokens_test,\n",
    "    item_mapper=remove_stopwords,\n",
    "    batch_size=1000,\n",
    ")"
   ]
  },
  {
   "cell_type": "markdown",
   "metadata": {},
   "source": [
    "## Extract question vocabulary"
   ]
  },
  {
   "cell_type": "code",
   "execution_count": 19,
   "metadata": {},
   "outputs": [
    {
     "name": "stderr",
     "output_type": "stream",
     "text": [
      "100%|██████████| 5500172/5500172 [00:11<00:00, 470564.09it/s]\n"
     ]
    }
   ],
   "source": [
    "vocab = set()\n",
    "for question in progressbar(np.array(tokens_train + tokens_test).ravel()):\n",
    "    for token in question:\n",
    "        vocab.add(token)"
   ]
  },
  {
   "cell_type": "code",
   "execution_count": 20,
   "metadata": {
    "collapsed": true
   },
   "outputs": [],
   "source": [
    "vocab_no_stopwords = vocab - stopwords"
   ]
  },
  {
   "cell_type": "markdown",
   "metadata": {},
   "source": [
    "## Save preprocessed data"
   ]
  },
  {
   "cell_type": "markdown",
   "metadata": {},
   "source": [
    "Tokenized questions."
   ]
  },
  {
   "cell_type": "code",
   "execution_count": 21,
   "metadata": {
    "collapsed": true
   },
   "outputs": [],
   "source": [
    "kg.io.save(tokens_train, project.preprocessed_data_dir + 'question_tokens_train.pickle')"
   ]
  },
  {
   "cell_type": "code",
   "execution_count": 22,
   "metadata": {
    "collapsed": true
   },
   "outputs": [],
   "source": [
    "kg.io.save(tokens_test, project.preprocessed_data_dir + 'question_tokens_test.pickle')"
   ]
  },
  {
   "cell_type": "code",
   "execution_count": 23,
   "metadata": {
    "collapsed": true
   },
   "outputs": [],
   "source": [
    "kg.io.save(tokens_train_no_stopwords, project.preprocessed_data_dir + 'question_tokens_train_no_stopwords.pickle')"
   ]
  },
  {
   "cell_type": "code",
   "execution_count": 24,
   "metadata": {
    "collapsed": true
   },
   "outputs": [],
   "source": [
    "kg.io.save(tokens_test_no_stopwords, project.preprocessed_data_dir + 'question_tokens_test_no_stopwords.pickle')"
   ]
  },
  {
   "cell_type": "markdown",
   "metadata": {},
   "source": [
    "Question vocabulary."
   ]
  },
  {
   "cell_type": "code",
   "execution_count": 25,
   "metadata": {
    "collapsed": true
   },
   "outputs": [],
   "source": [
    "kg.io.save_lines(sorted(list(vocab)), project.preprocessed_data_dir + 'question_tokens.vocab')"
   ]
  },
  {
   "cell_type": "code",
   "execution_count": 26,
   "metadata": {
    "collapsed": true
   },
   "outputs": [],
   "source": [
    "kg.io.save_lines(sorted(list(vocab_no_stopwords)), project.preprocessed_data_dir + 'question_tokens_no_stopwords.vocab')"
   ]
  },
  {
   "cell_type": "markdown",
   "metadata": {},
   "source": [
    "Ground truth."
   ]
  },
  {
   "cell_type": "code",
   "execution_count": 27,
   "metadata": {
    "collapsed": true
   },
   "outputs": [],
   "source": [
    "kg.io.save(df_train['is_duplicate'].values, project.features_dir + 'y_train.pickle')"
   ]
  }
 ],
 "metadata": {
  "kernelspec": {
   "display_name": "Python 3",
   "language": "python",
   "name": "python3"
  },
  "language_info": {
   "codemirror_mode": {
    "name": "ipython",
    "version": 3
   },
   "file_extension": ".py",
   "mimetype": "text/x-python",
   "name": "python",
   "nbconvert_exporter": "python",
   "pygments_lexer": "ipython3",
   "version": "3.6.1"
  }
 },
 "nbformat": 4,
 "nbformat_minor": 2
}
