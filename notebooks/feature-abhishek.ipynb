{
 "cells": [
  {
   "cell_type": "markdown",
   "metadata": {},
   "source": [
    "## Imports"
   ]
  },
  {
   "cell_type": "code",
   "execution_count": null,
   "metadata": {
    "collapsed": true
   },
   "outputs": [],
   "source": []
  },
  {
   "cell_type": "markdown",
   "metadata": {},
   "source": [
    "## Config"
   ]
  },
  {
   "cell_type": "code",
   "execution_count": 1,
   "metadata": {
    "collapsed": true
   },
   "outputs": [],
   "source": [
    "feature_list_id = 'abhishek'"
   ]
  },
  {
   "cell_type": "markdown",
   "metadata": {},
   "source": [
    "## Read Data"
   ]
  },
  {
   "cell_type": "code",
   "execution_count": 2,
   "metadata": {
    "collapsed": true
   },
   "outputs": [],
   "source": [
    "df_train = pd.read_csv(aux_data_folder + 'abhishek_features_train.csv', encoding='ISO-8859-1')\n",
    "df_test = pd.read_csv(aux_data_folder + 'abhishek_features_test.csv', encoding='ISO-8859-1')"
   ]
  },
  {
   "cell_type": "markdown",
   "metadata": {},
   "source": [
    "## Build Features"
   ]
  },
  {
   "cell_type": "code",
   "execution_count": 3,
   "metadata": {},
   "outputs": [
    {
     "data": {
      "text/plain": [
       "['question1',\n",
       " 'question2',\n",
       " 'len_q1',\n",
       " 'len_q2',\n",
       " 'diff_len',\n",
       " 'len_char_q1',\n",
       " 'len_char_q2',\n",
       " 'len_word_q1',\n",
       " 'len_word_q2',\n",
       " 'common_words',\n",
       " 'fuzz_qratio',\n",
       " 'fuzz_WRatio',\n",
       " 'fuzz_partial_ratio',\n",
       " 'fuzz_partial_token_set_ratio',\n",
       " 'fuzz_partial_token_sort_ratio',\n",
       " 'fuzz_token_set_ratio',\n",
       " 'fuzz_token_sort_ratio',\n",
       " 'wmd',\n",
       " 'norm_wmd',\n",
       " 'cosine_distance',\n",
       " 'cityblock_distance',\n",
       " 'jaccard_distance',\n",
       " 'canberra_distance',\n",
       " 'euclidean_distance',\n",
       " 'minkowski_distance',\n",
       " 'braycurtis_distance',\n",
       " 'skew_q1vec',\n",
       " 'skew_q2vec',\n",
       " 'kur_q1vec',\n",
       " 'kur_q2vec']"
      ]
     },
     "execution_count": 3,
     "metadata": {},
     "output_type": "execute_result"
    }
   ],
   "source": [
    "df_train.columns.tolist()"
   ]
  },
  {
   "cell_type": "markdown",
   "metadata": {},
   "source": [
    "## Save feature names"
   ]
  },
  {
   "cell_type": "code",
   "execution_count": 4,
   "metadata": {
    "collapsed": true
   },
   "outputs": [],
   "source": [
    "columns_to_keep = [\n",
    "    'common_words',\n",
    "    'fuzz_qratio',\n",
    "    'fuzz_WRatio',\n",
    "    'wmd',\n",
    "    'norm_wmd',\n",
    "    'cosine_distance',\n",
    "    'cityblock_distance',\n",
    "    'jaccard_distance',\n",
    "    'canberra_distance',\n",
    "    'euclidean_distance',\n",
    "    'minkowski_distance',\n",
    "    'braycurtis_distance',\n",
    "    'skew_q1vec',\n",
    "    'skew_q2vec',\n",
    "    'kur_q1vec',\n",
    "    'kur_q2vec',\n",
    "]"
   ]
  },
  {
   "cell_type": "code",
   "execution_count": 5,
   "metadata": {
    "collapsed": true
   },
   "outputs": [],
   "source": [
    "X_train = df_train[columns_to_keep]\n",
    "X_test = df_test[columns_to_keep]"
   ]
  },
  {
   "cell_type": "code",
   "execution_count": 6,
   "metadata": {
    "collapsed": true
   },
   "outputs": [],
   "source": [
    "feature_names = [\n",
    "    'abh_' + column_name\n",
    "    for column_name in columns_to_keep\n",
    "]"
   ]
  },
  {
   "cell_type": "code",
   "execution_count": 7,
   "metadata": {
    "collapsed": true
   },
   "outputs": [],
   "source": [
    "save_lines(feature_names, features_data_folder + f'X_train_{feature_list_id}.names')"
   ]
  },
  {
   "cell_type": "markdown",
   "metadata": {},
   "source": [
    "## Save features"
   ]
  },
  {
   "cell_type": "code",
   "execution_count": 8,
   "metadata": {
    "collapsed": true
   },
   "outputs": [],
   "source": [
    "save(X_train.values, features_data_folder + f'X_train_{feature_list_id}.pickle')"
   ]
  },
  {
   "cell_type": "code",
   "execution_count": 9,
   "metadata": {
    "collapsed": true
   },
   "outputs": [],
   "source": [
    "save(X_test.values, features_data_folder + f'X_test_{feature_list_id}.pickle')"
   ]
  }
 ],
 "metadata": {
  "kernelspec": {
   "display_name": "Python 3",
   "language": "python",
   "name": "python3"
  },
  "language_info": {
   "codemirror_mode": {
    "name": "ipython",
    "version": 3
   },
   "file_extension": ".py",
   "mimetype": "text/x-python",
   "name": "python",
   "nbconvert_exporter": "python",
   "pygments_lexer": "ipython3",
   "version": "3.6.0"
  },
  "widgets": {
   "state": {
    "068574a6e5cf4bfb8a8766f228dc3517": {
     "views": [
      {
       "cell_index": 28
      }
     ]
    },
    "09c14bf4363c4816ac7017c9965fc1bd": {
     "views": [
      {
       "cell_index": 28
      }
     ]
    },
    "15522c84f8174a5e9751c5c25803fcf5": {
     "views": [
      {
       "cell_index": 23
      }
     ]
    },
    "21cc92d9f9a64f92a6043a0c8a12a657": {
     "views": [
      {
       "cell_index": 23
      }
     ]
    },
    "21eeeabc43bb4199a1048aa4584d353c": {
     "views": [
      {
       "cell_index": 23
      }
     ]
    },
    "25e9905debef47fcb005c8d696680424": {
     "views": [
      {
       "cell_index": 23
      }
     ]
    },
    "2b0e90300a1f4ab28be065bbc3864b80": {
     "views": [
      {
       "cell_index": 23
      }
     ]
    },
    "2d1133ed035d49a68c98a6b18b178656": {
     "views": [
      {
       "cell_index": 23
      }
     ]
    },
    "394af33ab0d044268d4eeb73139f7b37": {
     "views": [
      {
       "cell_index": 23
      }
     ]
    },
    "3e588e54a6414b95ba816c41081e31d6": {
     "views": [
      {
       "cell_index": 28
      }
     ]
    },
    "4bba185d13a14d698a61f3e3519c63fd": {
     "views": [
      {
       "cell_index": 23
      }
     ]
    },
    "679a1f080a154ceeb9e2609a1ce71704": {
     "views": [
      {
       "cell_index": 28
      }
     ]
    },
    "6e1256e2abe74c0ab4b0dc5ddf2b7bc6": {
     "views": [
      {
       "cell_index": 28
      }
     ]
    },
    "8c7b849999b147aa9a6a101c1a53e338": {
     "views": [
      {
       "cell_index": 23
      }
     ]
    },
    "8dd895d7431b4967aa0c4d03c46c8127": {
     "views": [
      {
       "cell_index": 28
      }
     ]
    },
    "916040f5b64345abaac3f238416ab1c9": {
     "views": [
      {
       "cell_index": 28
      }
     ]
    },
    "9987ad0d05564b4f95e00b2ea39765df": {
     "views": [
      {
       "cell_index": 23
      }
     ]
    },
    "a2d1c3889f0e45fdbec97496fc4ad878": {
     "views": [
      {
       "cell_index": 28
      }
     ]
    },
    "aff6ddc72148443da10a73512c0982a1": {
     "views": [
      {
       "cell_index": 28
      }
     ]
    },
    "b1ff32f69dae4892a732a8adef6344fc": {
     "views": [
      {
       "cell_index": 28
      }
     ]
    },
    "b4e83e55092a4250ba23a885609e8400": {
     "views": [
      {
       "cell_index": 28
      }
     ]
    },
    "b98e54779e534a9689ac3aaffbfd5a6c": {
     "views": [
      {
       "cell_index": 23
      }
     ]
    },
    "bad51d2b7d1c427e86c66dadb743fc4b": {
     "views": [
      {
       "cell_index": 23
      }
     ]
    },
    "c2e66ab21ab84c709264eef184db1509": {
     "views": [
      {
       "cell_index": 23
      }
     ]
    },
    "c42eaf61b2604250928b0d505c4c6413": {
     "views": [
      {
       "cell_index": 28
      }
     ]
    },
    "cd66b0f3b4bf49a5bcd1db0a2c3f452d": {
     "views": [
      {
       "cell_index": 28
      }
     ]
    },
    "d5c8503f198d4a0d856487c566a5ae43": {
     "views": [
      {
       "cell_index": 28
      }
     ]
    },
    "e124726908104334ba3324eb86f09bc4": {
     "views": [
      {
       "cell_index": 23
      }
     ]
    },
    "eef21b8574c04fb4a0ee907064b8a635": {
     "views": [
      {
       "cell_index": 23
      }
     ]
    },
    "fda965ad56df4353b6e963d29e3f1700": {
     "views": [
      {
       "cell_index": 23
      }
     ]
    }
   },
   "version": "1.2.0"
  }
 },
 "nbformat": 4,
 "nbformat_minor": 2
}
